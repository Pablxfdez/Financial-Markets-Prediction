{
  "cells": [
    {
      "cell_type": "code",
      "execution_count": 1,
      "metadata": {
        "id": "zMSayCXQBA26"
      },
      "outputs": [],
      "source": [
        "\n",
        "import math # Mathematical functions\n",
        "import numpy as np # Fundamental package for scientific computing with Python\n",
        "import pandas as pd # Additional functions for analysing and manipulating data\n",
        "from datetime import date # Date Functions\n",
        "import matplotlib.pyplot as plt # Important package for visualization - we use this to plot the market data\n",
        "import matplotlib.dates as mdates # Formatting dates\n",
        "from sklearn.metrics import mean_absolute_error, mean_squared_error # Packages for measuring model performance / errors\n",
        "import tensorflow as tf\n",
        "from tensorflow.keras.models import Sequential # Deep learning library, used for neural networks\n",
        "from tensorflow.keras.layers import LSTM, Dense, Dropout # Deep learning classes for recurrent and regular densely-connected layers\n",
        "from tensorflow.keras.callbacks import EarlyStopping # EarlyStopping during model training\n",
        "from sklearn.preprocessing import RobustScaler, MinMaxScaler # This Scaler removes the median and scales the data according to the quantile range to normalize the price data\n",
        "#from keras.optimizers import Adam # For detailed configuration of the optimizer\n",
        "import seaborn as sns # Visualization\n",
        "plt.rcParams[\"grid.color\"] = \"k\"  # Esto pone una cuadrícula con líneas de color negro\n",
        "plt.rcParams[\"grid.alpha\"] = 0.1  # Esto hace que las líneas de la cuadrícula sean muy transparentes\n",
        "%matplotlib inline\n",
        "from google.colab import files\n",
        "from sklearn.preprocessing import MinMaxScaler, StandardScaler, RobustScaler, MaxAbsScaler\n"
      ]
    },
    {
      "cell_type": "code",
      "execution_count": 2,
      "metadata": {
        "id": "QCJuCXRNBA2_"
      },
      "outputs": [],
      "source": [
        "daily_variables = ['Open', 'Close', 'High', 'Low', 'Volume', 'MA1', 'MA2', 'Market Cap']\n",
        "indicators = ['RSI', 'EMA14', 'EMA50', 'MACD', 'ADX', 'CMF', 'SO', 'LBOLLINGER', 'HBOLLINGER', 'FI']\n",
        "daily_variables.extend(indicators)\n",
        "\n",
        "dataframes = {}\n",
        "lagged_dataframes = {}\n",
        "stationary_dataframes = {}\n",
        "lagged_stationary_dataframes = {}\n"
      ]
    },
    {
      "cell_type": "code",
      "execution_count": 3,
      "metadata": {
        "id": "kduEXC8IOHNH"
      },
      "outputs": [],
      "source": [
        "brands = ['F', 'GM', 'TSLA', 'RACE', 'TM', 'HMC' ]"
      ]
    },
    {
      "attachments": {},
      "cell_type": "markdown",
      "metadata": {},
      "source": [
        "La función set_index establece la columna 'Date' como índice de un DataFrame, convierte los valores del índice a objetos de tipo datetime y devuelve el DataFrame modificado. Para usarla, llama a la función pasando el DataFrame como argumento."
      ]
    },
    {
      "cell_type": "code",
      "execution_count": 4,
      "metadata": {
        "id": "ePInl8lUBA3A"
      },
      "outputs": [],
      "source": [
        "def set_index(df):\n",
        "   \n",
        "   df = df.set_index('Date')\n",
        "   df.index.name = 'Date'\n",
        "   df.index = pd.to_datetime(df.index)\n",
        "   return df\n"
      ]
    },
    {
      "cell_type": "code",
      "execution_count": 5,
      "metadata": {
        "colab": {
          "base_uri": "https://localhost:8080/"
        },
        "id": "d-rV3vpRBA3A",
        "outputId": "49fe118e-8849-43ed-8853-91525977e880"
      },
      "outputs": [
        {
          "name": "stdout",
          "output_type": "stream",
          "text": [
            "Mounted at /content/drive\n"
          ]
        }
      ],
      "source": [
        "from google.colab import drive\n",
        "drive.mount('/content/drive')"
      ]
    },
    {
      "cell_type": "code",
      "execution_count": 6,
      "metadata": {
        "id": "xvrIKVKPBA3B"
      },
      "outputs": [],
      "source": [
        "for brand in brands:\n",
        "   df = pd.read_csv(f'/content/drive/MyDrive/TFG/Merged_Data/{brand}-merged.csv')\n",
        "   dataframes[brand] = set_index(df)\n",
        "   df = pd.read_csv(f'/content/drive/MyDrive/TFG/Lags/Non_Stationary/{brand}_lagged_non_stationary.csv')\n",
        "   lagged_dataframes[brand] = set_index(df)\n",
        "   df = pd.read_csv(f'/content/drive/MyDrive/TFG/Estacionaridad/{brand}_stationary.csv')\n",
        "   stationary_dataframes[brand] = set_index(df)\n",
        "   df = pd.read_csv(f'/content/drive/MyDrive/TFG/Lags/Stationary/{brand}_lagged_stationary.csv')\n",
        "   lagged_stationary_dataframes[brand] = set_index(df)"
      ]
    },
    {
      "attachments": {},
      "cell_type": "markdown",
      "metadata": {},
      "source": [
        "El código calcula y muestra la varianza del último 20% de los datos en la columna 'Target' de cada DataFrame en el diccionario dataframes."
      ]
    },
    {
      "cell_type": "code",
      "execution_count": 7,
      "metadata": {
        "colab": {
          "base_uri": "https://localhost:8080/"
        },
        "id": "KQERd_OEhFzs",
        "outputId": "1f6f1e08-3c04-4caf-ef6e-bd7fa756af9a"
      },
      "outputs": [
        {
          "name": "stdout",
          "output_type": "stream",
          "text": [
            "Para la marca F, la varianza del último 20% de los datos es: 14.18423797671122\n",
            "Para la marca GM, la varianza del último 20% de los datos es: 102.44868782965803\n",
            "Para la marca TSLA, la varianza del último 20% de los datos es: 3940.5612015681045\n",
            "Para la marca RACE, la varianza del último 20% de los datos es: 1073.1962046320832\n",
            "Para la marca TM, la varianza del último 20% de los datos es: 421.23846998389894\n",
            "Para la marca HMC, la varianza del último 20% de los datos es: 6.945305419018702\n"
          ]
        }
      ],
      "source": [
        "# Ahora, calcula y muestra la varianza para el último 20% de los datos en la columna 'Target' en cada dataframe\n",
        "for brand, dataframe in dataframes.items():\n",
        "   # Selecciona el último 20% de las filas\n",
        "   last_20_percent = dataframe['Target'].tail(int(len(dataframe) * 0.2))\n",
        "\n",
        "   # Calcula la varianza para el último 20% de las filas\n",
        "   variance = last_20_percent.var()\n",
        "\n",
        "   print(f'Para la marca {brand}, la varianza del último 20% de los datos es: {variance}')"
      ]
    },
    {
      "attachments": {},
      "cell_type": "markdown",
      "metadata": {},
      "source": [
        "\n",
        "La función count_inf cuenta la cantidad de valores infinitos en un DataFrame. Para usarla, llama a la función count_inf pasando el DataFrame como argumento. Luego, se itera sobre una lista llamada brands, y para cada marca en esa lista, se crea una copia del DataFrame correspondiente, se aplica la función count_inf a cada columna del DataFrame, se filtran los valores mayores a 0 y se imprime el resultado. "
      ]
    },
    {
      "cell_type": "code",
      "execution_count": null,
      "metadata": {
        "colab": {
          "base_uri": "https://localhost:8080/"
        },
        "id": "fzCWgyGihk28",
        "outputId": "ab256ac1-0dd1-46f6-a0c0-05d40a747333"
      },
      "outputs": [
        {
          "name": "stdout",
          "output_type": "stream",
          "text": [
            "F Series([], dtype: int64)\n",
            "GM Series([], dtype: int64)\n",
            "TSLA Series([], dtype: int64)\n",
            "RACE Series([], dtype: int64)\n",
            "TM Series([], dtype: int64)\n",
            "HMC Series([], dtype: int64)\n"
          ]
        }
      ],
      "source": [
        "import numpy as np\n",
        "import pandas as pd\n",
        "\n",
        "# suponiendo que df es el dataframe\n",
        "def count_inf(df):\n",
        "    return ((df == np.inf) | (df == -np.inf)).sum()\n",
        "\n",
        "for brand in brands:\n",
        "\n",
        "  df = stationary_dataframes[brand].copy()\n",
        "\n",
        "  inf_count = df.apply(count_inf)\n",
        "  inf_count = inf_count[inf_count > 0]\n",
        "\n",
        "  print(brand, inf_count)\n",
        "\n"
      ]
    },
    {
      "attachments": {},
      "cell_type": "markdown",
      "metadata": {
        "id": "sTSP6Kz2Zqfq"
      },
      "source": [
        "# FEATURE SELECTION\n"
      ]
    },
    {
      "attachments": {},
      "cell_type": "markdown",
      "metadata": {
        "id": "ALSkFpdyZtEg"
      },
      "source": [
        "LASSO"
      ]
    },
    {
      "attachments": {},
      "cell_type": "markdown",
      "metadata": {},
      "source": [
        "Este código realiza la selección de características utilizando Lasso y validación cruzada. Para cada marca en la lista brands, se ajusta un modelo Lasso con diferentes valores de alpha y se seleccionan las características más importantes. Finalmente, se muestra una gráfica del puntaje de validación cruzada en función de alpha para cada marca. "
      ]
    },
    {
      "cell_type": "code",
      "execution_count": null,
      "metadata": {
        "colab": {
          "base_uri": "https://localhost:8080/",
          "height": 415
        },
        "id": "hdE8tJ33eLLw",
        "outputId": "962a1f90-3978-4876-863a-d137d4abf68d"
      },
      "outputs": [
        {
          "name": "stdout",
          "output_type": "stream",
          "text": [
            "Stationary DataFrames:-------------------------------------------------------\n"
          ]
        },
        {
          "ename": "KeyboardInterrupt",
          "evalue": "ignored",
          "output_type": "error",
          "traceback": [
            "\u001b[0;31m---------------------------------------------------------------------------\u001b[0m",
            "\u001b[0;31mKeyboardInterrupt\u001b[0m                         Traceback (most recent call last)",
            "\u001b[0;32m<ipython-input-173-4f5238cfaf48>\u001b[0m in \u001b[0;36m<cell line: 12>\u001b[0;34m()\u001b[0m\n\u001b[1;32m     44\u001b[0m     \u001b[0;31m# Define the grid search\u001b[0m\u001b[0;34m\u001b[0m\u001b[0;34m\u001b[0m\u001b[0m\n\u001b[1;32m     45\u001b[0m     \u001b[0mgrid\u001b[0m \u001b[0;34m=\u001b[0m \u001b[0mGridSearchCV\u001b[0m\u001b[0;34m(\u001b[0m\u001b[0mestimator\u001b[0m\u001b[0;34m=\u001b[0m\u001b[0mlasso\u001b[0m\u001b[0;34m,\u001b[0m \u001b[0mparam_grid\u001b[0m\u001b[0;34m=\u001b[0m\u001b[0mdict\u001b[0m\u001b[0;34m(\u001b[0m\u001b[0malpha\u001b[0m\u001b[0;34m=\u001b[0m\u001b[0malphas\u001b[0m\u001b[0;34m)\u001b[0m\u001b[0;34m,\u001b[0m \u001b[0mcv\u001b[0m\u001b[0;34m=\u001b[0m\u001b[0mtscv\u001b[0m\u001b[0;34m,\u001b[0m \u001b[0mn_jobs\u001b[0m \u001b[0;34m=\u001b[0m \u001b[0;34m-\u001b[0m\u001b[0;36m1\u001b[0m\u001b[0;34m,\u001b[0m \u001b[0mreturn_train_score\u001b[0m\u001b[0;34m=\u001b[0m\u001b[0;32mTrue\u001b[0m\u001b[0;34m)\u001b[0m\u001b[0;34m\u001b[0m\u001b[0;34m\u001b[0m\u001b[0m\n\u001b[0;32m---> 46\u001b[0;31m     \u001b[0mgrid\u001b[0m\u001b[0;34m.\u001b[0m\u001b[0mfit\u001b[0m\u001b[0;34m(\u001b[0m\u001b[0mdf_features_scaled\u001b[0m\u001b[0;34m,\u001b[0m \u001b[0mdf_target_scaled\u001b[0m\u001b[0;34m)\u001b[0m\u001b[0;34m\u001b[0m\u001b[0;34m\u001b[0m\u001b[0m\n\u001b[0m\u001b[1;32m     47\u001b[0m     \u001b[0;31m# Print the best alpha\u001b[0m\u001b[0;34m\u001b[0m\u001b[0;34m\u001b[0m\u001b[0m\n\u001b[1;32m     48\u001b[0m     \u001b[0mprint\u001b[0m\u001b[0;34m(\u001b[0m\u001b[0;34m'Best alpha: '\u001b[0m\u001b[0;34m,\u001b[0m \u001b[0mgrid\u001b[0m\u001b[0;34m.\u001b[0m\u001b[0mbest_estimator_\u001b[0m\u001b[0;34m.\u001b[0m\u001b[0malpha\u001b[0m\u001b[0;34m)\u001b[0m\u001b[0;34m\u001b[0m\u001b[0;34m\u001b[0m\u001b[0m\n",
            "\u001b[0;32m/usr/local/lib/python3.10/dist-packages/sklearn/model_selection/_search.py\u001b[0m in \u001b[0;36mfit\u001b[0;34m(self, X, y, groups, **fit_params)\u001b[0m\n\u001b[1;32m    872\u001b[0m                 \u001b[0;32mreturn\u001b[0m \u001b[0mresults\u001b[0m\u001b[0;34m\u001b[0m\u001b[0;34m\u001b[0m\u001b[0m\n\u001b[1;32m    873\u001b[0m \u001b[0;34m\u001b[0m\u001b[0m\n\u001b[0;32m--> 874\u001b[0;31m             \u001b[0mself\u001b[0m\u001b[0;34m.\u001b[0m\u001b[0m_run_search\u001b[0m\u001b[0;34m(\u001b[0m\u001b[0mevaluate_candidates\u001b[0m\u001b[0;34m)\u001b[0m\u001b[0;34m\u001b[0m\u001b[0;34m\u001b[0m\u001b[0m\n\u001b[0m\u001b[1;32m    875\u001b[0m \u001b[0;34m\u001b[0m\u001b[0m\n\u001b[1;32m    876\u001b[0m             \u001b[0;31m# multimetric is determined here because in the case of a callable\u001b[0m\u001b[0;34m\u001b[0m\u001b[0;34m\u001b[0m\u001b[0m\n",
            "\u001b[0;32m/usr/local/lib/python3.10/dist-packages/sklearn/model_selection/_search.py\u001b[0m in \u001b[0;36m_run_search\u001b[0;34m(self, evaluate_candidates)\u001b[0m\n\u001b[1;32m   1386\u001b[0m     \u001b[0;32mdef\u001b[0m \u001b[0m_run_search\u001b[0m\u001b[0;34m(\u001b[0m\u001b[0mself\u001b[0m\u001b[0;34m,\u001b[0m \u001b[0mevaluate_candidates\u001b[0m\u001b[0;34m)\u001b[0m\u001b[0;34m:\u001b[0m\u001b[0;34m\u001b[0m\u001b[0;34m\u001b[0m\u001b[0m\n\u001b[1;32m   1387\u001b[0m         \u001b[0;34m\"\"\"Search all candidates in param_grid\"\"\"\u001b[0m\u001b[0;34m\u001b[0m\u001b[0;34m\u001b[0m\u001b[0m\n\u001b[0;32m-> 1388\u001b[0;31m         \u001b[0mevaluate_candidates\u001b[0m\u001b[0;34m(\u001b[0m\u001b[0mParameterGrid\u001b[0m\u001b[0;34m(\u001b[0m\u001b[0mself\u001b[0m\u001b[0;34m.\u001b[0m\u001b[0mparam_grid\u001b[0m\u001b[0;34m)\u001b[0m\u001b[0;34m)\u001b[0m\u001b[0;34m\u001b[0m\u001b[0;34m\u001b[0m\u001b[0m\n\u001b[0m\u001b[1;32m   1389\u001b[0m \u001b[0;34m\u001b[0m\u001b[0m\n\u001b[1;32m   1390\u001b[0m \u001b[0;34m\u001b[0m\u001b[0m\n",
            "\u001b[0;32m/usr/local/lib/python3.10/dist-packages/sklearn/model_selection/_search.py\u001b[0m in \u001b[0;36mevaluate_candidates\u001b[0;34m(candidate_params, cv, more_results)\u001b[0m\n\u001b[1;32m    819\u001b[0m                     )\n\u001b[1;32m    820\u001b[0m \u001b[0;34m\u001b[0m\u001b[0m\n\u001b[0;32m--> 821\u001b[0;31m                 out = parallel(\n\u001b[0m\u001b[1;32m    822\u001b[0m                     delayed(_fit_and_score)(\n\u001b[1;32m    823\u001b[0m                         \u001b[0mclone\u001b[0m\u001b[0;34m(\u001b[0m\u001b[0mbase_estimator\u001b[0m\u001b[0;34m)\u001b[0m\u001b[0;34m,\u001b[0m\u001b[0;34m\u001b[0m\u001b[0;34m\u001b[0m\u001b[0m\n",
            "\u001b[0;32m/usr/local/lib/python3.10/dist-packages/sklearn/utils/parallel.py\u001b[0m in \u001b[0;36m__call__\u001b[0;34m(self, iterable)\u001b[0m\n\u001b[1;32m     61\u001b[0m             \u001b[0;32mfor\u001b[0m \u001b[0mdelayed_func\u001b[0m\u001b[0;34m,\u001b[0m \u001b[0margs\u001b[0m\u001b[0;34m,\u001b[0m \u001b[0mkwargs\u001b[0m \u001b[0;32min\u001b[0m \u001b[0miterable\u001b[0m\u001b[0;34m\u001b[0m\u001b[0;34m\u001b[0m\u001b[0m\n\u001b[1;32m     62\u001b[0m         )\n\u001b[0;32m---> 63\u001b[0;31m         \u001b[0;32mreturn\u001b[0m \u001b[0msuper\u001b[0m\u001b[0;34m(\u001b[0m\u001b[0;34m)\u001b[0m\u001b[0;34m.\u001b[0m\u001b[0m__call__\u001b[0m\u001b[0;34m(\u001b[0m\u001b[0miterable_with_config\u001b[0m\u001b[0;34m)\u001b[0m\u001b[0;34m\u001b[0m\u001b[0;34m\u001b[0m\u001b[0m\n\u001b[0m\u001b[1;32m     64\u001b[0m \u001b[0;34m\u001b[0m\u001b[0m\n\u001b[1;32m     65\u001b[0m \u001b[0;34m\u001b[0m\u001b[0m\n",
            "\u001b[0;32m/usr/local/lib/python3.10/dist-packages/joblib/parallel.py\u001b[0m in \u001b[0;36m__call__\u001b[0;34m(self, iterable)\u001b[0m\n\u001b[1;32m   1096\u001b[0m \u001b[0;34m\u001b[0m\u001b[0m\n\u001b[1;32m   1097\u001b[0m             \u001b[0;32mwith\u001b[0m \u001b[0mself\u001b[0m\u001b[0;34m.\u001b[0m\u001b[0m_backend\u001b[0m\u001b[0;34m.\u001b[0m\u001b[0mretrieval_context\u001b[0m\u001b[0;34m(\u001b[0m\u001b[0;34m)\u001b[0m\u001b[0;34m:\u001b[0m\u001b[0;34m\u001b[0m\u001b[0;34m\u001b[0m\u001b[0m\n\u001b[0;32m-> 1098\u001b[0;31m                 \u001b[0mself\u001b[0m\u001b[0;34m.\u001b[0m\u001b[0mretrieve\u001b[0m\u001b[0;34m(\u001b[0m\u001b[0;34m)\u001b[0m\u001b[0;34m\u001b[0m\u001b[0;34m\u001b[0m\u001b[0m\n\u001b[0m\u001b[1;32m   1099\u001b[0m             \u001b[0;31m# Make sure that we get a last message telling us we are done\u001b[0m\u001b[0;34m\u001b[0m\u001b[0;34m\u001b[0m\u001b[0m\n\u001b[1;32m   1100\u001b[0m             \u001b[0melapsed_time\u001b[0m \u001b[0;34m=\u001b[0m \u001b[0mtime\u001b[0m\u001b[0;34m.\u001b[0m\u001b[0mtime\u001b[0m\u001b[0;34m(\u001b[0m\u001b[0;34m)\u001b[0m \u001b[0;34m-\u001b[0m \u001b[0mself\u001b[0m\u001b[0;34m.\u001b[0m\u001b[0m_start_time\u001b[0m\u001b[0;34m\u001b[0m\u001b[0;34m\u001b[0m\u001b[0m\n",
            "\u001b[0;32m/usr/local/lib/python3.10/dist-packages/joblib/parallel.py\u001b[0m in \u001b[0;36mretrieve\u001b[0;34m(self)\u001b[0m\n\u001b[1;32m    973\u001b[0m             \u001b[0;32mtry\u001b[0m\u001b[0;34m:\u001b[0m\u001b[0;34m\u001b[0m\u001b[0;34m\u001b[0m\u001b[0m\n\u001b[1;32m    974\u001b[0m                 \u001b[0;32mif\u001b[0m \u001b[0mgetattr\u001b[0m\u001b[0;34m(\u001b[0m\u001b[0mself\u001b[0m\u001b[0;34m.\u001b[0m\u001b[0m_backend\u001b[0m\u001b[0;34m,\u001b[0m \u001b[0;34m'supports_timeout'\u001b[0m\u001b[0;34m,\u001b[0m \u001b[0;32mFalse\u001b[0m\u001b[0;34m)\u001b[0m\u001b[0;34m:\u001b[0m\u001b[0;34m\u001b[0m\u001b[0;34m\u001b[0m\u001b[0m\n\u001b[0;32m--> 975\u001b[0;31m                     \u001b[0mself\u001b[0m\u001b[0;34m.\u001b[0m\u001b[0m_output\u001b[0m\u001b[0;34m.\u001b[0m\u001b[0mextend\u001b[0m\u001b[0;34m(\u001b[0m\u001b[0mjob\u001b[0m\u001b[0;34m.\u001b[0m\u001b[0mget\u001b[0m\u001b[0;34m(\u001b[0m\u001b[0mtimeout\u001b[0m\u001b[0;34m=\u001b[0m\u001b[0mself\u001b[0m\u001b[0;34m.\u001b[0m\u001b[0mtimeout\u001b[0m\u001b[0;34m)\u001b[0m\u001b[0;34m)\u001b[0m\u001b[0;34m\u001b[0m\u001b[0;34m\u001b[0m\u001b[0m\n\u001b[0m\u001b[1;32m    976\u001b[0m                 \u001b[0;32melse\u001b[0m\u001b[0;34m:\u001b[0m\u001b[0;34m\u001b[0m\u001b[0;34m\u001b[0m\u001b[0m\n\u001b[1;32m    977\u001b[0m                     \u001b[0mself\u001b[0m\u001b[0;34m.\u001b[0m\u001b[0m_output\u001b[0m\u001b[0;34m.\u001b[0m\u001b[0mextend\u001b[0m\u001b[0;34m(\u001b[0m\u001b[0mjob\u001b[0m\u001b[0;34m.\u001b[0m\u001b[0mget\u001b[0m\u001b[0;34m(\u001b[0m\u001b[0;34m)\u001b[0m\u001b[0;34m)\u001b[0m\u001b[0;34m\u001b[0m\u001b[0;34m\u001b[0m\u001b[0m\n",
            "\u001b[0;32m/usr/local/lib/python3.10/dist-packages/joblib/_parallel_backends.py\u001b[0m in \u001b[0;36mwrap_future_result\u001b[0;34m(future, timeout)\u001b[0m\n\u001b[1;32m    565\u001b[0m         AsyncResults.get from multiprocessing.\"\"\"\n\u001b[1;32m    566\u001b[0m         \u001b[0;32mtry\u001b[0m\u001b[0;34m:\u001b[0m\u001b[0;34m\u001b[0m\u001b[0;34m\u001b[0m\u001b[0m\n\u001b[0;32m--> 567\u001b[0;31m             \u001b[0;32mreturn\u001b[0m \u001b[0mfuture\u001b[0m\u001b[0;34m.\u001b[0m\u001b[0mresult\u001b[0m\u001b[0;34m(\u001b[0m\u001b[0mtimeout\u001b[0m\u001b[0;34m=\u001b[0m\u001b[0mtimeout\u001b[0m\u001b[0;34m)\u001b[0m\u001b[0;34m\u001b[0m\u001b[0;34m\u001b[0m\u001b[0m\n\u001b[0m\u001b[1;32m    568\u001b[0m         \u001b[0;32mexcept\u001b[0m \u001b[0mCfTimeoutError\u001b[0m \u001b[0;32mas\u001b[0m \u001b[0me\u001b[0m\u001b[0;34m:\u001b[0m\u001b[0;34m\u001b[0m\u001b[0;34m\u001b[0m\u001b[0m\n\u001b[1;32m    569\u001b[0m             \u001b[0;32mraise\u001b[0m \u001b[0mTimeoutError\u001b[0m \u001b[0;32mfrom\u001b[0m \u001b[0me\u001b[0m\u001b[0;34m\u001b[0m\u001b[0;34m\u001b[0m\u001b[0m\n",
            "\u001b[0;32m/usr/lib/python3.10/concurrent/futures/_base.py\u001b[0m in \u001b[0;36mresult\u001b[0;34m(self, timeout)\u001b[0m\n\u001b[1;32m    451\u001b[0m                     \u001b[0;32mreturn\u001b[0m \u001b[0mself\u001b[0m\u001b[0;34m.\u001b[0m\u001b[0m__get_result\u001b[0m\u001b[0;34m(\u001b[0m\u001b[0;34m)\u001b[0m\u001b[0;34m\u001b[0m\u001b[0;34m\u001b[0m\u001b[0m\n\u001b[1;32m    452\u001b[0m \u001b[0;34m\u001b[0m\u001b[0m\n\u001b[0;32m--> 453\u001b[0;31m                 \u001b[0mself\u001b[0m\u001b[0;34m.\u001b[0m\u001b[0m_condition\u001b[0m\u001b[0;34m.\u001b[0m\u001b[0mwait\u001b[0m\u001b[0;34m(\u001b[0m\u001b[0mtimeout\u001b[0m\u001b[0;34m)\u001b[0m\u001b[0;34m\u001b[0m\u001b[0;34m\u001b[0m\u001b[0m\n\u001b[0m\u001b[1;32m    454\u001b[0m \u001b[0;34m\u001b[0m\u001b[0m\n\u001b[1;32m    455\u001b[0m                 \u001b[0;32mif\u001b[0m \u001b[0mself\u001b[0m\u001b[0;34m.\u001b[0m\u001b[0m_state\u001b[0m \u001b[0;32min\u001b[0m \u001b[0;34m[\u001b[0m\u001b[0mCANCELLED\u001b[0m\u001b[0;34m,\u001b[0m \u001b[0mCANCELLED_AND_NOTIFIED\u001b[0m\u001b[0;34m]\u001b[0m\u001b[0;34m:\u001b[0m\u001b[0;34m\u001b[0m\u001b[0;34m\u001b[0m\u001b[0m\n",
            "\u001b[0;32m/usr/lib/python3.10/threading.py\u001b[0m in \u001b[0;36mwait\u001b[0;34m(self, timeout)\u001b[0m\n\u001b[1;32m    318\u001b[0m         \u001b[0;32mtry\u001b[0m\u001b[0;34m:\u001b[0m    \u001b[0;31m# restore state no matter what (e.g., KeyboardInterrupt)\u001b[0m\u001b[0;34m\u001b[0m\u001b[0;34m\u001b[0m\u001b[0m\n\u001b[1;32m    319\u001b[0m             \u001b[0;32mif\u001b[0m \u001b[0mtimeout\u001b[0m \u001b[0;32mis\u001b[0m \u001b[0;32mNone\u001b[0m\u001b[0;34m:\u001b[0m\u001b[0;34m\u001b[0m\u001b[0;34m\u001b[0m\u001b[0m\n\u001b[0;32m--> 320\u001b[0;31m                 \u001b[0mwaiter\u001b[0m\u001b[0;34m.\u001b[0m\u001b[0macquire\u001b[0m\u001b[0;34m(\u001b[0m\u001b[0;34m)\u001b[0m\u001b[0;34m\u001b[0m\u001b[0;34m\u001b[0m\u001b[0m\n\u001b[0m\u001b[1;32m    321\u001b[0m                 \u001b[0mgotit\u001b[0m \u001b[0;34m=\u001b[0m \u001b[0;32mTrue\u001b[0m\u001b[0;34m\u001b[0m\u001b[0;34m\u001b[0m\u001b[0m\n\u001b[1;32m    322\u001b[0m             \u001b[0;32melse\u001b[0m\u001b[0;34m:\u001b[0m\u001b[0;34m\u001b[0m\u001b[0;34m\u001b[0m\u001b[0m\n",
            "\u001b[0;31mKeyboardInterrupt\u001b[0m: "
          ]
        },
        {
          "data": {
            "text/plain": [
              "<Figure size 1000x600 with 0 Axes>"
            ]
          },
          "metadata": {},
          "output_type": "display_data"
        }
      ],
      "source": [
        "from sklearn.linear_model import Lasso\n",
        "from sklearn.feature_selection import SelectFromModel\n",
        "from sklearn.preprocessing import MinMaxScaler\n",
        "from sklearn.model_selection import GridSearchCV,TimeSeriesSplit\n",
        "# Define the model\n",
        "alphas = np.logspace(-4, -1, 1000)\n",
        "\n",
        "lassofeatures_nolags = {}\n",
        "lassofeatures_lags = {}\n",
        "\n",
        "\n",
        "for counter in range(2):\n",
        "  if counter == 0:\n",
        "    print('Stationary DataFrames:-------------------------------------------------------')\n",
        "    plt.figure(figsize=(10, 6))\n",
        "\n",
        "  else:\n",
        "    print('\\n \\n \\n')\n",
        "    print('Stationary Lagged DataFrames:-------------------------------------------------------')\n",
        "    plt.figure(figsize=(10, 6))\n",
        "\n",
        "  for brand in brands:\n",
        "    if counter == 0:\n",
        "      dfs = stationary_dataframes[brand].copy()\n",
        "\n",
        "    else:\n",
        "      dfs =  lagged_stationary_dataframes[brand].copy()\n",
        "\n",
        "    df_features = dfs.drop(['Target', 'Nominal_Close'], axis=1)\n",
        "    df_target = dfs['Target']\n",
        "\n",
        "    # Crea una instancia de la clase Lasso\n",
        "    lasso = Lasso()\n",
        "\n",
        "    # TimeSeriesSplit for cross-validation\n",
        "    tscv = TimeSeriesSplit(n_splits=3)  # replace with your preferred number of splits\n",
        "\n",
        "    # Scaling the features\n",
        "    scaler = RobustScaler()\n",
        "    df_features_scaled = pd.DataFrame(scaler.fit_transform(df_features), columns=df_features.columns)\n",
        "    scaler_pred = RobustScaler()\n",
        "    df_target_scaled = pd.Series(scaler_pred.fit_transform(df_target.values.reshape(-1, 1)).flatten())\n",
        "\n",
        "    # Define the grid search\n",
        "    grid = GridSearchCV(estimator=lasso, param_grid=dict(alpha=alphas), cv=tscv, n_jobs = -1, return_train_score=True)\n",
        "    grid.fit(df_features_scaled, df_target_scaled)\n",
        "    # Print the best alpha\n",
        "    print('Best alpha: ', grid.best_estimator_.alpha)\n",
        "\n",
        "    # Create a selector object that uses the Lasso model to identify features with non-zero coefficients\n",
        "    sel_ = SelectFromModel(grid.best_estimator_)  # Uses the best model from the grid\n",
        "\n",
        "    # Fit the selector object to the data\n",
        "    sel_.fit(df_features_scaled, df_target_scaled)\n",
        "\n",
        "    # Print the names of the most important features\n",
        "    selected_feat = df_features.columns[(sel_.get_support())]\n",
        "    print(brand)\n",
        "    print('Lasso for', brand, 'has selected the following features:\\n', selected_feat)\n",
        "    if counter == 0:\n",
        "      lassofeatures_nolags[brand] = selected_feat\n",
        "    else:\n",
        "      lassofeatures_lags[brand] = selected_feat\n",
        "\n",
        "    # Plot the mean cross-validation score as a function of alpha\n",
        "    plt.semilogx(alphas, -grid.cv_results_[\"mean_test_score\"], label=brand)\n",
        "\n",
        "  # Añade etiquetas y título\n",
        "  plt.xlabel('Alpha')\n",
        "  plt.ylabel('Mean cross-validation score')\n",
        "  plt.title('Cross-validation score as a function of alpha')\n",
        "  plt.legend()\n",
        "  plt.grid()\n",
        "  plt.show()"
      ]
    },
    {
      "cell_type": "code",
      "execution_count": null,
      "metadata": {
        "colab": {
          "base_uri": "https://localhost:8080/"
        },
        "id": "MiTPRtCGNzEE",
        "outputId": "dbd86728-6c1d-4dcb-df1a-1a63dee2d757"
      },
      "outputs": [
        {
          "data": {
            "text/plain": [
              "Index(['Revenue Growth (YoY)_lag5', 'Net Income Growth_lag4',\n",
              "       'Net Income Growth_lag5', 'Shares Outstanding (Basic)_lag2',\n",
              "       'Shares Outstanding (Basic)_lag3', 'Shares Outstanding (Basic)_lag5',\n",
              "       'Effective Tax Rate_lag2', 'Effective Tax Rate_lag3',\n",
              "       'Effective Tax Rate_lag4', 'PE Ratio_lag1', 'PE Ratio_lag2',\n",
              "       'PE Ratio_lag4', 'PE Ratio_lag5', 'PB Ratio_lag3', 'PB Ratio_lag5',\n",
              "       'Current Ratio_lag1', 'Current Ratio_lag4', 'Current Ratio_lag5'],\n",
              "      dtype='object')"
            ]
          },
          "execution_count": 51,
          "metadata": {},
          "output_type": "execute_result"
        }
      ],
      "source": [
        "selected_feat[120:190]"
      ]
    },
    {
      "attachments": {},
      "cell_type": "markdown",
      "metadata": {
        "id": "q4vLIZw-Q3oo"
      },
      "source": [
        "A continuación se muestran las variables seleccionadas por Lasso"
      ]
    },
    {
      "cell_type": "code",
      "execution_count": null,
      "metadata": {
        "id": "iZMLHaLyLpcf"
      },
      "outputs": [],
      "source": [
        "\n",
        "lassofeatures_nolags = {}\n",
        "lassofeatures_lags = {}\n",
        "\n",
        "lassofeatures_nolags['F'] = ['High', 'MA1', 'Cash & Equivalents', 'Cash & Cash Equivalents',\n",
        "       'Other Current Assets', 'Other Long-Term Assets', 'Current Debt',\n",
        "       'Total Current Liabilities', 'Other Current Liabilities',\n",
        "       'Retained Earnings', 'Comprehensive Income', \"Shareholders' Equity\",\n",
        "       'Net Cash Per Share', 'Working Capital', 'Other Operating Activities',\n",
        "       'Operating Cash Flow', 'Other Investing Activities',\n",
        "       'Investing Cash Flow', 'Debt Issued / Paid',\n",
        "       'Other Financing Activities', 'Net Cash Flow', 'Free Cash Flow Growth',\n",
        "       'Gross Profit', 'Selling, General & Admin', 'Operating Income',\n",
        "       'Interest Expense / Income', 'Pretax Income',\n",
        "       'Shares Outstanding (Basic)', 'Shares Outstanding (Diluted)',\n",
        "       'EPS (Basic)', 'EPS (Diluted)', 'Gross Margin', 'Operating Margin',\n",
        "       'Profit Margin', 'Effective Tax Rate', 'EBITDA Margin', 'PE Ratio',\n",
        "       'PS Ratio', 'Current Ratio', 'Buyback Yield / Dilution',\n",
        "       'Total Shareholder Return', 'MACD', 'CMF', 'LBOLLINGER', 'HBOLLINGER']\n",
        "lassofeatures_nolags['GM'] = ['MA1', 'MA2', 'Cash & Equivalents', 'Cash Growth',\n",
        "       'Other Current Assets', 'Other Long-Term Assets', 'Long-Term Debt',\n",
        "       'Common Stock', 'Comprehensive Income', 'Other Operating Activities',\n",
        "       'Operating Cash Flow', 'Operating Cash Flow Growth',\n",
        "       'Other Investing Activities', 'Investing Cash Flow', 'Dividends Paid',\n",
        "       'Debt Issued / Paid', 'Financing Cash Flow', 'Net Cash Flow',\n",
        "       'Free Cash Flow Margin_x', 'Cost of Revenue', 'Gross Profit',\n",
        "       'Other Expense / Income', 'Pretax Income', 'Net Income Growth',\n",
        "       'Shares Outstanding (Basic)', 'Shares Change', 'Profit Margin',\n",
        "       'Market Cap Growth', 'EMA50', 'MACD', 'CMF', 'LBOLLINGER']\n",
        "\n",
        "lassofeatures_nolags['TSLA'] =['MA1', 'Cash Growth', 'Other Current Assets', 'Deferred Revenue',\n",
        "       'Current Debt', 'Long-Term Debt', 'Debt Growth', 'Retained Earnings',\n",
        "       'Net Cash / Debt', 'Share-Based Compensation',\n",
        "       'Other Operating Activities', 'Operating Cash Flow Growth',\n",
        "       'Other Investing Activities', 'Investing Cash Flow',\n",
        "       'Debt Issued / Paid', 'Other Financing Activities',\n",
        "       'Financing Cash Flow', 'Free Cash Flow Growth', 'Revenue',\n",
        "       'Revenue Growth (YoY)', 'Research & Development',\n",
        "       'Other Expense / Income', 'Pretax Income', 'Income Tax',\n",
        "       'Shares Outstanding (Diluted)', 'EPS Growth', 'EBITDA', 'PE Ratio',\n",
        "       'PS Ratio', 'MACD', 'CMF', 'FI']\n",
        "lassofeatures_nolags['RACE'] = ['Open', 'Close', 'High', 'Low', 'Volume', 'MA1', 'MA2',\n",
        "       'Cash & Equivalents', 'Short-Term Investments', 'Cash Growth',\n",
        "       'Receivables', 'Inventory', 'Total Current Assets',\n",
        "       'Long-Term Investments', 'Goodwill and Intangibles',\n",
        "       'Other Long-Term Assets', 'Total Long-Term Assets', 'Accounts Payable',\n",
        "       'Common Stock', 'Net Cash / Debt', 'Net Cash / Debt Growth',\n",
        "       'Net Income_x', 'Depreciation & Amortization_x',\n",
        "       'Other Operating Activities', 'Operating Cash Flow Growth',\n",
        "       'Debt Issued / Paid', 'Other Financing Activities',\n",
        "       'Financing Cash Flow', 'Free Cash Flow Growth', 'Revenue',\n",
        "       'Revenue Growth (YoY)', 'Cost of Revenue', 'Gross Profit',\n",
        "       'Selling, General & Admin', 'Operating Income',\n",
        "       'Other Expense / Income', 'Income Tax', 'Net Income_y',\n",
        "       'Net Income Growth', 'EPS (Basic)', 'EPS (Diluted)', 'EPS Growth',\n",
        "       'Dividend Growth', 'Gross Margin', 'Operating Margin',\n",
        "       'Effective Tax Rate', 'EBITDA', 'Depreciation & Amortization_y', 'EBIT',\n",
        "       'EBIT Margin', 'Market Cap', 'Market Capitalization',\n",
        "       'Market Cap Growth', 'Enterprise Value', 'PE Ratio', 'PS Ratio', 'RSI',\n",
        "       'EMA14', 'EMA50', 'MACD', 'ADX', 'CMF', 'SO', 'LBOLLINGER',\n",
        "       'HBOLLINGER', 'FI']\n",
        "\n",
        "lassofeatures_nolags['TM'] = ['Cash Growth', 'Other Long-Term Assets', 'Common Stock',\n",
        "       'Working Capital', 'Net Income_x', 'Other Operating Activities',\n",
        "       'Operating Cash Flow', 'Operating Cash Flow Growth',\n",
        "       'Change in Investments', 'Other Investing Activities',\n",
        "       'Share Issuance / Repurchase', 'Debt Issued / Paid',\n",
        "       'Other Financing Activities', 'Financing Cash Flow', 'Net Cash Flow',\n",
        "       'Free Cash Flow', 'Cost of Revenue', 'Operating Income',\n",
        "       'Interest Expense / Income', 'Pretax Income', 'Income Tax',\n",
        "       'Net Income_y', 'EPS (Diluted)', 'EPS Growth', 'Dividend Growth',\n",
        "       'Effective Tax Rate', 'Market Cap Growth', 'Enterprise Value', 'EMA14',\n",
        "       'MACD', 'CMF', 'LBOLLINGER', 'FI']\n",
        "\n",
        "lassofeatures_nolags['HMC'] = ['Cash Growth', 'Property, Plant & Equipment', 'Debt Growth',\n",
        "       'Common Stock', 'Working Capital', 'Depreciation & Amortization_x',\n",
        "       'Operating Cash Flow', 'Capital Expenditures', 'Change in Investments',\n",
        "       'Other Investing Activities', 'Debt Issued / Paid',\n",
        "       'Other Financing Activities', 'Financing Cash Flow', 'Net Cash Flow',\n",
        "       'Free Cash Flow', 'Free Cash Flow Per Share_x',\n",
        "       'Other Expense / Income', 'Net Income Growth', 'EPS Growth',\n",
        "       'Free Cash Flow Per Share_y', 'Gross Margin', 'Operating Margin',\n",
        "       'Profit Margin', 'Effective Tax Rate', 'EBITDA Margin',\n",
        "       'Depreciation & Amortization_y', 'EBIT Margin', 'Market Cap Growth',\n",
        "       'Enterprise Value', 'PE Ratio', 'Current Ratio', 'EMA50', 'MACD', 'CMF',\n",
        "       'FI']\n",
        "\n",
        "lassofeatures_lags['F'] =['Open', 'High', 'Low', 'Volume', 'MA1', 'MA2', 'Cash & Equivalents',\n",
        "       'Short-Term Investments', 'Cash & Cash Equivalents',\n",
        "       'Other Current Assets', 'Long-Term Investments', 'Current Debt',\n",
        "       'Other Current Liabilities', 'Total Debt', 'Common Stock',\n",
        "       'Retained Earnings', 'Comprehensive Income', \"Shareholders' Equity\",\n",
        "       'Net Cash / Debt', 'Working Capital', 'Book Value Per Share',\n",
        "       'Other Operating Activities', 'Operating Cash Flow',\n",
        "       'Change in Investments', 'Other Investing Activities',\n",
        "       'Investing Cash Flow', 'Debt Issued / Paid',\n",
        "       'Other Financing Activities', 'Financing Cash Flow', 'Free Cash Flow',\n",
        "       'Free Cash Flow Growth', 'Free Cash Flow Margin_x', 'Gross Profit',\n",
        "       'Selling, General & Admin', 'Operating Expenses', 'Operating Income',\n",
        "       'Interest Expense / Income', 'Pretax Income', 'Income Tax',\n",
        "       'Net Income_y', 'Shares Outstanding (Basic)', 'EPS (Basic)',\n",
        "       'EPS (Diluted)', 'Free Cash Flow Margin_y', 'EBIT', 'EBIT Margin',\n",
        "       'Market Cap', 'PE Ratio', 'Debt / Equity Ratio', 'Current Ratio',\n",
        "       'Buyback Yield / Dilution', 'EMA14', 'MACD', 'CMF', 'HBOLLINGER', 'FI',\n",
        "       'Open_lag1', 'Open_lag2', 'Open_lag3', 'Open_lag4', 'Open_lag5',\n",
        "       'Open_lag6', 'Open_lag8', 'Open_lag9', 'Open_lag10', 'Open_lag11',\n",
        "       'Open_lag12', 'Open_lag13', 'Open_lag14', 'Open_lag15', 'Open_lag16',\n",
        "       'Open_lag17', 'Close_lag2', 'Close_lag9', 'Close_lag10', 'Close_lag11',\n",
        "       'Close_lag12', 'Close_lag13', 'Close_lag14', 'Close_lag15', 'Close_lag16', 'High_lag1', 'High_lag2', 'High_lag3', 'High_lag5',\n",
        "       'High_lag7', 'High_lag8', 'High_lag9', 'High_lag10', 'High_lag11',\n",
        "       'High_lag12', 'High_lag13', 'High_lag14', 'High_lag16', 'High_lag17',\n",
        "       'High_lag18', 'High_lag19', 'High_lag20', 'Low_lag1', 'Low_lag3',\n",
        "       'Low_lag4', 'Low_lag5', 'Low_lag6', 'Low_lag7', 'Low_lag8', 'Low_lag9',\n",
        "       'Low_lag10', 'Low_lag14', 'Low_lag15', 'Low_lag16', 'Low_lag17',\n",
        "       'Low_lag18', 'Low_lag19', 'Low_lag20', 'Volume_lag1', 'Volume_lag2',\n",
        "       'Volume_lag3', 'Volume_lag4', 'Volume_lag5', 'Volume_lag6',\n",
        "       'Volume_lag7', 'Volume_lag8', 'Volume_lag9', 'Volume_lag10',\n",
        "       'Volume_lag11', 'Volume_lag12', 'Volume_lag13', 'Volume_lag14',\n",
        "       'Volume_lag15', 'Volume_lag16', 'Volume_lag17', 'Volume_lag18',\n",
        "       'Volume_lag19', 'Volume_lag20', 'MA1_lag1', 'MA1_lag5', 'MA1_lag7',\n",
        "       'MA1_lag8', 'MA1_lag9', 'MA1_lag10', 'MA1_lag11', 'MA1_lag12',\n",
        "       'MA1_lag13', 'MA1_lag15', 'MA1_lag16', 'MA1_lag17', 'MA1_lag19',\n",
        "       'MA1_lag20', 'MA2_lag1', 'MA2_lag2', 'MA2_lag4', 'MA2_lag9',\n",
        "       'MA2_lag13', 'MA2_lag19', 'MA2_lag20', 'Market Cap_lag1',\n",
        "       'Market Cap_lag2', 'Market Cap_lag3', 'Market Cap_lag4',\n",
        "       'Market Cap_lag5', 'Market Cap_lag7', 'Market Cap_lag8',\n",
        "       'Market Cap_lag10', 'Market Cap_lag12', 'Market Cap_lag13',\n",
        "       'Market Cap_lag14', 'Market Cap_lag15', 'Market Cap_lag16',\n",
        "       'Market Cap_lag17', 'Market Cap_lag18','Market Cap_lag19', 'RSI_lag2', 'RSI_lag3', 'RSI_lag4', 'RSI_lag5',\n",
        "       'RSI_lag6', 'RSI_lag7', 'RSI_lag8', 'RSI_lag11', 'RSI_lag12',\n",
        "       'RSI_lag13', 'RSI_lag17', 'RSI_lag18', 'RSI_lag19', 'RSI_lag20',\n",
        "       'EMA14_lag1', 'EMA14_lag2', 'EMA14_lag5', 'EMA14_lag6', 'EMA14_lag20',\n",
        "       'EMA50_lag1', 'EMA50_lag10', 'EMA50_lag12', 'EMA50_lag13',\n",
        "       'EMA50_lag14', 'EMA50_lag15', 'EMA50_lag16', 'EMA50_lag20', 'MACD_lag1',\n",
        "       'MACD_lag2', 'MACD_lag3', 'MACD_lag4', 'MACD_lag5', 'MACD_lag6',\n",
        "       'MACD_lag7', 'MACD_lag8', 'MACD_lag9', 'MACD_lag10', 'MACD_lag11',\n",
        "       'MACD_lag12', 'MACD_lag13', 'MACD_lag14', 'MACD_lag15', 'MACD_lag16',\n",
        "       'MACD_lag17', 'MACD_lag18', 'MACD_lag19', 'MACD_lag20', 'ADX_lag2',\n",
        "       'ADX_lag3', 'ADX_lag4', 'ADX_lag7', 'ADX_lag10', 'ADX_lag11',\n",
        "       'ADX_lag16', 'ADX_lag17', 'ADX_lag18', 'ADX_lag19', 'ADX_lag20',\n",
        "       'CMF_lag1', 'CMF_lag2', 'CMF_lag3', 'CMF_lag4', 'CMF_lag5', 'CMF_lag6',\n",
        "       'CMF_lag7', 'CMF_lag8', 'CMF_lag9', 'CMF_lag10', 'CMF_lag11',\n",
        "       'CMF_lag12', 'CMF_lag13', 'CMF_lag14', 'CMF_lag15', 'CMF_lag16',\n",
        "       'CMF_lag17', 'CMF_lag18', 'CMF_lag19', 'CMF_lag20', 'SO_lag4',\n",
        "       'SO_lag7', 'SO_lag8', 'SO_lag11', 'SO_lag12', 'SO_lag18', 'SO_lag19',\n",
        "       'SO_lag20', 'LBOLLINGER_lag4', 'LBOLLINGER_lag5', 'LBOLLINGER_lag6', 'LBOLLINGER_lag7', 'LBOLLINGER_lag8', 'LBOLLINGER_lag9',\n",
        "       'LBOLLINGER_lag10', 'LBOLLINGER_lag12', 'LBOLLINGER_lag13',\n",
        "       'LBOLLINGER_lag15', 'LBOLLINGER_lag17', 'LBOLLINGER_lag18',\n",
        "       'LBOLLINGER_lag19', 'LBOLLINGER_lag20', 'HBOLLINGER_lag1',\n",
        "       'HBOLLINGER_lag2', 'HBOLLINGER_lag3', 'HBOLLINGER_lag6',\n",
        "       'HBOLLINGER_lag8', 'HBOLLINGER_lag9', 'HBOLLINGER_lag13',\n",
        "       'HBOLLINGER_lag14', 'HBOLLINGER_lag16', 'HBOLLINGER_lag18',\n",
        "       'HBOLLINGER_lag19', 'FI_lag1', 'FI_lag2', 'FI_lag3', 'FI_lag4',\n",
        "       'FI_lag5', 'FI_lag6', 'FI_lag7', 'FI_lag8', 'FI_lag9', 'FI_lag10',\n",
        "       'FI_lag11', 'FI_lag12', 'FI_lag13', 'FI_lag14', 'FI_lag15', 'FI_lag16',\n",
        "       'FI_lag17', 'FI_lag18', 'FI_lag19', 'Target_lag7', 'Target_lag8',\n",
        "       'Target_lag9', 'Target_lag10', 'Target_lag11', 'Target_lag12',\n",
        "       'Target_lag13', 'Target_lag14', 'Target_lag15',\n",
        "       'Cash & Cash Equivalents_lag3', 'Other Current Assets_lag1',\n",
        "       'Other Current Assets_lag2', 'Other Current Assets_lag3',\n",
        "       'Other Current Assets_lag4', 'Other Current Assets_lag5',\n",
        "       'Current Debt_lag1', 'Current Debt_lag2', 'Current Debt_lag3',\n",
        "       'Total Current Liabilities_lag1', 'Total Current Liabilities_lag2',\n",
        "       'Total Current Liabilities_lag5', 'Other Current Liabilities_lag1',\n",
        "       'Other Current Liabilities_lag3', 'Other Current Liabilities_lag5',\n",
        "       'Common Stock_lag2', 'Common Stock_lag4', 'Retained Earnings_lag1',\n",
        "       'Retained Earnings_lag2', 'Retained Earnings_lag3',\n",
        "       'Retained Earnings_lag4', 'Retained Earnings_lag5',\n",
        "       'Comprehensive Income_lag1', 'Comprehensive Income_lag2',\n",
        "       'Comprehensive Income_lag3', 'Net Cash / Debt_lag3',\n",
        "       'Net Cash / Debt_lag5', 'Working Capital_lag1', 'Working Capital_lag2',\n",
        "       'Working Capital_lag3', 'Working Capital_lag4', 'Working Capital_lag5',\n",
        "       'Other Operating Activities_lag1', 'Other Investing Activities_lag2',\n",
        "       'Other Investing Activities_lag3', 'Debt Issued / Paid_lag1',\n",
        "       'Debt Issued / Paid_lag2', 'Debt Issued / Paid_lag3',\n",
        "       'Debt Issued / Paid_lag5', 'Other Financing Activities_lag1', 'Other Financing Activities_lag3', 'Other Financing Activities_lag4',\n",
        "       'Financing Cash Flow_lag2', 'Financing Cash Flow_lag3',\n",
        "       'Financing Cash Flow_lag4', 'Free Cash Flow_lag2',\n",
        "       'Free Cash Flow Growth_lag1', 'Free Cash Flow Growth_lag2',\n",
        "       'Free Cash Flow Growth_lag3', 'Free Cash Flow Growth_lag4',\n",
        "       'Free Cash Flow Growth_lag5', 'Revenue Growth (YoY)_lag1',\n",
        "       'Selling, General & Admin_lag1', 'Selling, General & Admin_lag2',\n",
        "       'Selling, General & Admin_lag3', 'Operating Income_lag1',\n",
        "       'Operating Income_lag3', 'Pretax Income_lag1', 'Pretax Income_lag2',\n",
        "       'Pretax Income_lag3', 'Pretax Income_lag4', 'Pretax Income_lag5',\n",
        "       'Income Tax_lag3', 'Income Tax_lag4', 'Income Tax_lag5',\n",
        "       'Net Income Growth_lag4', 'Net Income Growth_lag5',\n",
        "       'Shares Outstanding (Basic)_lag1', 'Shares Outstanding (Basic)_lag2',\n",
        "       'Shares Outstanding (Basic)_lag3', 'Shares Outstanding (Basic)_lag4',\n",
        "       'Shares Outstanding (Basic)_lag5', 'EPS (Basic)_lag2',\n",
        "       'Gross Margin_lag5', 'Operating Margin_lag3', 'Effective Tax Rate_lag3',\n",
        "       'PE Ratio_lag1', 'PE Ratio_lag2', 'PE Ratio_lag5', 'Current Ratio_lag4',\n",
        "       'Buyback Yield / Dilution_lag1', 'Buyback Yield / Dilution_lag2',\n",
        "       'Buyback Yield / Dilution_lag3']\n",
        "lassofeatures_lags['GM'] = ['MA2', 'Net Cash / Debt', 'Other Operating Activities',\n",
        "       'Operating Cash Flow', 'Operating Cash Flow Growth',\n",
        "       'Change in Investments', 'Other Expense / Income', 'Pretax Income',\n",
        "       'Effective Tax Rate', 'EMA14', 'EMA50', 'MACD', 'CMF', 'LBOLLINGER',\n",
        "       'High_lag20', 'MA1_lag3', 'MA1_lag6', 'MA1_lag7', 'MA1_lag8',\n",
        "       'MA1_lag9', 'MA1_lag11', 'MA1_lag12', 'MA1_lag14', 'MA2_lag1',\n",
        "       'MA2_lag2', 'EMA14_lag19', 'MACD_lag1', 'MACD_lag2', 'MACD_lag3',\n",
        "       'MACD_lag4', 'MACD_lag5', 'MACD_lag7', 'MACD_lag8', 'MACD_lag9',\n",
        "       'MACD_lag11', 'MACD_lag12', 'MACD_lag13', 'MACD_lag14', 'MACD_lag15',\n",
        "       'MACD_lag16', 'MACD_lag17', 'MACD_lag18', 'ADX_lag7', 'ADX_lag8',\n",
        "       'CMF_lag2', 'CMF_lag3', 'CMF_lag4', 'CMF_lag5', 'CMF_lag6', 'CMF_lag7',\n",
        "       'CMF_lag10', 'CMF_lag11', 'CMF_lag12', 'CMF_lag17', 'CMF_lag19',\n",
        "       'CMF_lag20', 'LBOLLINGER_lag2', 'LBOLLINGER_lag20', 'HBOLLINGER_lag18',\n",
        "       'FI_lag1', 'FI_lag2', 'FI_lag5', 'FI_lag6', 'FI_lag7', 'FI_lag8',\n",
        "       'FI_lag9', 'FI_lag10', 'FI_lag11', 'FI_lag12', 'FI_lag13', 'FI_lag14',\n",
        "       'FI_lag15', 'FI_lag16', 'FI_lag17', 'FI_lag18', 'FI_lag19', 'FI_lag20',\n",
        "       'Other Long-Term Assets_lag2', 'Other Long-Term Assets_lag3',\n",
        "       'Other Long-Term Assets_lag4', 'Other Long-Term Assets_lag5',\n",
        "       'Other Operating Activities_lag1', 'Other Operating Activities_lag3',\n",
        "       'Operating Cash Flow_lag1', 'Operating Cash Flow_lag2',\n",
        "       'Operating Cash Flow_lag3', 'Operating Cash Flow Growth_lag1',\n",
        "       'Other Investing Activities_lag4', 'Financing Cash Flow_lag4',\n",
        "       'Financing Cash Flow_lag5', 'Net Cash Flow_lag5', 'Free Cash Flow_lag1',\n",
        "       'Free Cash Flow Margin_x_lag1', 'Other Expense / Income_lag1',\n",
        "       'Other Expense / Income_lag2', 'Pretax Income_lag1',\n",
        "       'Pretax Income_lag2', 'Pretax Income_lag4', 'Net Income Growth_lag2',\n",
        "       'Net Income Growth_lag4','Net Income Growth_lag5', 'Free Cash Flow Margin_y_lag1']\n",
        "lassofeatures_lags['TSLA'] = ['MA1', 'MA2', 'Cash Growth', 'Current Debt', 'Debt Growth',\n",
        "       'Other Investing Activities', 'Investing Cash Flow',\n",
        "       'Debt Issued / Paid', 'Financing Cash Flow', 'Revenue Growth (YoY)',\n",
        "       'MACD', 'CMF', 'FI', 'MA1_lag1', 'MA1_lag2', 'MA1_lag3', 'MA1_lag4',\n",
        "       'MA1_lag5', 'MA1_lag6', 'MA2_lag1', 'MA2_lag2', 'MACD_lag1',\n",
        "       'MACD_lag4', 'MACD_lag6', 'MACD_lag7', 'MACD_lag8', 'MACD_lag10',\n",
        "       'MACD_lag11', 'MACD_lag12', 'MACD_lag13', 'MACD_lag14', 'MACD_lag15',\n",
        "       'MACD_lag17', 'MACD_lag18', 'MACD_lag19', 'MACD_lag20', 'CMF_lag4',\n",
        "       'CMF_lag5', 'CMF_lag6', 'CMF_lag8', 'CMF_lag10', 'CMF_lag11',\n",
        "       'CMF_lag14', 'CMF_lag15', 'CMF_lag17', 'CMF_lag18', 'CMF_lag19',\n",
        "       'CMF_lag20', 'LBOLLINGER_lag6', 'LBOLLINGER_lag7', 'LBOLLINGER_lag8',\n",
        "       'LBOLLINGER_lag9', 'LBOLLINGER_lag10', 'LBOLLINGER_lag11',\n",
        "       'LBOLLINGER_lag12', 'LBOLLINGER_lag20', 'FI_lag1', 'FI_lag2', 'FI_lag3',\n",
        "       'FI_lag4', 'FI_lag6', 'FI_lag8', 'FI_lag9', 'FI_lag10', 'FI_lag11',\n",
        "       'FI_lag12', 'FI_lag13', 'FI_lag14', 'FI_lag15', 'FI_lag16', 'FI_lag18',\n",
        "       'FI_lag19', 'FI_lag20', 'Cash Growth_lag1', 'Cash Growth_lag2',\n",
        "       'Cash Growth_lag3', 'Cash Growth_lag4', 'Cash Growth_lag5',\n",
        "       'Deferred Revenue_lag1', 'Current Debt_lag1', 'Current Debt_lag2',\n",
        "       'Current Debt_lag3', 'Current Debt_lag4', 'Debt Growth_lag1',\n",
        "       'Debt Growth_lag2', 'Debt Growth_lag3', 'Debt Growth_lag4',\n",
        "       'Debt Growth_lag5', 'Operating Cash Flow Growth_lag1',\n",
        "       'Operating Cash Flow Growth_lag4', 'Other Investing Activities_lag1',\n",
        "       'Other Investing Activities_lag2', 'Other Investing Activities_lag3',\n",
        "       'Other Investing Activities_lag4', 'Other Investing Activities_lag5',\n",
        "       'Investing Cash Flow_lag1', 'Investing Cash Flow_lag2',\n",
        "       'Investing Cash Flow_lag5', 'Debt Issued / Paid_lag2',\n",
        "       'Debt Issued / Paid_lag3', 'Debt Issued / Paid_lag4', 'Debt Issued / Paid_lag5',\n",
        "       'Other Financing Activities_lag3', 'Other Financing Activities_lag4',\n",
        "       'Other Financing Activities_lag5', 'Revenue Growth (YoY)_lag1',\n",
        "       'Other Expense / Income_lag1', 'Other Expense / Income_lag2',\n",
        "       'Income Tax_lag2', 'Income Tax_lag3']\n",
        "\n",
        "lassofeatures_lags['RACE'] = ['Open', 'High', 'MA1', 'MA2', 'Long-Term Investments',\n",
        "       'Other Long-Term Assets', 'Net Income_x',\n",
        "       'Depreciation & Amortization_x', 'Other Operating Activities',\n",
        "       'Operating Cash Flow Growth', 'Financing Cash Flow',\n",
        "       'Free Cash Flow Growth', 'Revenue Growth (YoY)',\n",
        "       'Selling, General & Admin', 'Operating Income', 'Income Tax',\n",
        "       'Net Income_y', 'Net Income Growth', 'EPS (Basic)', 'EPS Growth',\n",
        "       'Dividend Growth', 'Gross Margin', 'Effective Tax Rate', 'EBIT',\n",
        "       'EBIT Margin', 'Market Cap', 'RSI', 'EMA14', 'EMA50', 'MACD', 'ADX',\n",
        "       'CMF', 'SO', 'LBOLLINGER', 'FI', 'Open_lag1', 'Open_lag2', 'Open_lag3',\n",
        "       'Open_lag4', 'Open_lag5', 'Open_lag6', 'Open_lag7', 'Open_lag8',\n",
        "       'Open_lag9', 'Open_lag11', 'Open_lag12', 'Open_lag15', 'Open_lag16',\n",
        "       'Open_lag17', 'Open_lag18', 'Open_lag19', 'Open_lag20', 'Close_lag4',\n",
        "       'Close_lag5', 'Close_lag7', 'Close_lag8', 'Close_lag9', 'Close_lag12',\n",
        "       'Close_lag13', 'Close_lag14', 'Close_lag15', 'Close_lag17',\n",
        "       'Close_lag18', 'Close_lag19', 'Close_lag20', 'High_lag1', 'High_lag2',\n",
        "       'High_lag4', 'High_lag5', 'High_lag7', 'High_lag8', 'High_lag9',\n",
        "       'High_lag10', 'High_lag11', 'High_lag12', 'High_lag13', 'High_lag14',\n",
        "       'High_lag15', 'High_lag16', 'High_lag17', 'High_lag18', 'High_lag19',\n",
        "       'High_lag20', 'Low_lag1', 'Low_lag4', 'Low_lag5', 'Low_lag6',\n",
        "       'Low_lag7', 'Low_lag9', 'Low_lag10', 'Low_lag11', 'Low_lag13',\n",
        "       'Low_lag14', 'Low_lag15', 'Low_lag16', 'Low_lag18', 'Low_lag20',\n",
        "       'Volume_lag1', 'Volume_lag2', 'Volume_lag3','Volume_lag4', 'Volume_lag5', 'Volume_lag6', 'Volume_lag7',\n",
        "       'Volume_lag8', 'Volume_lag9', 'Volume_lag10', 'Volume_lag11',\n",
        "       'Volume_lag12', 'Volume_lag13', 'Volume_lag14', 'Volume_lag16',\n",
        "       'Volume_lag17', 'Volume_lag18', 'Volume_lag19', 'Volume_lag20',\n",
        "       'MA1_lag1', 'MA1_lag2', 'MA1_lag4', 'MA1_lag6', 'MA1_lag7', 'MA1_lag8',\n",
        "       'MA1_lag9', 'MA1_lag11', 'MA1_lag12', 'MA1_lag13', 'MA1_lag14',\n",
        "       'MA1_lag15', 'MA1_lag16', 'MA1_lag17', 'MA1_lag18', 'MA1_lag19',\n",
        "       'MA1_lag20', 'MA2_lag1', 'MA2_lag2', 'MA2_lag3', 'MA2_lag5', 'MA2_lag6',\n",
        "       'MA2_lag9', 'MA2_lag11', 'MA2_lag12', 'MA2_lag13', 'MA2_lag14',\n",
        "       'MA2_lag15', 'MA2_lag16', 'MA2_lag17', 'MA2_lag18', 'MA2_lag19',\n",
        "       'MA2_lag20', 'Market Cap_lag2', 'Market Cap_lag3', 'Market Cap_lag4',\n",
        "       'Market Cap_lag5', 'Market Cap_lag6', 'Market Cap_lag7',\n",
        "       'Market Cap_lag8', 'Market Cap_lag9', 'Market Cap_lag10',\n",
        "       'Market Cap_lag11', 'Market Cap_lag12', 'Market Cap_lag13',\n",
        "       'Market Cap_lag14', 'Market Cap_lag15', 'Market Cap_lag18',\n",
        "       'Market Cap_lag19', 'Market Cap_lag20', 'RSI_lag2', 'RSI_lag3',\n",
        "       'RSI_lag6', 'RSI_lag7', 'RSI_lag11', 'RSI_lag12', 'RSI_lag13',\n",
        "       'RSI_lag14', 'RSI_lag15', 'RSI_lag16', 'RSI_lag17', 'RSI_lag18',\n",
        "       'RSI_lag19', 'RSI_lag20', 'EMA14_lag1', 'EMA14_lag2', 'EMA14_lag4',\n",
        "       'EMA14_lag7', 'EMA14_lag10', 'EMA14_lag20', 'EMA50_lag11',\n",
        "       'EMA50_lag13', 'EMA50_lag14', 'EMA50_lag15', 'EMA50_lag17',\n",
        "       'EMA50_lag18', 'EMA50_lag19', 'MACD_lag1', 'MACD_lag2', 'MACD_lag3',\n",
        "       'MACD_lag4', 'MACD_lag5', 'MACD_lag6', 'MACD_lag7','MACD_lag8', 'MACD_lag9', 'MACD_lag10', 'MACD_lag11', 'MACD_lag12',\n",
        "       'MACD_lag13', 'MACD_lag14', 'MACD_lag15', 'MACD_lag16', 'MACD_lag17',\n",
        "       'MACD_lag18', 'MACD_lag19', 'MACD_lag20', 'ADX_lag1', 'ADX_lag3',\n",
        "       'ADX_lag4', 'ADX_lag5', 'ADX_lag6', 'ADX_lag7', 'ADX_lag8', 'ADX_lag10',\n",
        "       'ADX_lag11', 'ADX_lag13', 'ADX_lag14', 'ADX_lag15', 'ADX_lag16',\n",
        "       'ADX_lag17', 'ADX_lag18', 'ADX_lag20', 'CMF_lag1', 'CMF_lag2',\n",
        "       'CMF_lag3', 'CMF_lag4', 'CMF_lag5', 'CMF_lag6', 'CMF_lag7', 'CMF_lag8',\n",
        "       'CMF_lag9', 'CMF_lag10', 'CMF_lag11', 'CMF_lag12', 'CMF_lag13',\n",
        "       'CMF_lag14', 'CMF_lag15', 'CMF_lag16', 'CMF_lag17', 'CMF_lag18',\n",
        "       'CMF_lag19', 'CMF_lag20', 'SO_lag4', 'SO_lag6', 'SO_lag7', 'SO_lag8',\n",
        "       'SO_lag9', 'SO_lag10', 'SO_lag11', 'SO_lag12', 'SO_lag13', 'SO_lag14',\n",
        "       'SO_lag15', 'SO_lag16', 'SO_lag17', 'SO_lag18', 'SO_lag19', 'SO_lag20',\n",
        "       'LBOLLINGER_lag1', 'LBOLLINGER_lag2', 'LBOLLINGER_lag3',\n",
        "       'LBOLLINGER_lag4', 'LBOLLINGER_lag5', 'LBOLLINGER_lag6',\n",
        "       'LBOLLINGER_lag7', 'LBOLLINGER_lag8', 'LBOLLINGER_lag9',\n",
        "       'LBOLLINGER_lag10', 'LBOLLINGER_lag11', 'LBOLLINGER_lag12',\n",
        "       'LBOLLINGER_lag13', 'LBOLLINGER_lag17', 'LBOLLINGER_lag18',\n",
        "       'LBOLLINGER_lag19', 'LBOLLINGER_lag20', 'HBOLLINGER_lag2',\n",
        "       'HBOLLINGER_lag5', 'HBOLLINGER_lag7', 'HBOLLINGER_lag9',\n",
        "       'HBOLLINGER_lag11', 'HBOLLINGER_lag12', 'HBOLLINGER_lag13',\n",
        "       'HBOLLINGER_lag14', 'HBOLLINGER_lag15', 'HBOLLINGER_lag16',\n",
        "       'HBOLLINGER_lag18', 'HBOLLINGER_lag19', 'HBOLLINGER_lag20', 'FI_lag1',\n",
        "       'FI_lag2', 'FI_lag3', 'FI_lag4', 'FI_lag5', 'FI_lag6', 'FI_lag7', 'FI_lag8', 'FI_lag9', 'FI_lag10', 'FI_lag11',\n",
        "       'FI_lag12', 'FI_lag13', 'FI_lag14', 'FI_lag15', 'FI_lag16', 'FI_lag17',\n",
        "       'FI_lag18', 'FI_lag19', 'FI_lag20', 'Target_lag7', 'Target_lag8',\n",
        "       'Target_lag9', 'Target_lag10', 'Target_lag11', 'Target_lag12',\n",
        "       'Target_lag13', 'Target_lag14', 'Target_lag16', 'Target_lag17',\n",
        "       'Net Income_x_lag1', 'Net Income_x_lag2', 'Net Income_x_lag3',\n",
        "       'Net Income_x_lag4', 'Net Income_x_lag5',\n",
        "       'Other Operating Activities_lag1', 'Other Operating Activities_lag2',\n",
        "       'Other Operating Activities_lag3', 'Other Operating Activities_lag4',\n",
        "       'Other Operating Activities_lag5', 'Operating Cash Flow Growth_lag1',\n",
        "       'Operating Cash Flow Growth_lag2', 'Operating Cash Flow Growth_lag3',\n",
        "       'Operating Cash Flow Growth_lag4', 'Operating Cash Flow Growth_lag5']\n",
        "lassofeatures_lags['TM'] = ['Net Income_x', 'Change in Investments', 'Share Issuance / Repurchase',\n",
        "       'Debt Issued / Paid', 'Other Financing Activities',\n",
        "       'Financing Cash Flow', 'Net Cash Flow', 'Free Cash Flow Margin_x',\n",
        "       'Net Income_y', 'EPS (Basic)', 'EPS (Diluted)', 'Dividend Growth',\n",
        "       'Free Cash Flow Margin_y', 'Market Cap', 'Market Cap Growth', 'EMA14',\n",
        "       'MACD', 'LBOLLINGER', 'FI', 'MA1_lag9', 'MA1_lag10', 'MA2_lag4',\n",
        "       'MA2_lag17', 'MA2_lag18', 'MA2_lag19', 'MA2_lag20', 'Market Cap_lag6',\n",
        "       'EMA14_lag2', 'EMA14_lag3', 'EMA50_lag5', 'EMA50_lag10', 'MACD_lag1',\n",
        "       'MACD_lag2', 'MACD_lag3', 'MACD_lag4', 'MACD_lag5', 'MACD_lag6',\n",
        "       'MACD_lag7', 'MACD_lag8', 'MACD_lag9', 'MACD_lag10', 'MACD_lag11',\n",
        "       'MACD_lag12', 'MACD_lag13', 'MACD_lag14', 'MACD_lag15', 'MACD_lag16',\n",
        "       'MACD_lag17', 'MACD_lag18', 'MACD_lag20', 'CMF_lag2', 'CMF_lag3',\n",
        "       'CMF_lag4', 'CMF_lag5', 'CMF_lag6', 'CMF_lag8', 'CMF_lag10',\n",
        "       'CMF_lag11', 'CMF_lag12', 'CMF_lag13', 'CMF_lag14', 'CMF_lag15',\n",
        "       'CMF_lag18', 'CMF_lag20', 'LBOLLINGER_lag17', 'LBOLLINGER_lag19',\n",
        "       'LBOLLINGER_lag20', 'HBOLLINGER_lag9', 'HBOLLINGER_lag10',\n",
        "       'HBOLLINGER_lag11', 'HBOLLINGER_lag16', 'FI_lag1', 'FI_lag2', 'FI_lag3',\n",
        "       'FI_lag4', 'FI_lag5', 'FI_lag6', 'FI_lag8', 'FI_lag9', 'FI_lag10',\n",
        "       'FI_lag11', 'FI_lag12', 'FI_lag13', 'FI_lag14', 'FI_lag15', 'FI_lag16',\n",
        "       'FI_lag17', 'FI_lag18', 'FI_lag19', 'Cash Growth_lag5',\n",
        "       'Other Long-Term Assets_lag4', 'Common Stock_lag2', 'Common Stock_lag3',\n",
        "       'Working Capital_lag1', 'Net Income_x_lag2', 'Net Income_x_lag3',\n",
        "       'Net Income_x_lag4', 'Net Income_x_lag5','Operating Cash Flow Growth_lag5', 'Change in Investments_lag1',\n",
        "       'Change in Investments_lag5', 'Other Investing Activities_lag3',\n",
        "       'Other Investing Activities_lag4', 'Other Investing Activities_lag5',\n",
        "       'Share Issuance / Repurchase_lag1', 'Share Issuance / Repurchase_lag2',\n",
        "       'Share Issuance / Repurchase_lag3', 'Share Issuance / Repurchase_lag4',\n",
        "       'Share Issuance / Repurchase_lag5', 'Other Financing Activities_lag1',\n",
        "       'Other Financing Activities_lag2', 'Other Financing Activities_lag3',\n",
        "       'Other Financing Activities_lag4', 'Other Financing Activities_lag5',\n",
        "       'Net Cash Flow_lag2', 'Net Cash Flow_lag3', 'Net Cash Flow_lag5',\n",
        "       'Income Tax_lag3', 'Income Tax_lag5', 'Net Income_y_lag1',\n",
        "       'Net Income_y_lag2', 'Net Income_y_lag3', 'Net Income_y_lag4',\n",
        "       'Net Income_y_lag5', 'EPS (Basic)_lag1', 'EPS (Basic)_lag3',\n",
        "       'EPS (Basic)_lag4', 'EPS (Basic)_lag5', 'EPS (Diluted)_lag1',\n",
        "       'EPS (Diluted)_lag4', 'EPS (Diluted)_lag5', 'Dividend Growth_lag1',\n",
        "       'Effective Tax Rate_lag4','Operating Cash Flow Growth_lag1', 'Operating Cash Flow Growth_lag2']\n",
        "\n",
        "lassofeatures_lags['HMC'] =['Cash Growth', 'Other Long-Term Assets', 'Debt Growth', 'Common Stock',\n",
        "       'Depreciation & Amortization_x', 'Change in Investments',\n",
        "       'Other Investing Activities', 'Other Financing Activities',\n",
        "       'Other Expense / Income', 'Net Income Growth', 'EPS (Basic)',\n",
        "       'EPS Growth', 'Operating Margin', 'Effective Tax Rate',\n",
        "       'Depreciation & Amortization_y', 'Market Cap Growth', 'EMA14', 'EMA50',\n",
        "       'MACD', 'CMF', 'FI', 'MA1_lag2', 'MA1_lag4', 'MA2_lag4', 'MA2_lag5',\n",
        "       'MA2_lag6', 'MA2_lag7', 'MACD_lag1', 'MACD_lag2', 'MACD_lag3',\n",
        "       'MACD_lag4', 'MACD_lag5', 'MACD_lag6', 'MACD_lag7', 'MACD_lag10',\n",
        "       'MACD_lag11', 'MACD_lag12', 'MACD_lag13', 'MACD_lag14', 'MACD_lag15',\n",
        "       'MACD_lag16', 'MACD_lag17', 'MACD_lag20', 'CMF_lag2', 'CMF_lag3',\n",
        "       'CMF_lag4', 'CMF_lag5', 'CMF_lag6', 'CMF_lag7', 'CMF_lag8', 'CMF_lag9',\n",
        "       'CMF_lag10', 'CMF_lag11', 'CMF_lag14', 'CMF_lag15', 'CMF_lag16',\n",
        "       'CMF_lag17', 'CMF_lag18', 'CMF_lag19', 'CMF_lag20', 'LBOLLINGER_lag20',\n",
        "       'HBOLLINGER_lag14', 'HBOLLINGER_lag15', 'FI_lag1', 'FI_lag3', 'FI_lag4',\n",
        "       'FI_lag5', 'FI_lag6', 'FI_lag7', 'FI_lag8', 'FI_lag10', 'FI_lag11',\n",
        "       'FI_lag13', 'FI_lag14', 'FI_lag15', 'FI_lag16', 'FI_lag17', 'FI_lag18',\n",
        "       'FI_lag19', 'FI_lag20', 'Debt Growth_lag1', 'Debt Growth_lag2',\n",
        "       'Debt Growth_lag3', 'Debt Growth_lag4', 'Debt Growth_lag5',\n",
        "       'Common Stock_lag1', 'Common Stock_lag2', 'Common Stock_lag3',\n",
        "       'Common Stock_lag4', 'Common Stock_lag5', 'Working Capital_lag4',\n",
        "       'Depreciation & Amortization_x_lag1',\n",
        "       'Depreciation & Amortization_x_lag3',\n",
        "       'Depreciation & Amortization_x_lag5', 'Operating Cash Flow_lag1',\n",
        "       'Operating Cash Flow_lag3', 'Operating Cash Flow_lag4',\n",
        "       'Other Investing Activities_lag1', 'Other Investing Activities_lag2',\n",
        "       'Other Investing Activities_lag3', 'Other Investing Activities_lag4', 'Other Investing Activities_lag5',\n",
        "       'Other Financing Activities_lag1', 'Other Financing Activities_lag3',\n",
        "       'Other Financing Activities_lag4', 'Other Financing Activities_lag5',\n",
        "       'Financing Cash Flow_lag1', 'Other Expense / Income_lag1',\n",
        "       'Other Expense / Income_lag2', 'Other Expense / Income_lag4',\n",
        "       'Other Expense / Income_lag5', 'Income Tax_lag2', 'Income Tax_lag5',\n",
        "       'Net Income Growth_lag1', 'Net Income Growth_lag2',\n",
        "       'Net Income Growth_lag3', 'Net Income Growth_lag4',\n",
        "       'Net Income Growth_lag5', 'EPS (Diluted)_lag3', 'EPS Growth_lag2',\n",
        "       'EPS Growth_lag4', 'EPS Growth_lag5', 'Profit Margin_lag2',\n",
        "       'Profit Margin_lag3', 'Effective Tax Rate_lag1',\n",
        "       'Effective Tax Rate_lag4', 'Depreciation & Amortization_y_lag3',\n",
        "       'Depreciation & Amortization_y_lag5', 'EBIT_lag5', 'EBIT Margin_lag1',\n",
        "       'EBIT Margin_lag2', 'Market Cap Growth_lag1', 'Market Cap Growth_lag3',\n",
        "       'PE Ratio_lag5']\n",
        "\n",
        "\n",
        "\n"
      ]
    },
    {
      "attachments": {},
      "cell_type": "markdown",
      "metadata": {
        "id": "mNb7B5fmZxO2"
      },
      "source": [
        "PCA"
      ]
    },
    {
      "attachments": {},
      "cell_type": "markdown",
      "metadata": {},
      "source": [
        "\n",
        "Este código utiliza PCA para reducción de dimensionalidad y visualización de la varianza acumulada explicada por los componentes principales. Se itera sobre cada marca en brands, se ajusta el modelo PCA y se muestra la varianza acumulada y las 5 variables más importantes para las primeras 5 componentes principales. Finalmente, se muestra un gráfico de la varianza acumulada en función del número de componentes principales. Asegúrate de tener las variables brands y stationary_dataframes correctamente definidas."
      ]
    },
    {
      "cell_type": "code",
      "execution_count": null,
      "metadata": {
        "colab": {
          "base_uri": "https://localhost:8080/",
          "height": 1000
        },
        "id": "auGbB3zG4FjF",
        "outputId": "f4a96720-4201-459b-b0d9-a8c4b33f7c62"
      },
      "outputs": [
        {
          "name": "stdout",
          "output_type": "stream",
          "text": [
            "Brand: F\n",
            "Component 1: 0.999999999829621\n",
            "  Net Income Growth: -0.9999999999999775\n",
            "  Other Current Liabilities: -1.0120009444799331e-07\n",
            "  Other Current Assets: 9.820325093763373e-08\n",
            "  Income Tax: -7.360292289318229e-08\n",
            "  Retained Earnings: 5.43614075848705e-08\n",
            "Component 2: 0.9999999999109624\n",
            "  Other Current Assets: -0.9996667809541617\n",
            "  Other Current Liabilities: 0.020918589036069437\n",
            "  Operating Cash Flow: 0.0055368354838662365\n",
            "  Retained Earnings: 0.005169638202356819\n",
            "  Operating Expenses: -0.003982956142824897\n",
            "Component 3: 0.999999999968142\n",
            "  Other Current Liabilities: 0.9977356434210618\n",
            "  Selling, General & Admin: 0.038796778933907934\n",
            "  Other Investing Activities: -0.02443332132258521\n",
            "  Total Current Liabilities: 0.021675889187772655\n",
            "  Other Current Assets: 0.02089941297209474\n",
            "Component 4: 0.9999999999808845\n",
            "  Operating Cash Flow: -0.9985529135350657\n",
            "  Other Investing Activities: -0.02745914496010609\n",
            "  Retained Earnings: 0.017876321832041905\n",
            "  Comprehensive Income: -0.01776740079189058\n",
            "  EBIT Margin: -0.01565988462213405\n",
            "Component 5: 0.9999999999875475\n",
            "  Retained Earnings: -0.9897060681489842\n",
            "  Effective Tax Rate: -0.11019343734081738\n",
            "  Income Tax: -0.0577784132071646\n",
            "  Interest Expense / Income: -0.0314069057232777\n",
            "  Gross Margin: 0.026886088579066027\n",
            "\n",
            "\n",
            "Brand: GM\n",
            "Component 1: 0.9177063894050606\n",
            "  Other Long-Term Assets: -0.9978857591949706\n",
            "  Net Cash / Debt Growth: -0.04430775486891681\n",
            "  Income Tax: -0.03467323513973454\n",
            "  Operating Expenses: 0.018874405236417292\n",
            "  Pretax Income: -0.011644551558440916\n",
            "Component 2: 0.9402069584733552\n",
            "  Financing Cash Flow: -0.6183942867676532\n",
            "  Dividends Paid: 0.5168400197376969\n",
            "  Gross Profit: 0.4928196811828464\n",
            "  Gross Margin: 0.29209005032666996\n",
            "  Debt Issued / Paid: -0.0907707133643103\n",
            "Component 3: 0.9513538125133338\n",
            "  Net Cash Flow: 0.9256970523562867\n",
            "  Net Income Growth: 0.2882845380069967\n",
            "  Other Operating Activities: -0.1581798363253981\n",
            "  Debt Growth: -0.07827064944123263\n",
            "  Debt Issued / Paid: -0.05933400728326791\n",
            "Component 4: 0.9617194295530799\n",
            "  Net Income Growth: -0.6354523609291725\n",
            "  Other Operating Activities: 0.3465853222576809\n",
            "  Free Cash Flow Margin_x: 0.3077690886874457\n",
            "  Free Cash Flow Margin_y: 0.3077690886874457\n",
            "  Free Cash Flow: 0.28732066488224045\n",
            "Component 5: 0.9714949900912897\n",
            "  Net Income Growth: -0.5158738175005155\n",
            "  Free Cash Flow Margin_x: -0.3636301556937049\n",
            "  Free Cash Flow Margin_y: -0.3636301556937049\n",
            "  Free Cash Flow: -0.3397049102905736\n",
            "  Net Cash Flow: 0.27095228990841536\n",
            "\n",
            "\n",
            "Brand: TSLA\n",
            "Component 1: 0.49916190952741424\n",
            "  Net Cash / Debt Growth: 0.999338287990513\n",
            "  Debt Issued / Paid: 0.028242072431389702\n",
            "  Other Financing Activities: -0.01494731681940063\n",
            "  Current Debt: -0.009730876527551365\n",
            "  Cash Growth: 0.005719119937239502\n",
            "Component 2: 0.8678581621576045\n",
            "  Debt Issued / Paid: -0.7227963142797145\n",
            "  Other Financing Activities: 0.650197556271935\n",
            "  Current Debt: 0.21843863720960346\n",
            "  Financing Cash Flow: 0.07289772282221602\n",
            "  Net Cash / Debt Growth: 0.032452381368592215\n",
            "Component 3: 0.9109924357268692\n",
            "  Current Debt: 0.8611579242822625\n",
            "  Other Financing Activities: -0.4645595347960392\n",
            "  Debt Issued / Paid: -0.1513261157521561\n",
            "  Investing Cash Flow: 0.08951569468216992\n",
            "  Operating Cash Flow Growth: 0.0662366467250249\n",
            "Component 4: 0.9406775570063824\n",
            "  Investing Cash Flow: -0.6998002452261394\n",
            "  Operating Cash Flow Growth: -0.6979694601861599\n",
            "  Current Debt: 0.13655429179496545\n",
            "  Financing Cash Flow: -0.039801584948706316\n",
            "  Debt Issued / Paid: 0.033356049359861355\n",
            "Component 5: 0.9641482560208406\n",
            "  Debt Issued / Paid: -0.6423749150886406\n",
            "  Other Financing Activities: -0.5882840348444889\n",
            "  Current Debt: -0.4331870303432994\n",
            "  Financing Cash Flow: 0.16922560013643143\n",
            "  Debt Growth: 0.09144233075956981\n",
            "\n",
            "\n",
            "Brand: RACE\n",
            "Component 1: 0.46331387398882673\n",
            "  EPS (Diluted): 0.5587747636561301\n",
            "  Net Income_x: 0.4021173280835046\n",
            "  Net Income_y: 0.4021173280835046\n",
            "  EPS (Basic): 0.40065210958229974\n",
            "  EBIT: 0.24726675231244616\n",
            "Component 2: 0.6717508683857931\n",
            "  Other Financing Activities: 0.9749620597466763\n",
            "  EPS Growth: -0.15713022676601088\n",
            "  Net Income Growth: -0.13487105942520083\n",
            "  Other Operating Activities: 0.054949988066889104\n",
            "  Market Cap Growth: 0.023124162046769224\n",
            "Component 3: 0.8258451210822132\n",
            "  EPS Growth: 0.7117595447241905\n",
            "  Net Income Growth: 0.6034452232701724\n",
            "  Other Operating Activities: -0.2553235386170392\n",
            "  Other Financing Activities: 0.2108200802085804\n",
            "  Dividend Growth: 0.06324096141815479\n",
            "Component 4: 0.932572675143225\n",
            "  Other Operating Activities: -0.9391195085303359\n",
            "  EPS Growth: -0.20200469735589294\n",
            "  Net Income Growth: -0.18537553647994298\n",
            "  Revenue Growth (YoY): 0.15643176216947777\n",
            "  Debt Issued / Paid: 0.07865117067056138\n",
            "Component 5: 0.9706969831515121\n",
            "  Effective Tax Rate: -0.7227857062081747\n",
            "  Income Tax: -0.6476768748444636\n",
            "  EPS (Diluted): 0.10151112779504116\n",
            "  Revenue Growth (YoY): 0.09630222037240066\n",
            "  Net Income_y: 0.07396473909644606\n",
            "\n",
            "\n",
            "Brand: TM\n",
            "Component 1: 0.9418939754275718\n",
            "  Other Financing Activities: 0.9999724862613547\n",
            "  Debt Issued / Paid: -0.004055520044096234\n",
            "  Change in Investments: -0.004036917076331895\n",
            "  Dividend Growth: 0.003242108968053276\n",
            "  Share Issuance / Repurchase: 0.0016369137493024092\n",
            "Component 2: 0.9811594842801817\n",
            "  Share Issuance / Repurchase: 0.9994047796379644\n",
            "  Market Cap Growth: 0.02407770296643112\n",
            "  Other Investing Activities: 0.02176348670198644\n",
            "  PE Ratio: -0.006143322381280271\n",
            "  Operating Cash Flow Growth: 0.005905659780896005\n",
            "Component 3: 0.9932477108831842\n",
            "  Change in Investments: 0.9752524609868733\n",
            "  Operating Income: 0.14002744274448134\n",
            "  Other Investing Activities: -0.13089910941807345\n",
            "  Operating Margin: 0.0971319643141233\n",
            "  Dividend Growth: 0.023083860042828603\n",
            "Component 4: 0.9953015589289643\n",
            "  Net Cash Flow: 0.9946802774317882\n",
            "  Effective Tax Rate: -0.053557399349432024\n",
            "  EPS (Diluted): -0.03737623284426227\n",
            "  EPS (Basic): -0.037271807386811205\n",
            "  Net Income_y: -0.037252337595086345\n",
            "Component 5: 0.9965462101792115\n",
            "  EPS (Diluted): 0.49533534169505083\n",
            "  EPS (Basic): 0.49390552229856005\n",
            "  Net Income_x: 0.49360580531009435\n",
            "  Net Income_y: 0.49360580531009435\n",
            "  Investing Cash Flow: -0.10186719403718168\n",
            "\n",
            "\n",
            "Brand: HMC\n",
            "Component 1: 0.8725102043158488\n",
            "  Other Investing Activities: -0.9999899600159312\n",
            "  Operating Cash Flow: -0.0014612397489420505\n",
            "  Property, Plant & Equipment: 0.0012978131499762429\n",
            "  PE Ratio: 0.0011346953813100068\n",
            "  Market Cap Growth: 0.0010636754468060707\n",
            "Component 2: 0.9152393312883298\n",
            "  Depreciation & Amortization_y: 0.7063241127352535\n",
            "  Depreciation & Amortization_x: 0.7063241127352533\n",
            "  Other Financing Activities: 0.034305142575263584\n",
            "  Gross Margin: 0.015689771834248793\n",
            "  Effective Tax Rate: 0.011467012500428513\n",
            "Component 3: 0.9329495537936244\n",
            "  Debt Growth: -0.9961217199134584\n",
            "  Operating Cash Flow: -0.06216411530252646\n",
            "  Other Financing Activities: -0.025977176054679554\n",
            "  Effective Tax Rate: -0.017346002837124633\n",
            "  PE Ratio: -0.014745038562685766\n",
            "Component 4: 0.9461446785812548\n",
            "  Other Financing Activities: -0.9845071098906116\n",
            "  Operating Cash Flow: -0.06937816099127254\n",
            "  Free Cash Flow Per Share_x: -0.06250910381465341\n",
            "  Free Cash Flow Per Share_y: -0.0625091038146534\n",
            "  Free Cash Flow: -0.062489739459025126\n",
            "Component 5: 0.9555212820589611\n",
            "  EPS Growth: -0.6942466743605415\n",
            "  Net Income Growth: -0.6798451100463627\n",
            "  Market Cap Growth: 0.11511409498132381\n",
            "  Effective Tax Rate: -0.11303188635711371\n",
            "  PE Ratio: -0.06561546605238854\n",
            "\n",
            "\n"
          ]
        },
        {
          "data": {
            "image/png": "[encoded data removed]",
            "text/plain": [
              "<Figure size 1000x600 with 1 Axes>"
            ]
          },
          "metadata": {},
          "output_type": "display_data"
        }
      ],
      "source": [
        "from sklearn.decomposition import PCA\n",
        "from sklearn.preprocessing import RobustScaler\n",
        "import matplotlib.pyplot as plt\n",
        "import seaborn as sns\n",
        "import numpy as np\n",
        "import pandas as pd\n",
        "\n",
        "plt.figure(figsize=(10, 6))\n",
        "\n",
        "# Define el mapa de colores\n",
        "color_map = plt.get_cmap('tab10')\n",
        "\n",
        "# Itera a través de cada marca\n",
        "for i, brand in enumerate(brands):\n",
        "    # Extrae el DataFrame correspondiente a la marca actual\n",
        "    dfs = stationary_dataframes[brand].copy()\n",
        "\n",
        "    # Separa las características y la variable objetivo\n",
        "    df_features = dfs.drop(['Target', 'Nominal_Close'], axis=1)\n",
        "\n",
        "    # Define el modelo PCA\n",
        "    pca = PCA()\n",
        "\n",
        "    # Escala las características\n",
        "    scaler = RobustScaler()\n",
        "    df_features_scaled = pd.DataFrame(scaler.fit_transform(df_features), columns=df_features.columns)\n",
        "\n",
        "    # Ajusta el modelo PCA\n",
        "    pca.fit(df_features_scaled)\n",
        "\n",
        "    # Calcula la varianza acumulada\n",
        "    cumulative_variance = np.cumsum(pca.explained_variance_ratio_)\n",
        "\n",
        "    # Dibuja la línea de la varianza acumulada para la marca actual\n",
        "    plt.plot(range(1, len(cumulative_variance[:40]) + 1), cumulative_variance[:40], '-o', label=brand, color=color_map(i))\n",
        "\n",
        "    # Imprime las 5 variables más importantes para cada una de las 5 primeras componentes\n",
        "    print(f'Brand: {brand}')\n",
        "    for j in range(5):\n",
        "        # Recupera los coeficientes de la componente principal\n",
        "        component = pca.components_[j]\n",
        "\n",
        "        # Asocia cada coeficiente con el nombre de la característica correspondiente\n",
        "        feature_weights = dict(zip(df_features.columns, component))\n",
        "\n",
        "        # Ordena las características por el valor absoluto de su peso y toma las 5 primeras\n",
        "        top_features = sorted(feature_weights.items(), key=lambda x: abs(x[1]), reverse=True)[:5]\n",
        "\n",
        "        print(f'Component {j+1}: {cumulative_variance[j]}')\n",
        "        for feature, weight in top_features:\n",
        "            print(f'  {feature}: {weight}')\n",
        "\n",
        "    print('\\n')\n",
        "\n",
        "# Añade etiquetas y título\n",
        "plt.title('Scree plot')\n",
        "plt.xlabel('Number of principal components')\n",
        "plt.ylabel('Cumulative explained variance')\n",
        "plt.legend()\n",
        "plt.xticks(range(1, 41))\n",
        "plt.show()\n"
      ]
    },
    {
      "cell_type": "code",
      "execution_count": null,
      "metadata": {
        "colab": {
          "base_uri": "https://localhost:8080/",
          "height": 1000
        },
        "id": "bRQfg_QBBM6Z",
        "outputId": "584610c3-bf44-4348-be95-bf12b39520f5"
      },
      "outputs": [
        {
          "name": "stdout",
          "output_type": "stream",
          "text": [
            "Brand: F\n",
            "Component 1: 0.31073304160504545\n",
            "  Net Income Growth_lag2: -0.9573240664062573\n",
            "  Net Income Growth_lag1: 0.2853033193300718\n",
            "  Net Income Growth: 0.04576910395523177\n",
            "  Net Income Growth_lag3: 0.006151030547284368\n",
            "  Other Current Liabilities_lag5: -3.574656904407928e-05\n",
            "Component 2: 0.6086744066247467\n",
            "  Net Income Growth_lag1: -0.9538057409734565\n",
            "  Net Income Growth_lag2: -0.27886651122293904\n",
            "  Net Income Growth: 0.1111538241064724\n",
            "  Net Income Growth_lag3: 0.011528289472726678\n",
            "  Other Current Liabilities_lag4: -3.583729591738978e-05\n",
            "Component 3: 0.8709291667094191\n",
            "  Net Income Growth: -0.9926824737328613\n",
            "  Net Income Growth_lag1: -0.09352538056988884\n",
            "  Net Income Growth_lag2: -0.07524782528374946\n",
            "  Net Income Growth_lag3: 0.013125192395647417\n",
            "  Other Current Liabilities_lag3: 3.313073476989692e-05\n",
            "Component 4: 0.9999999312796983\n",
            "  Net Income Growth_lag3: -0.9998284810119565\n",
            "  Net Income Growth: -0.011468173897741398\n",
            "  Net Income Growth_lag1: -0.010470174703680795\n",
            "  Net Income Growth_lag2: -0.010092755600547027\n",
            "  Other Current Liabilities_lag5: -3.505188643822558e-05\n",
            "Component 5: 0.9999999588065607\n",
            "  Other Current Liabilities_lag2: 0.49908904413373345\n",
            "  Other Current Liabilities_lag4: 0.4722349098551584\n",
            "  Other Current Liabilities_lag5: -0.4381862195379549\n",
            "  Other Current Liabilities_lag3: -0.4366649005459259\n",
            "  Other Current Liabilities_lag1: -0.3810407541357127\n",
            "\n",
            "\n",
            "Brand: GM\n",
            "Component 1: 0.2306362961727065\n",
            "  Other Long-Term Assets_lag1: -0.9830363376501033\n",
            "  Other Long-Term Assets_lag2: 0.138987371773485\n",
            "  Other Long-Term Assets_lag4: 0.05759917881704136\n",
            "  Net Cash / Debt Growth_lag1: -0.047079071045091236\n",
            "  Other Investing Activities_lag3: -0.037964818585521275\n",
            "Component 2: 0.4290190438694548\n",
            "  Other Long-Term Assets_lag2: -0.9701857340082293\n",
            "  Other Long-Term Assets_lag3: 0.12887826249147635\n",
            "  Other Long-Term Assets_lag1: -0.12706214334026356\n",
            "  Other Long-Term Assets_lag5: 0.11519119180079632\n",
            "  Debt Issued / Paid: 0.06019494975992985\n",
            "Component 3: 0.5988186528024675\n",
            "  Other Long-Term Assets_lag3: -0.9766145897028887\n",
            "  Other Long-Term Assets_lag5: 0.12937913806370205\n",
            "  Other Long-Term Assets_lag2: -0.10574571517864394\n",
            "  Other Long-Term Assets_lag4: 0.09641340225902686\n",
            "  Net Cash / Debt Growth_lag3: -0.049162947972539936\n",
            "Component 4: 0.7469632800796071\n",
            "  Other Long-Term Assets_lag5: -0.9098146048427059\n",
            "  Other Long-Term Assets_lag4: 0.3809964407855184\n",
            "  Other Long-Term Assets_lag2: -0.09948152959305936\n",
            "  Other Long-Term Assets_lag3: -0.0710222460175011\n",
            "  Debt Issued / Paid_lag2: 0.0618009554137957\n",
            "Component 5: 0.8831572683564737\n",
            "  Other Long-Term Assets_lag4: -0.9100889877158276\n",
            "  Other Long-Term Assets_lag5: -0.3594908550969113\n",
            "  Other Long-Term Assets_lag3: -0.12565027300315132\n",
            "  Other Long-Term Assets_lag1: -0.08168382646205354\n",
            "  Other Long-Term Assets_lag2: -0.08048950617414671\n",
            "\n",
            "\n",
            "Brand: TSLA\n",
            "Component 1: 0.16277472185877018\n",
            "  Other Financing Activities_lag1: -0.4930111607457671\n",
            "  Debt Issued / Paid_lag5: -0.4804105755676584\n",
            "  Debt Issued / Paid_lag1: 0.46190897299841177\n",
            "  Other Financing Activities_lag5: 0.3977205302988481\n",
            "  Current Debt_lag1: -0.18962235659612947\n",
            "Component 2: 0.3082341505274362\n",
            "  Other Financing Activities: -0.4878806115276588\n",
            "  Debt Issued / Paid: 0.4726667335121653\n",
            "  Debt Issued / Paid_lag3: -0.46648238176213125\n",
            "  Other Financing Activities_lag3: 0.3398194367503317\n",
            "  Current Debt: -0.22755398980816943\n",
            "Component 3: 0.4283783129955138\n",
            "  Other Financing Activities_lag2: 0.6564701337843226\n",
            "  Debt Issued / Paid_lag2: -0.6294838520607947\n",
            "  Current Debt_lag2: 0.23231073299085392\n",
            "  Current Debt_lag4: 0.18179122828522215\n",
            "  Debt Issued / Paid_lag4: -0.15144607046656403\n",
            "Component 4: 0.5406159439677946\n",
            "  Debt Issued / Paid_lag4: -0.7203115869634339\n",
            "  Other Financing Activities_lag4: 0.5746247372336714\n",
            "  Investing Cash Flow_lag2: -0.23562349915805794\n",
            "  Other Financing Activities_lag2: -0.15509805911083674\n",
            "  Debt Issued / Paid_lag2: 0.1504691814508125\n",
            "Component 5: 0.638774660482331\n",
            "  Net Cash / Debt Growth_lag5: 0.751703930740067\n",
            "  Debt Issued / Paid_lag1: 0.2974211796335895\n",
            "  Debt Issued / Paid_lag5: 0.2794720885146006\n",
            "  Other Financing Activities_lag5: -0.26974973747140163\n",
            "  Current Debt_lag1: -0.19934987791147898\n",
            "\n",
            "\n",
            "Brand: RACE\n",
            "Component 1: 0.14454680539891596\n",
            "  EPS (Diluted): 0.47097367705574306\n",
            "  EPS (Basic): 0.40813511782118644\n",
            "  Net Income_x: 0.3951929098526457\n",
            "  Net Income_y: 0.3951929098526457\n",
            "  EBIT: 0.3103734769965483\n",
            "Component 2: 0.268740236846238\n",
            "  Other Operating Activities_lag3: -0.31350821905891035\n",
            "  EPS (Diluted)_lag2: 0.3124079842134231\n",
            "  EPS Growth: 0.3057467729585951\n",
            "  Net Income Growth: 0.2642198606496957\n",
            "  Net Income_x_lag2: 0.2448082036821212\n",
            "Component 3: 0.37550969445313964\n",
            "  Other Financing Activities_lag4: 0.8508906632699886\n",
            "  Other Operating Activities: 0.23889423514278718\n",
            "  Net Income Growth_lag4: -0.14305283989777473\n",
            "  EPS Growth_lag4: -0.13883063735335294\n",
            "  Net Income Growth_lag2: -0.13572245594503854\n",
            "Component 4: 0.475765812107757\n",
            "  Other Financing Activities_lag4: -0.29151386960448944\n",
            "  Other Operating Activities_lag5: -0.2824474534386712\n",
            "  EPS (Diluted)_lag4: 0.2758012720544722\n",
            "  EPS Growth_lag1: 0.24568869425776074\n",
            "  Net Income Growth_lag3: 0.22265991556523032\n",
            "Component 5: 0.5622661943574918\n",
            "  EPS (Diluted)_lag1: 0.36560265967866706\n",
            "  Other Operating Activities_lag2: -0.35318541108215307\n",
            "  Net Income_x_lag1: 0.28717919146435866\n",
            "  Net Income_y_lag1: 0.28717919146435866\n",
            "  EPS (Basic)_lag1: 0.2835609574147517\n",
            "\n",
            "\n",
            "Brand: TM\n",
            "Component 1: 0.23458119544070657\n",
            "  Other Financing Activities_lag3: 0.6907225882089206\n",
            "  Other Financing Activities: 0.6714037333931059\n",
            "  Other Financing Activities_lag4: -0.1782945783672506\n",
            "  Other Financing Activities_lag5: -0.1521173005735194\n",
            "  Other Financing Activities_lag1: -0.08762283517922753\n",
            "Component 2: 0.41203033857209326\n",
            "  Other Financing Activities_lag4: 0.7640016865937106\n",
            "  Other Financing Activities_lag5: -0.5803146162752479\n",
            "  Other Financing Activities_lag1: -0.27031675782453435\n",
            "  Net Cash Flow_lag5: 0.045077448320995445\n",
            "  Share Issuance / Repurchase_lag4: 0.02600925027182937\n",
            "Component 3: 0.5655708326103719\n",
            "  Other Financing Activities_lag5: 0.6871531115036442\n",
            "  Other Financing Activities_lag4: 0.6017478857528814\n",
            "  Other Financing Activities_lag1: 0.25161707618397905\n",
            "  Other Financing Activities_lag2: -0.2032023115192838\n",
            "  Other Financing Activities_lag3: 0.17129313792263748\n",
            "Component 4: 0.7107159134925393\n",
            "  Other Financing Activities: 0.7107210942817811\n",
            "  Other Financing Activities_lag3: -0.6939243243775681\n",
            "  Share Issuance / Repurchase_lag2: -0.09881495044739808\n",
            "  Net Cash Flow_lag4: -0.050643154483737\n",
            "  Financing Cash Flow_lag1: -0.019838253538121912\n",
            "Component 5: 0.8068818946217537\n",
            "  Other Financing Activities_lag2: 0.924558840424191\n",
            "  Other Financing Activities_lag5: 0.23407006675563344\n",
            "  Other Financing Activities_lag1: -0.21112985911118\n",
            "  Share Issuance / Repurchase_lag5: -0.13813943239582946\n",
            "  Other Financing Activities_lag4: 0.10240609009817461\n",
            "\n",
            "\n",
            "Brand: HMC\n",
            "Component 1: 0.21135621630160448\n",
            "  Other Investing Activities_lag2: -0.9975699936479354\n",
            "  Other Investing Activities_lag1: 0.04585051563702443\n",
            "  Other Investing Activities_lag4: 0.029244747383323125\n",
            "  Other Investing Activities_lag3: 0.025988253621082077\n",
            "  Financing Cash Flow_lag4: -0.021638189980723976\n",
            "Component 2: 0.3629128398668322\n",
            "  Other Investing Activities_lag1: -0.9907705424224801\n",
            "  Other Investing Activities: 0.07979437653164487\n",
            "  Other Investing Activities_lag3: 0.07786884319650246\n",
            "  Other Investing Activities_lag4: 0.05083871258728598\n",
            "  Other Investing Activities_lag2: -0.040520773218635044\n",
            "Component 3: 0.49487445061187635\n",
            "  Other Investing Activities_lag4: -0.8251010290379738\n",
            "  Other Investing Activities: 0.5589251854097038\n",
            "  Other Investing Activities_lag3: 0.06290007054953826\n",
            "  Other Expense / Income: -0.041949458378748944\n",
            "  Financing Cash Flow_lag1: 0.014808087832494047\n",
            "Component 4: 0.6226885880862177\n",
            "  Other Investing Activities_lag3: -0.7312862186049973\n",
            "  Other Investing Activities: 0.58847235410483\n",
            "  Other Investing Activities_lag4: 0.34233928263335367\n",
            "  Financing Cash Flow_lag5: -0.01998065370872366\n",
            "  Other Expense / Income: 0.01820689221718224\n",
            "Component 5: 0.7446857322828883\n",
            "  Other Investing Activities_lag3: -0.6724889114314853\n",
            "  Other Investing Activities: -0.5771359854087466\n",
            "  Other Investing Activities_lag4: -0.44137607756121267\n",
            "  Other Investing Activities_lag1: -0.11915297246274216\n",
            "  Other Investing Activities_lag2: -0.04572636526315887\n",
            "\n",
            "\n"
          ]
        },
        {
          "data": {
            "image/png": "[encoded data removed]",
            "text/plain": [
              "<Figure size 1000x600 with 1 Axes>"
            ]
          },
          "metadata": {},
          "output_type": "display_data"
        }
      ],
      "source": [
        "from sklearn.decomposition import PCA\n",
        "from sklearn.preprocessing import RobustScaler\n",
        "import matplotlib.pyplot as plt\n",
        "import seaborn as sns\n",
        "import numpy as np\n",
        "import pandas as pd\n",
        "\n",
        "plt.figure(figsize=(10, 6))\n",
        "\n",
        "# Define el mapa de colores\n",
        "color_map = plt.get_cmap('tab10')\n",
        "\n",
        "# Itera a través de cada marca\n",
        "for i, brand in enumerate(brands):\n",
        "    # Extrae el DataFrame correspondiente a la marca actual\n",
        "    dfs = lagged_stationary_dataframes[brand].copy()\n",
        "\n",
        "    # Separa las características y la variable objetivo\n",
        "    df_features = dfs.drop(['Target', 'Nominal_Close'], axis=1)\n",
        "\n",
        "    # Define el modelo PCA\n",
        "    pca = PCA()\n",
        "\n",
        "    # Escala las características\n",
        "    scaler = RobustScaler()\n",
        "    df_features_scaled = pd.DataFrame(scaler.fit_transform(df_features), columns=df_features.columns)\n",
        "\n",
        "    # Ajusta el modelo PCA\n",
        "    pca.fit(df_features_scaled)\n",
        "\n",
        "    # Calcula la varianza acumulada\n",
        "    cumulative_variance = np.cumsum(pca.explained_variance_ratio_)\n",
        "\n",
        "    # Dibuja la línea de la varianza acumulada para la marca actual\n",
        "    plt.plot(range(1, len(cumulative_variance[:40]) + 1), cumulative_variance[:40], '-o', label=brand, color=color_map(i))\n",
        "\n",
        "    # Imprime las 5 variables más importantes para cada una de las 5 primeras componentes\n",
        "    print(f'Brand: {brand}')\n",
        "    for j in range(5):\n",
        "        # Recupera los coeficientes de la componente principal\n",
        "        component = pca.components_[j]\n",
        "\n",
        "        # Asocia cada coeficiente con el nombre de la característica correspondiente\n",
        "        feature_weights = dict(zip(df_features.columns, component))\n",
        "\n",
        "        # Ordena las características por el valor absoluto de su peso y toma las 5 primeras\n",
        "        top_features = sorted(feature_weights.items(), key=lambda x: abs(x[1]), reverse=True)[:5]\n",
        "\n",
        "        print(f'Component {j+1}: {cumulative_variance[j]}')\n",
        "        for feature, weight in top_features:\n",
        "            print(f'  {feature}: {weight}')\n",
        "\n",
        "    print('\\n')\n",
        "\n",
        "# Añade etiquetas y título\n",
        "plt.title('Scree plot')\n",
        "plt.xlabel('Number of principal components')\n",
        "plt.ylabel('Cumulative explained variance')\n",
        "plt.legend()\n",
        "plt.xticks(range(1, 41))\n",
        "\n",
        "plt.show()\n",
        "\n"
      ]
    },
    {
      "attachments": {},
      "cell_type": "markdown",
      "metadata": {
        "id": "rpt8lA2dZ5gK"
      },
      "source": [
        "# FUNCIONES AUXILIARES"
      ]
    },
    {
      "attachments": {},
      "cell_type": "markdown",
      "metadata": {},
      "source": [
        "La función `errors` calcula y muestra el MAE, MAPE, MDAPE y RMSE entre `y_test` y `y_pred`. Luego, imprime los valores redondeados a 4 decimales. Para utilizarla, llama a la función `errors` pasando `y_test` y `y_pred` como argumentos."
      ]
    },
    {
      "cell_type": "code",
      "execution_count": null,
      "metadata": {
        "id": "7-Xq0V-8BA3C"
      },
      "outputs": [],
      "source": [
        "from sklearn.metrics import mean_absolute_error, mean_squared_error\n",
        "\n",
        "def errors(y_test, y_pred):\n",
        "\n",
        "    # Mean Absolute Error (MAE)\n",
        "    MAE = mean_absolute_error(y_test, y_pred)\n",
        "\n",
        "    # Mean Absolute Percentage Error (MAPE)\n",
        "    MAPE = np.mean(np.abs((y_test - y_pred) / y_test)) * 100\n",
        "\n",
        "    # Median Absolute Percentage Error (MDAPE)\n",
        "    MDAPE = np.median(np.abs((y_test - y_pred) / y_test)) * 100\n",
        "\n",
        "    RMSE = math.sqrt(mean_squared_error(y_test,y_pred))\n",
        "        # Mean Absolute Error (MAE)\n",
        "    print(f'Mean Absolute Error (MAE): {np.round(MAE, 4)}')\n",
        "\n",
        "    # Mean Absolute Percentage Error (MAPE)\n",
        "    print(f'Mean Absolute Percentage Error (MAPE): {np.round(MAPE, 4)} %')\n",
        "\n",
        "    # Median Absolute Percentage Error (MDAPE)\n",
        "    print(f'Median Absolute Percentage Error (MDAPE): {np.round(MDAPE, 4)} %')\n",
        "\n",
        "    # Mean Quatratic Error(RMSE)\n",
        "    print(f'Mean Quatratic Error (RMSE): {np.round(RMSE, 4)}')\n",
        "\n",
        "    return MAE, MAPE, MDAPE, RMSE\n"
      ]
    },
    {
      "attachments": {},
      "cell_type": "markdown",
      "metadata": {
        "id": "wkRf8Hx1RIUI"
      },
      "source": [
        "Función para transformar de incremento porcentual a valor nominal\n",
        "La función `transform_targets` ajusta las columnas de destino en el DataFrame `df`. Se calcula la longitud de los datos de entrenamiento y la fecha límite de entrenamiento. Luego, se realizan las transformaciones necesarias en las columnas de destino basadas en las condiciones especificadas. Finalmente, se devuelve el DataFrame modificado. Para usar esta función, pasa el DataFrame, el porcentaje de datos de entrenamiento y, opcionalmente, el nombre de la columna de cierre."
      ]
    },
    {
      "cell_type": "code",
      "execution_count": null,
      "metadata": {
        "id": "IpK5k_l9BA3C"
      },
      "outputs": [],
      "source": [
        "def transform_targets(df, train_perc, close_col='Nominal_Close'):\n",
        "    # Obteniendo las fechas correspondientes a las posiciones de train_data_len - 1 y train_data_len\n",
        "    train_data_len = math.ceil(df.shape[0] * train_perc)\n",
        "    train_date_limit = df.index[train_data_len]\n",
        "    for col in df.columns:\n",
        "        if col == 'residuals':\n",
        "            df.loc[train_date_limit:, col] = df.loc[train_date_limit:, col] * df.loc[train_date_limit:, close_col]\n",
        "        elif col == 'y_train':\n",
        "           df.loc[:train_date_limit, col] = df.loc[:train_date_limit, col] * df.loc[:train_date_limit, close_col] + df.loc[:train_date_limit, close_col]\n",
        "        elif col != close_col:\n",
        "            df.loc[train_date_limit:, col] = df.loc[train_date_limit:, col] * df.loc[train_date_limit:, close_col] + df.loc[train_date_limit:, close_col]\n",
        "    return df\n"
      ]
    },
    {
      "cell_type": "code",
      "execution_count": null,
      "metadata": {
        "id": "b7aFNZVlBA3D"
      },
      "outputs": [],
      "source": [
        "from sklearn.decomposition import PCA\n",
        "from sklearn.linear_model import Lasso\n",
        "from sklearn.feature_selection import SelectFromModel"
      ]
    },
    {
      "attachments": {},
      "cell_type": "markdown",
      "metadata": {
        "id": "y9zD1SusROzk"
      },
      "source": [
        "Función utilizada para el input de la LSTM"
      ]
    },
    {
      "attachments": {},
      "cell_type": "markdown",
      "metadata": {},
      "source": [
        "La función `partition_dataset` divide un conjunto de datos en secuencias de longitud `sequence_length`. Se crea una lista `x` para almacenar las secuencias y una lista `y` para almacenar las etiquetas correspondientes. Se itera sobre los datos desde `sequence_length` hasta la longitud total de los datos, agregando las secuencias a `x` y las etiquetas a `y`. Finalmente, se convierten `x` e `y` en arrays numpy y se devuelven. Para usar esta función, pasa la longitud de la secuencia, los datos y la variable objetivo."
      ]
    },
    {
      "cell_type": "code",
      "execution_count": null,
      "metadata": {
        "id": "7cxnOWIIBA3D"
      },
      "outputs": [],
      "source": [
        "def partition_dataset(sequence_length, data, target):\n",
        "    x, y = [], []\n",
        "    data_len = data.shape[0]\n",
        "\n",
        "    for i in range(sequence_length, data_len):\n",
        "        x.append(data[i-sequence_length:i]) # contains sequence_length values 0-sequence_length from feature columns\n",
        "        y.append(target[i]) # contains the prediction values for validation, for single-step prediction\n",
        "\n",
        "    x = np.array(x)\n",
        "    y = np.array(y)\n",
        "    return x, y\n"
      ]
    },
    {
      "attachments": {},
      "cell_type": "markdown",
      "metadata": {
        "id": "P6WVsGHNRVeA"
      },
      "source": [
        "Selección de variables y escalado"
      ]
    },
    {
      "attachments": {},
      "cell_type": "markdown",
      "metadata": {},
      "source": [
        "La función `feature_scaling_and_selection` realiza el escalado y la selección de características según los parámetros proporcionados. Se separan las características y la variable objetivo del DataFrame y se aplican escaladores a las características y las predicciones. Si se especifica, se realiza la selección de características utilizando Lasso o PCA. Finalmente, se devuelve un array numpy de características escaladas, un array numpy de variable objetivo escalada y el escalador utilizado para las predicciones. Para utilizar esta función, pasa el DataFrame y, opcionalmente, establece los parámetros para la selección y transformación de características.\n",
        "\n",
        "\n",
        "\n"
      ]
    },
    {
      "cell_type": "code",
      "execution_count": null,
      "metadata": {
        "id": "8OSy9UvSBA3F"
      },
      "outputs": [],
      "source": [
        "from sklearn.model_selection import GridSearchCV\n",
        "\n",
        "def feature_scaling_and_selection(df, stockname=None, stationary=False, lagged = False, use_Lasso=False, use_PCA=False):\n",
        "    # Separate the target variable from the features\n",
        "    dfs = df.copy()\n",
        "    if stationary:\n",
        "        df_features = dfs.drop(['Target', 'Nominal_Close'], axis=1)\n",
        "        df_target = dfs['Target']\n",
        "        df_Nominal_Close = dfs['Nominal_Close']\n",
        "    else:\n",
        "        df_features = dfs.drop('Target', axis=1)\n",
        "        df_target = dfs['Target']\n",
        "\n",
        "\n",
        "    # Scaling the features\n",
        "    scaler = RobustScaler()\n",
        "    df_features_scaled = pd.DataFrame(scaler.fit_transform(df_features), columns=df_features.columns)\n",
        "\n",
        "    # Creating a separate scaler that works on a single column for scaling predictions\n",
        "    scaler_pred = RobustScaler()\n",
        "    df_target_scaled = pd.Series(scaler_pred.fit_transform(df_target.values.reshape(-1, 1)).flatten())\n",
        "\n",
        "\n",
        "\n",
        "        # Apply Lasso transformation if Lasso is set to True\n",
        "    if use_Lasso:\n",
        "        # Selecciona las características importantes\n",
        "        if lagged:\n",
        "          df_features_scaled = df_features_scaled[lassofeatures_lags[stockname]]\n",
        "        else:\n",
        "          df_features_scaled = df_features_scaled[lassofeatures_nolags[stockname]]\n",
        "\n",
        "    # Apply PCA transformation if PCA is set to True\n",
        "    if use_PCA:\n",
        "        pca = PCA(n_components=0.93)\n",
        "        np_data_scaled = pca.fit_transform(df_features_scaled)\n",
        "        scaler = RobustScaler()\n",
        "        np_data_scaled = scaler.fit_transform(np_data_scaled)\n",
        "    else:\n",
        "        # Converting the dataframe to arrays\n",
        "        nrows = df_features.shape[0]\n",
        "        np_data_scaled = np.reshape(np.array(df_features_scaled), (nrows, -1))\n",
        "    np_target_scaled = df_target_scaled.values.reshape(-1,1)\n",
        "\n",
        "\n",
        "    return np_data_scaled, np_target_scaled, scaler_pred\n"
      ]
    },
    {
      "attachments": {},
      "cell_type": "markdown",
      "metadata": {
        "id": "83rgMzJIRaOn"
      },
      "source": [
        "Pruebas varias\n"
      ]
    },
    {
      "cell_type": "code",
      "execution_count": null,
      "metadata": {
        "id": "5YXyWeowZoPf"
      },
      "outputs": [],
      "source": [
        "def train_test_transform(df, train_perc = 0.8):\n",
        "  dfs = df.copy()\n",
        "\n",
        "  df_features = dfs.drop(['Target', 'Nominal_Close'], axis=1)\n",
        "  df_target = dfs['Target']\n",
        "\n",
        "\n",
        "  train_data_len = math.ceil(dfs.shape[0] * train_perc)\n",
        "  X_train, X_test, y_train, y_test = df_features[:train_data_len], df_features[train_data_len:], df_target[:train_data_len], df_target[train_data_len:]\n",
        "\n",
        "\n",
        "  scaler_X = RobustScaler()\n",
        "  # Ajusta el escalador a los datos de entrenamiento y transforma los conjuntos de datos\n",
        "  X_train_scaled = scaler_X.fit_transform(X_train)\n",
        "  X_test_scaled = scaler_X.transform(X_test)\n",
        "  return X_train_scaled, X_test_scaled, y_train, y_test\n",
        "\n",
        "\n"
      ]
    },
    {
      "attachments": {},
      "cell_type": "markdown",
      "metadata": {
        "id": "MVgmYfhtRcOT"
      },
      "source": [
        "Nuestra función train_test_split"
      ]
    },
    {
      "attachments": {},
      "cell_type": "markdown",
      "metadata": {},
      "source": [
        "\n",
        "La función `train_test_split` divide los datos y la variable objetivo en conjuntos de entrenamiento y prueba. Se calcula la longitud de los datos de entrenamiento en base al porcentaje especificado. Luego, se crean los conjuntos de entrenamiento y prueba según la longitud calculada. Si se especifica para LSTM, los conjuntos se generan en secuencias utilizando la función `partition_dataset`. Finalmente, se devuelven los conjuntos de entrenamiento y prueba. Para utilizar esta función, pasa los datos, la variable objetivo y el porcentaje de entrenamiento, y opcionalmente establece los parámetros para LSTM y la longitud de la secuencia."
      ]
    },
    {
      "cell_type": "code",
      "execution_count": null,
      "metadata": {
        "id": "HeHXcpEuBA3F"
      },
      "outputs": [],
      "source": [
        "def train_test_split(np_data, np_target_scaled, train_perc, for_LSTM = False, sequence_length = 0):\n",
        "\n",
        "    # Split the training data into train and train data sets\n",
        "    # As a first step, we get the number of rows to train the model on 80% of the data\n",
        "    train_data_len = math.ceil(np_data.shape[0] * train_perc)\n",
        "\n",
        "    # Create the training and test data\n",
        "    train_data = np_data[:train_data_len]\n",
        "    train_target = np_target_scaled[:train_data_len]\n",
        "\n",
        "    if for_LSTM == True:\n",
        "        test_data = np_data[train_data_len - sequence_length:, :]\n",
        "        test_target = np_target_scaled[train_data_len - sequence_length:, :]\n",
        "\n",
        "        # Generate training data and test data\n",
        "        X_train, y_train = partition_dataset(sequence_length, train_data, train_target)\n",
        "        X_test, y_test = partition_dataset(sequence_length, test_data, test_target)\n",
        "        # Validate that the prediction value and the input match up\n",
        "        # The last close price of the second input sample should equal the first prediction value\n",
        "        print(X_train[1][sequence_length-1][0])\n",
        "        print(y_train[0])\n",
        "\n",
        "    else :\n",
        "        X_train, X_test, y_train, y_test = train_data, np_data[train_data_len:], train_target, np_target_scaled[train_data_len:]\n",
        "\n",
        "\n",
        "    # Print the shapes: the result is: (rows, training_sequence, features) (prediction value, )\n",
        "    print(X_train.shape, y_train.shape)\n",
        "    print(X_test.shape, y_test.shape)\n",
        "\n",
        "\n",
        "    return X_train, X_test, y_train, y_test"
      ]
    },
    {
      "attachments": {},
      "cell_type": "markdown",
      "metadata": {
        "id": "8K0NTjAtRjaa"
      },
      "source": [
        "Añadir los resultados a un dataframe\n"
      ]
    },
    {
      "attachments": {},
      "cell_type": "markdown",
      "metadata": {},
      "source": [
        "La función `results_df` crea un DataFrame de resultados que combina los datos de entrenamiento, las etiquetas reales, las etiquetas predichas y los residuos. Se calcula la longitud de los datos de entrenamiento en base al porcentaje especificado. Luego, se crean los DataFrames de entrenamiento y prueba a partir de las columnas correspondientes del DataFrame original. Se agregan las columnas de etiquetas predichas y residuos al DataFrame de prueba. Finalmente, se devuelve el DataFrame combinado.\n",
        "\n",
        "\n",
        "\n"
      ]
    },
    {
      "cell_type": "code",
      "execution_count": null,
      "metadata": {
        "id": "Y41CsrJuBA3G"
      },
      "outputs": [],
      "source": [
        "def results_df(df, stockname, train_perc, stationary, y_pred):\n",
        "\n",
        "    train_data_len = math.ceil(df.shape[0] * train_perc)\n",
        "    train = pd.DataFrame(df['Target'][:train_data_len]).rename(columns={'Target': 'y_train'})\n",
        "    valid = pd.DataFrame(df['Target'][train_data_len:]).rename(columns={'Target': 'y_test'})\n",
        "    valid.insert(1, \"y_pred\", y_pred, True)\n",
        "    valid.insert(1, \"residuals\", valid[\"y_pred\"] - valid[\"y_test\"], True)\n",
        "    df_union = pd.concat([train, valid])\n",
        "    if stationary:\n",
        "            df_union['Nominal_Close'] = df['Nominal_Close']\n",
        "            df_union = transform_targets(df_union, train_perc)\n",
        "    return df_union"
      ]
    },
    {
      "attachments": {},
      "cell_type": "markdown",
      "metadata": {
        "id": "Rq1oOiVFRmq0"
      },
      "source": [
        "Modelo de la red LSTM"
      ]
    },
    {
      "attachments": {},
      "cell_type": "markdown",
      "metadata": {},
      "source": [
        "La función `model_LSTM` crea un modelo LSTM utilizando Keras. Se añaden capas LSTM con el número de neuronas especificado, se aplica Dropout para regularización, y se añaden capas densas. El modelo se compila con el optimizador, la función de pérdida y se devuelve. Para utilizar esta función, pasa los datos de entrenamiento y opcionalmente establece los parámetros del modelo.\n",
        "\n",
        "\n",
        "\n"
      ]
    },
    {
      "cell_type": "code",
      "execution_count": null,
      "metadata": {
        "id": "43SHYqNOBA3G"
      },
      "outputs": [],
      "source": [
        "def model_LSTM(x_train, neurons=50, optimizer='adam', loss='mean_squared_error', learn_rate=\"standard\", dropout_rate=0.1, dense_rate=32, activation='relu'):\n",
        "    model = Sequential()\n",
        "    model.add(LSTM(neurons, return_sequences=True, input_shape=(x_train.shape[1], x_train.shape[2])))\n",
        "    model.add(Dropout(dropout_rate))\n",
        "    model.add(LSTM(neurons, return_sequences=True))\n",
        "    model.add(Dropout(dropout_rate))\n",
        "    model.add(LSTM(neurons, return_sequences=False))\n",
        "    model.add(Dense(dense_rate))\n",
        "    model.add(Dense(1, activation))\n",
        "    model.compile(optimizer=optimizer, loss=loss)\n",
        "    return model\n"
      ]
    },
    {
      "attachments": {},
      "cell_type": "markdown",
      "metadata": {
        "id": "toBADhcWRqpi"
      },
      "source": [
        "Función final de la LSTM"
      ]
    },
    {
      "attachments": {},
      "cell_type": "markdown",
      "metadata": {},
      "source": [
        "La función `final_LSTM` entrena un modelo LSTM utilizando los datos de entrada. Se muestra la pérdida del entrenamiento y la validación en un gráfico. Se realizan predicciones utilizando el modelo entrenado y se invierte el escalado para obtener los valores predichos y las etiquetas reales en su escala original. Se calculan las métricas de error y se muestran en la consola. Finalmente, se crea un DataFrame con los resultados y se muestra un gráfico con las predicciones y los errores."
      ]
    },
    {
      "cell_type": "code",
      "execution_count": null,
      "metadata": {
        "id": "se0YYfykBA3G"
      },
      "outputs": [],
      "source": [
        "\n",
        "def final_LSTM(df, stockname, display_start_date = \"2019-01-01\" , stationary = False, train_perc = 0.8, sequence_length=50,\n",
        "                neurons = 50, epochs=50, batch_size=32, patience=8,  optimizer='adam', loss='mean_squared_error',\n",
        "               learn_rate = \"standard\", activation='relu', use_PCA=False, use_Lasso=False, dense_rate = 32, dropout_rate = 0.1, lagged = False):\n",
        "\n",
        "    np_data, np_target_scaled, scaler_pred = feature_scaling_and_selection(df, stockname, stationary, lagged, use_Lasso, use_PCA)\n",
        "    x_train, x_test, y_train, y_test = train_test_split(np_data, np_target_scaled, train_perc,  for_LSTM = True, sequence_length = sequence_length)\n",
        "\n",
        "    # Configure the neural network model\n",
        "    model = model_LSTM(x_train, neurons, optimizer, loss, learn_rate, dropout_rate, dense_rate, activation)\n",
        "\n",
        "\n",
        "\n",
        "    early_stop = EarlyStopping(monitor='loss', patience=patience, verbose=1)\n",
        "    history = model.fit(x_train, y_train,  batch_size=batch_size, epochs=epochs, validation_data=(x_test, y_test), callbacks=[early_stop], shuffle = True)\n",
        "\n",
        "    # history = model.fit(x_train, y_train, validation_split=0.33,  batch_size=batch_size, epochs=epochs)\n",
        "\n",
        "\n",
        "    # Plot training & validation loss values\n",
        "    fig, ax = plt.subplots(figsize=(12, 6), sharex=True)\n",
        "    plt.plot(history.history[\"loss\"])\n",
        "    plt.plot(history.history[\"val_loss\"])\n",
        "    plt.title(\"Model loss\")\n",
        "    plt.ylabel(\"Loss\")\n",
        "    plt.xlabel(\"Epoch\")\n",
        "    plt.legend([\"Train\", \"Test\"], loc=\"upper left\")\n",
        "    plt.show()\n",
        "\n",
        "    # Get the predicted values\n",
        "    y_pred_scaled = model.predict(x_test)\n",
        "\n",
        "    # Unscale the predicted values\n",
        "    y_pred = scaler_pred.inverse_transform(y_pred_scaled)\n",
        "    y_test_unscaled = scaler_pred.inverse_transform(y_test.reshape(-1, 1))\n",
        "\n",
        "    df_union = results_df(df, stockname, train_perc, stationary, y_pred)\n",
        "\n",
        "\n",
        "    MAE, MAPE, MDAPE, RMSE = errors(df_union['y_test'].dropna(), df_union['y_pred'].dropna())\n",
        "\n",
        "\n",
        "    # Zoom in to a closer timeframe\n",
        "    df_union_zoom = df_union[df_union.index > display_start_date]\n",
        "\n",
        "    # Create the lineplot\n",
        "    fig, ax1 = plt.subplots(figsize=(16, 8))\n",
        "    plt.title(\"y_pred vs y_test\")\n",
        "    plt.ylabel(stockname, fontsize=18)\n",
        "    sns.set_palette([\"#090364\", \"#1960EF\", \"#EF5919\"])\n",
        "    sns.lineplot(data=df_union_zoom[['y_pred', 'y_train', 'y_test']], linewidth=1.0, dashes=False, ax=ax1)\n",
        "\n",
        "    # Create the barplot for the absolute errors\n",
        "    df_sub = [\"#2BC97A\" if x > 0 else \"#C92B2B\" for x in df_union_zoom[\"residuals\"].dropna()]\n",
        "    ax1.bar(height=df_union_zoom['residuals'].dropna(), x=df_union_zoom['residuals'].dropna().index, width=3, label='absolute errors', color=df_sub)\n",
        "    plt.legend()\n",
        "    plt.show()\n",
        "\n",
        "    return df_union\n"
      ]
    },
    {
      "cell_type": "code",
      "execution_count": null,
      "metadata": {
        "colab": {
          "base_uri": "https://localhost:8080/",
          "height": 901
        },
        "id": "9bRTThLYBA3H",
        "outputId": "a7888146-284a-404e-fac5-13d5eb9f0561"
      },
      "outputs": [],
      "source": [
        "for brand in brands:\n",
        "  r1 = final_LSTM(stationary_dataframes[brand], brand, display_start_date = \"2019-01-01\" , stationary = True, train_perc = 0.8, sequence_length=50,\n",
        "               neurons = 50, epochs=50, batch_size=32, patience=8,  optimizer='adam', loss='mean_squared_error', learn_rate = \"standard\", activation='relu', use_PCA=False, use_Lasso=False, dense_rate = 32, dropout_rate = 0.1)\n"
      ]
    },
    {
      "cell_type": "code",
      "execution_count": null,
      "metadata": {
        "id": "L4bJnvmm8k7Y"
      },
      "outputs": [],
      "source": [
        "r1 = final_LSTM(stationary_dataframes['GM'], 'GM', display_start_date = \"2019-01-01\" , stationary = True, train_perc = 0.8, sequence_length=100,\n",
        "               neurons = 50, epochs=100, batch_size=45, patience=8,  optimizer='adam', loss='mean_squared_error', learn_rate = \"standard\", activation='relu', use_PCA=False, use_Lasso=False, dense_rate = 32, dropout_rate = 0.3)\n"
      ]
    },
    {
      "cell_type": "code",
      "execution_count": null,
      "metadata": {
        "colab": {
          "base_uri": "https://localhost:8080/",
          "height": 1000
        },
        "id": "Zn2P2AYH8mXV",
        "outputId": "977c15e4-e170-402a-a229-4659431cd9cb"
      },
      "outputs": [],
      "source": [
        "r1 = final_LSTM(stationary_dataframes['GM'][['Close', 'Nominal_Close', 'LBOLLINGER', 'Target']], 'GM', display_start_date = \"2019-01-01\" , stationary = True, train_perc = 0.8, sequence_length=50,\n",
        "               neurons = 50, epochs=3, batch_size=32, patience=8,  optimizer='adam', loss='mean_squared_error', learn_rate = \"standard\", activation='relu', use_PCA=False, use_Lasso=False, dense_rate = 32, dropout_rate = 0.3)\n"
      ]
    },
    {
      "cell_type": "code",
      "execution_count": null,
      "metadata": {
        "colab": {
          "base_uri": "https://localhost:8080/",
          "height": 321
        },
        "id": "tXBHrw6xRIF0",
        "outputId": "39b16d84-83fb-4e58-bd7a-71d1d207b3c1"
      },
      "outputs": [],
      "source": [
        "r1 = final_LSTM(stationary_dataframes['F'], 'F', display_start_date = \"2019-01-01\" , stationary = True, train_perc = 0.8, sequence_length=50,\n",
        "               neurons = 50, epochs=50, batch_size=32, patience=3,  optimizer='adam', loss='mean_squared_error', learn_rate = \"standard\", activation='relu', use_PCA=False, use_Lasso=False, dense_rate = 32, dropout_rate = 0.1)\n"
      ]
    },
    {
      "cell_type": "code",
      "execution_count": null,
      "metadata": {
        "id": "x4Cd__DEVoRS"
      },
      "outputs": [],
      "source": [
        "r1 = final_LSTM(stationary_dataframes['F'], 'F', display_start_date = \"2019-01-01\" , stationary = True, train_perc = 0.8, sequence_length=50,\n",
        "               neurons = 50, epochs=50, batch_size=32, patience=8,  optimizer='adam', loss='mean_squared_error', learn_rate = \"standard\", activation='relu', use_PCA=False, use_Lasso=False, dense_rate = 32, dropout_rate = 0.1)\n"
      ]
    },
    {
      "attachments": {},
      "cell_type": "markdown",
      "metadata": {
        "id": "ZRkcmsO7BA3H"
      },
      "source": [
        "OTHER ML MODELS"
      ]
    },
    {
      "attachments": {},
      "cell_type": "markdown",
      "metadata": {
        "id": "OPZqqkvqBA3I"
      },
      "source": []
    },
    {
      "cell_type": "code",
      "execution_count": null,
      "metadata": {
        "id": "1f3spS6wBA3I"
      },
      "outputs": [],
      "source": [
        "from sklearn.linear_model import LinearRegression, RidgeCV\n",
        "from sklearn.ensemble import RandomForestRegressor, AdaBoostRegressor, HistGradientBoostingRegressor\n",
        "from sklearn.metrics import r2_score,mean_squared_error,mean_absolute_error\n",
        "from sklearn.linear_model import RidgeCV\n",
        "from sklearn.model_selection import RandomizedSearchCV, GridSearchCV,TimeSeriesSplit\n",
        "\n"
      ]
    },
    {
      "attachments": {},
      "cell_type": "markdown",
      "metadata": {},
      "source": [
        "La función `plot_predictions` muestra un gráfico de las predicciones y los valores reales. Se seleccionan los datos del DataFrame a partir de la fecha de inicio especificada. Luego, se crea un gráfico con líneas para las predicciones, los valores de entrenamiento y los valores reales. Finalmente, se muestra el gráfico.\n",
        "\n",
        "\n",
        "\n"
      ]
    },
    {
      "cell_type": "code",
      "execution_count": null,
      "metadata": {
        "id": "ZsrfrWuY4_wk"
      },
      "outputs": [],
      "source": [
        "\n",
        "def plot_predictions(df_union, stockname, display_start_date=\"2023-01-01\"):\n",
        "    df_union_zoom = df_union[df_union.index > display_start_date]\n",
        "    fig, ax1 = plt.subplots(figsize=(16, 8))\n",
        "    plt.title(\"y_pred vs y_test\")\n",
        "    plt.ylabel(stockname, fontsize=18)\n",
        "    sns.set_palette([\"#090364\", \"#1960EF\", \"#EF5919\"])\n",
        "    sns.lineplot(data=df_union_zoom[['y_pred', 'y_train', 'y_test']], linewidth=1.0, dashes=False, ax=ax1)\n",
        "    plt.xlabel('Time')\n",
        "    plt.ylabel('Stock Price')\n",
        "    plt.legend()\n",
        "    plt.show()"
      ]
    },
    {
      "attachments": {},
      "cell_type": "markdown",
      "metadata": {
        "id": "wp1cbEqaR58C"
      },
      "source": [
        "Optmización de parámetros para XGboost"
      ]
    },
    {
      "attachments": {},
      "cell_type": "markdown",
      "metadata": {},
      "source": [
        "El código realiza una búsqueda de hiperparámetros utilizando XGBoost y la clase `RandomizedSearchCV`. Se itera sobre las marcas en la lista `brands`, se realiza el escalado y la selección de características, y se dividen los datos en conjuntos de entrenamiento y prueba. Luego, se realiza la búsqueda de hiperparámetros utilizando `RandomizedSearchCV` y se imprime el mejor conjunto de hiperparámetros encontrado para cada marca.\n",
        "\n",
        "\n",
        "\n"
      ]
    },
    {
      "cell_type": "code",
      "execution_count": null,
      "metadata": {
        "colab": {
          "base_uri": "https://localhost:8080/"
        },
        "id": "Vft6HU3Y5s9-",
        "outputId": "576bd0e2-c6ff-4c4c-892f-9486cc6865dc"
      },
      "outputs": [
        {
          "name": "stdout",
          "output_type": "stream",
          "text": [
            "---------------------------------------------- F -------------------------------------------------------------\n",
            "(4114, 393) (4114, 1)\n",
            "(1028, 393) (1028, 1)\n",
            "Fitting 2 folds for each of 25 candidates, totalling 50 fits\n",
            "[14:13:05] WARNING: ../src/objective/regression_obj.cu:213: reg:linear is now deprecated in favor of reg:squarederror.\n",
            "{'objective': 'reg:linear', 'n_estimators': 100, 'max_depth': 3, 'learning_rate': 0.01, 'booster': 'dart'}\n",
            "---------------------------------------------- GM -------------------------------------------------------------\n",
            "(1500, 102) (1500, 1)\n",
            "(374, 102) (374, 1)\n",
            "Fitting 2 folds for each of 25 candidates, totalling 50 fits\n",
            "[14:19:58] WARNING: ../src/objective/regression_obj.cu:213: reg:linear is now deprecated in favor of reg:squarederror.\n",
            "{'objective': 'reg:linear', 'n_estimators': 50, 'max_depth': 2, 'learning_rate': 0.05, 'booster': 'gbtree'}\n",
            "---------------------------------------------- TSLA -------------------------------------------------------------\n",
            "(1854, 110) (1854, 1)\n",
            "(463, 110) (463, 1)\n",
            "Fitting 2 folds for each of 25 candidates, totalling 50 fits\n",
            "[14:25:08] WARNING: ../src/objective/regression_obj.cu:213: reg:linear is now deprecated in favor of reg:squarederror.\n",
            "{'objective': 'reg:linear', 'n_estimators': 50, 'max_depth': 2, 'learning_rate': 0.1, 'booster': 'dart'}\n",
            "---------------------------------------------- RACE -------------------------------------------------------------\n",
            "(949, 340) (949, 1)\n",
            "(237, 340) (237, 1)\n",
            "Fitting 2 folds for each of 25 candidates, totalling 50 fits\n",
            "[14:33:18] WARNING: ../src/objective/regression_obj.cu:213: reg:linear is now deprecated in favor of reg:squarederror.\n",
            "{'objective': 'reg:linear', 'n_estimators': 50, 'max_depth': 3, 'learning_rate': 0.1, 'booster': 'gbtree'}\n",
            "---------------------------------------------- TM -------------------------------------------------------------\n",
            "(2584, 135) (2584, 1)\n",
            "(645, 135) (645, 1)\n",
            "Fitting 2 folds for each of 25 candidates, totalling 50 fits\n",
            "[14:44:30] WARNING: ../src/objective/regression_obj.cu:213: reg:linear is now deprecated in favor of reg:squarederror.\n",
            "{'objective': 'reg:linear', 'n_estimators': 100, 'max_depth': 5, 'learning_rate': 0.01, 'booster': 'gbtree'}\n",
            "---------------------------------------------- HMC -------------------------------------------------------------\n",
            "(4044, 134) (4044, 1)\n",
            "(1010, 134) (1010, 1)\n",
            "Fitting 2 folds for each of 25 candidates, totalling 50 fits\n",
            "[15:04:03] WARNING: ../src/objective/regression_obj.cu:213: reg:linear is now deprecated in favor of reg:squarederror.\n",
            "{'objective': 'reg:linear', 'n_estimators': 100, 'max_depth': 4, 'learning_rate': 0.01, 'booster': 'gbtree'}\n"
          ]
        }
      ],
      "source": [
        "import xgboost as xgb\n",
        "grid_xgb = {\n",
        "    'n_estimators': [50, 100, 500, 1000],\n",
        "    'max_depth': np.arange(2, 7, 1),\n",
        "    'learning_rate': [0.01, 0.05, 0.1, 0.5, 1],\n",
        "    'booster': ['gbtree', 'gblinear', 'dart'],\n",
        "    'objective': ['reg:linear']\n",
        "}\n",
        "for brand in brands:\n",
        "  print('----------------------------------------------', brand, '-------------------------------------------------------------')\n",
        "  np_data_scaled, np_target_scaled, scaler_pred = feature_scaling_and_selection(lagged_stationary_dataframes[brand], brand, stationary = True, use_Lasso = True, use_PCA = False, lagged = True)\n",
        "  X_train, X_test, y_train, y_test = train_test_split(np_data_scaled, np_target_scaled, 0.8)\n",
        "  rscv = RandomizedSearchCV(estimator=xgb.XGBRegressor(), param_distributions=grid_xgb, cv=2, n_jobs=-1, verbose=2, n_iter=25)\n",
        "  rscv_fit = rscv.fit(X_train, y_train)\n",
        "  best_parameters = rscv_fit.best_params_\n",
        "  print(best_parameters)"
      ]
    },
    {
      "attachments": {},
      "cell_type": "markdown",
      "metadata": {
        "id": "uXWVbkJLR_8x"
      },
      "source": [
        "Optimización de parámetros para RF"
      ]
    },
    {
      "attachments": {},
      "cell_type": "markdown",
      "metadata": {},
      "source": [
        "El código realiza una búsqueda de hiperparámetros utilizando `RandomizedSearchCV` para un modelo de Random Forest. Se define una cuadrícula de hiperparámetros, se crea una instancia de `RandomizedSearchCV` con el estimador y la cuadrícula, se realiza la búsqueda utilizando los conjuntos de entrenamiento y se imprime el mejor conjunto de hiperparámetros encontrado.\n",
        "\n",
        "\n",
        "\n"
      ]
    },
    {
      "cell_type": "code",
      "execution_count": null,
      "metadata": {
        "colab": {
          "base_uri": "https://localhost:8080/",
          "height": 235
        },
        "id": "tKp4zSh65NQE",
        "outputId": "980f9835-2874-42f1-895c-72a2cffab3ae"
      },
      "outputs": [],
      "source": [
        "grid_rf = {\n",
        "'n_estimators': [20, 50, 100, 500, 1000],\n",
        "'max_depth': np.arange(1, 15, 1),\n",
        "'min_samples_split': [2, 10, 9],\n",
        "'min_samples_leaf': np.arange(1, 15, 2, dtype=int),\n",
        "'bootstrap': [True, False],\n",
        "'random_state': [1, 2, 30, 42]\n",
        "}\n",
        "rscv = RandomizedSearchCV(estimator=model, param_distributions=grid_rf, cv=3, n_jobs=-1, verbose=2, n_iter=200)\n",
        "rscv_fit = rscv.fit(x_train, y_train)\n",
        "best_parameters = rscv_fit.best_params_\n",
        "print(best_parameters)"
      ]
    },
    {
      "cell_type": "code",
      "execution_count": null,
      "metadata": {
        "colab": {
          "base_uri": "https://localhost:8080/"
        },
        "id": "uOU_21JoIgMj",
        "outputId": "ba2e73cd-7ce1-4e84-b9ce-ecac1b3a3198"
      },
      "outputs": [
        {
          "data": {
            "text/plain": [
              "606912"
            ]
          },
          "execution_count": 176,
          "metadata": {},
          "output_type": "execute_result"
        }
      ],
      "source": [
        "np_data_scaled, np_target_scaled, scaler_pred = feature_scaling_and_selection(stationary_dataframes['F'], 'F', stationary = True, use_Lasso = False, use_PCA= False, lagged= False)\n",
        "np_data_scaled.size"
      ]
    },
    {
      "attachments": {},
      "cell_type": "markdown",
      "metadata": {
        "id": "GWUXJlhzSEw6"
      },
      "source": [
        "Función para utilizar XGboost"
      ]
    },
    {
      "attachments": {},
      "cell_type": "markdown",
      "metadata": {},
      "source": [
        "La función `xgboost_model` entrena un modelo XGBoost utilizando los datos de entrada y muestra la pérdida de entrenamiento y validación en un gráfico. Luego, se realizan predicciones utilizando el modelo entrenado, se invierte el escalado para obtener los valores predichos y las etiquetas reales en su escala original. A continuación, se calculan las métricas de error, como el MAE, MAPE, MDAPE y RMSE, y se muestra un gráfico con las predicciones y los errores.\n",
        "\n",
        "\n",
        "\n",
        "\n"
      ]
    },
    {
      "cell_type": "code",
      "execution_count": null,
      "metadata": {
        "id": "pN1AO-6zBA3I"
      },
      "outputs": [],
      "source": [
        "import xgboost as xgb\n",
        "def xgboost_model(df, brand, booster = 'gbtree',base_score=0.5, objective='reg:linear',  early_stopping_rounds=50, n_estimators = 1000, max_depth = 3, learning_rate = 0.01,  stationary = True, use_Lasso = False, use_PCA = False, train_perc = 0.8, display_start_date = \"2022-01-01\", lagged = True ):\n",
        "  np_data_scaled, np_target_scaled, scaler_pred = feature_scaling_and_selection(df, brand, stationary, use_Lasso, use_PCA, lagged)\n",
        "\n",
        "  X_train, X_test, y_train, y_test = train_test_split(np_data_scaled, np_target_scaled, train_perc)\n",
        "\n",
        "  reg = xgb.XGBRegressor(base_score = base_score, booster = booster,\n",
        "                        n_estimators = n_estimators,\n",
        "                        early_stopping_rounds = early_stopping_rounds,\n",
        "                        objective = objective,\n",
        "                        max_depth = max_depth,\n",
        "                        learning_rate = learning_rate)\n",
        "  reg.fit(X_train, y_train,\n",
        "          eval_set=[(X_test, y_test)],eval_metric='rmse',\n",
        "          verbose=False)\n",
        "    # Obtiene las métricas de evaluación\n",
        "  results = reg.evals_result()\n",
        "\n",
        "  # Obtiene la pérdida de entrenamiento\n",
        "  train_loss = results['validation_0']['rmse']\n",
        "\n",
        "  # Obtiene la pérdida de validación\n",
        "  val_loss = results['validation_0']['rmse']\n",
        "\n",
        "  # Crea una lista de épocas\n",
        "  epochs = range(1, len(train_loss) + 1)\n",
        "\n",
        "  # Crea el gráfico\n",
        "  plt.plot(epochs, train_loss, label='Training loss')\n",
        "  plt.plot(epochs, val_loss, label='Validation loss')\n",
        "  plt.title('Training and validation loss')\n",
        "  plt.xlabel('Epochs')\n",
        "  plt.ylabel('Loss')\n",
        "  plt.legend()\n",
        "  plt.show()\n",
        "  y_pred = reg.predict(X_test)\n",
        "  # Convert the arrays back to the original scale\n",
        "  y_test = scaler_pred.inverse_transform(y_test)\n",
        "  y_pred= scaler_pred.inverse_transform(y_pred.reshape(-1,1))\n",
        "\n",
        "  df_union = results_df(df, brand, train_perc, stationary, y_pred)\n",
        "  print('Sin pct_change')\n",
        "\n",
        "\n",
        "  MAE, MAPE, MDAPE, RMSE = errors(df_union['y_test'].dropna(), df_union['y_pred'].dropna())\n",
        "\n",
        "  df_union_zoom = df_union[df_union.index > display_start_date]\n",
        "  # Plot the actual values\n",
        "  fig, ax1 = plt.subplots(figsize=(16, 8))\n",
        "  plt.title(\"y_pred vs y_test\")\n",
        "  plt.ylabel(brand, fontsize=18)\n",
        "  sns.set_palette([\"#090364\", \"#1960EF\", \"#EF5919\"])\n",
        "  sns.lineplot(data=df_union_zoom[['y_pred', 'y_train', 'y_test']], linewidth=1.0, dashes=False, ax=ax1)\n",
        "\n",
        "  plt.xlabel('Time')\n",
        "  plt.ylabel(brand)\n",
        "  plt.legend()\n",
        "  df_sub = [\"#2BC97A\" if x > 0 else \"#C92B2B\" for x in df_union_zoom[\"residuals\"].dropna()]\n",
        "  ax1.bar(height=df_union_zoom['residuals'].dropna(), x=df_union_zoom['residuals'].dropna().index, width=3, label='absolute errors', color=df_sub)\n",
        "  plt.legend()\n",
        "\n",
        "  plt.show()"
      ]
    },
    {
      "cell_type": "code",
      "execution_count": null,
      "metadata": {
        "id": "Occ1adBXMchB"
      },
      "outputs": [],
      "source": [
        "xgboost_model(stationary_dataframes['F'], brand, stationary = True, use_Lasso = False, use_PCA = False, train_perc = 0.8 )"
      ]
    },
    {
      "cell_type": "code",
      "execution_count": null,
      "metadata": {
        "id": "jQrijZI-8gPv"
      },
      "outputs": [],
      "source": [
        "for brand in brands:\n",
        "  print('-----------------------------------------------------', brand, '----------------------------------------------------------------------------------------')\n",
        "  xgboost_model(lagged_stationary_dataframes[brand], brand, stationary = True, use_Lasso = False, use_PCA = False, train_perc = 0.8 )"
      ]
    },
    {
      "cell_type": "code",
      "execution_count": null,
      "metadata": {
        "id": "dfIpoU7jEqQf"
      },
      "outputs": [],
      "source": [
        "for brand in brands:\n",
        "  print('-----------------------------------------------------', brand, '----------------------------------------------------------------------------------------')\n",
        "  xgboost_model(lagged_stationary_dataframes[brand], brand, stationary = True, use_Lasso = True, use_PCA = False, train_perc = 0.8 )"
      ]
    },
    {
      "cell_type": "code",
      "execution_count": null,
      "metadata": {
        "id": "tXJjjwLQEtl4"
      },
      "outputs": [],
      "source": [
        "for brand in brands:\n",
        "  print('-----------------------------------------------------', brand, '----------------------------------------------------------------------------------------')\n",
        "  xgboost_model(lagged_stationary_dataframes[brand], brand, stationary = True, use_Lasso = False, use_PCA = True, train_perc = 0.8 )"
      ]
    },
    {
      "attachments": {},
      "cell_type": "markdown",
      "metadata": {
        "id": "cFEPpko7ZWvi"
      },
      "source": [
        "# Optimización XGboost"
      ]
    },
    {
      "cell_type": "code",
      "execution_count": null,
      "metadata": {
        "id": "NHZr_3rVN_WY"
      },
      "outputs": [],
      "source": [
        "xgboost_model(lagged_stationary_dataframes['F'], 'F', booster = 'dart', n_estimators = 500, max_depth = 4, learning_rate = 0.05,  stationary = True, use_Lasso = False, use_PCA = True, train_perc = 0.8, display_start_date = \"2022-01-01\", lagged = True )"
      ]
    },
    {
      "cell_type": "code",
      "execution_count": null,
      "metadata": {
        "id": "hU4mGva0Udpe"
      },
      "outputs": [],
      "source": [
        "xgboost_model(lagged_stationary_dataframes['GM'], 'GM', booster = 'gbtree', n_estimators = 1000, max_depth = 2, learning_rate = 0.01,  stationary = True, use_Lasso = False, use_PCA = True, train_perc = 0.8, display_start_date = \"2022-01-01\", lagged = True )"
      ]
    },
    {
      "cell_type": "code",
      "execution_count": null,
      "metadata": {
        "id": "wveMjRCXOPbw"
      },
      "outputs": [],
      "source": [
        "xgboost_model(lagged_stationary_dataframes['TSLA'], 'TSLA', booster = 'dart', n_estimators = 1000, max_depth = 2, learning_rate = 0.15,  stationary = True, use_Lasso = False, use_PCA = True, train_perc = 0.8, display_start_date = \"2022-01-01\", lagged = True )"
      ]
    },
    {
      "cell_type": "code",
      "execution_count": null,
      "metadata": {
        "id": "L9xZU8nGUc0w"
      },
      "outputs": [],
      "source": [
        "xgboost_model(lagged_stationary_dataframes['RACE'], 'RACE', booster = 'gbtree', n_estimators = 100, max_depth = 1, learning_rate = 0.05,  stationary = True, use_Lasso = False, use_PCA = True, train_perc = 0.8, display_start_date = \"2022-01-01\", lagged = True )"
      ]
    },
    {
      "cell_type": "code",
      "execution_count": null,
      "metadata": {
        "id": "S-xFRlGuUxYO"
      },
      "outputs": [],
      "source": [
        "xgboost_model(lagged_stationary_dataframes['TM'], 'TM', booster = 'gbtree', n_estimators = 1000, max_depth = 1, learning_rate = 0.05,  stationary = True, use_Lasso = False, use_PCA = True, train_perc = 0.8, display_start_date = \"2022-01-01\", lagged = True )"
      ]
    },
    {
      "cell_type": "code",
      "execution_count": null,
      "metadata": {
        "id": "F_7i7gx_Y_jh"
      },
      "outputs": [],
      "source": [
        "xgboost_model(lagged_stationary_dataframes['HMC'], 'HMC', booster = 'dart', n_estimators = 1000, max_depth = 1, learning_rate = 0.01,  stationary = True, use_Lasso = False, use_PCA = True, train_perc = 0.8, display_start_date = \"2022-01-01\", lagged = True )"
      ]
    },
    {
      "attachments": {},
      "cell_type": "markdown",
      "metadata": {
        "id": "MbrPJGEPSRQt"
      },
      "source": [
        "# RANDOM FOREST"
      ]
    },
    {
      "attachments": {},
      "cell_type": "markdown",
      "metadata": {},
      "source": [
        "La función `random_forest_model` entrena un modelo de Random Forest utilizando los datos de entrada y muestra las predicciones en un gráfico. Luego, se invierte el escalado para obtener los valores predichos y las etiquetas reales en su escala original. Se calculan las métricas de error, como el MAE, MAPE, MDAPE y RMSE, y se muestra un gráfico con las predicciones y los errores."
      ]
    },
    {
      "cell_type": "code",
      "execution_count": null,
      "metadata": {
        "id": "M0pS5Zp1BA3I"
      },
      "outputs": [],
      "source": [
        "from sklearn.ensemble import RandomForestRegressor\n",
        "\n",
        "def random_forest_model(df, brand, stationary = True, use_Lasso = False, use_PCA = False, train_perc = 0.8, display_start_date = \"2022-01-01\", lagged = True ):\n",
        "    np_data_scaled, np_target_scaled, scaler_pred = feature_scaling_and_selection(df, brand, stationary, use_Lasso, use_PCA, lagged)\n",
        "\n",
        "    X_train, X_test, y_train, y_test = train_test_split(np_data_scaled, np_target_scaled, train_perc)\n",
        "\n",
        "    reg = RandomForestRegressor(n_estimators=1000)\n",
        "    reg.fit(X_train, y_train)\n",
        "\n",
        "    y_pred = reg.predict(X_test)\n",
        "    # Convert the arrays back to the original scale\n",
        "    y_test = scaler_pred.inverse_transform(y_test)\n",
        "    y_pred= scaler_pred.inverse_transform(y_pred.reshape(-1,1))\n",
        "\n",
        "    df_union = results_df(df, brand, train_perc, stationary, y_pred)\n",
        "    print('Sin pct_change')\n",
        "\n",
        "    MAE, MAPE, MDAPE, RMSE = errors(df_union['y_test'].dropna(), df_union['y_pred'].dropna())\n",
        "\n",
        "    df_union_zoom = df_union[df_union.index > display_start_date]\n",
        "    # Plot the actual values\n",
        "    fig, ax1 = plt.subplots(figsize=(16, 8))\n",
        "    plt.title(\"y_pred vs y_test\")\n",
        "    plt.ylabel(brand, fontsize=18)\n",
        "    sns.set_palette([\"#090364\", \"#1960EF\", \"#EF5919\"])\n",
        "    sns.lineplot(data=df_union_zoom[['y_pred', 'y_train', 'y_test']], linewidth=1.0, dashes=False, ax=ax1)\n",
        "\n",
        "    plt.xlabel('Time')\n",
        "    plt.ylabel(brand)\n",
        "    plt.legend()\n",
        "    df_sub = [\"#2BC97A\" if x > 0 else \"#C92B2B\" for x in df_union_zoom[\"residuals\"].dropna()]\n",
        "    ax1.bar(height=df_union_zoom['residuals'].dropna(), x=df_union_zoom['residuals'].dropna().index, width=3, label='absolute errors', color=df_sub)\n",
        "    plt.legend()\n",
        "\n",
        "    plt.show()\n"
      ]
    },
    {
      "cell_type": "code",
      "execution_count": null,
      "metadata": {
        "colab": {
          "base_uri": "https://localhost:8080/",
          "height": 1000
        },
        "id": "BVKk6hUtEhZd",
        "outputId": "1be0499c-dcb9-43a5-cc76-fd4e60a7fbb9"
      },
      "outputs": [],
      "source": [
        "for brand in brands:\n",
        "  random_forest_model(lagged_stationary_dataframes[brand], brand, stationary = True, use_Lasso = False, use_PCA = False, train_perc = 0.8, display_start_date = \"2022-01-01\", lagged = True )"
      ]
    },
    {
      "cell_type": "code",
      "execution_count": null,
      "metadata": {
        "colab": {
          "base_uri": "https://localhost:8080/",
          "height": 1000
        },
        "id": "trm7iPdyEuHM",
        "outputId": "2f15df88-f635-4491-cd28-cc6309256780"
      },
      "outputs": [],
      "source": [
        "for brand in brands:\n",
        "  random_forest_model(lagged_stationary_dataframes[brand], brand, stationary = True, use_Lasso = True, use_PCA = False, train_perc = 0.8, display_start_date = \"2022-01-01\", lagged = True )"
      ]
    },
    {
      "cell_type": "code",
      "execution_count": null,
      "metadata": {
        "colab": {
          "base_uri": "https://localhost:8080/",
          "height": 1000
        },
        "id": "januUsOSEwCP",
        "outputId": "f772cce3-48be-4300-ae9b-f9cd1cbdcd71"
      },
      "outputs": [],
      "source": [
        "for brand in brands:\n",
        "  random_forest_model(lagged_stationary_dataframes[brand], brand, stationary = True, use_Lasso = False, use_PCA = True, train_perc = 0.8, display_start_date = \"2022-01-01\", lagged = True )"
      ]
    },
    {
      "attachments": {},
      "cell_type": "markdown",
      "metadata": {},
      "source": [
        "El código proporcionado traza un gráfico de comparación entre las predicciones (`y_pred2`) y los valores reales (`y2`) de las primeras 100 muestras. Las predicciones se muestran como puntos rojos y los valores reales como puntos azules. Se traza una línea verde entre cada predicción y su valor real correspondiente. El gráfico muestra la comparación visual entre las predicciones y los valores reales."
      ]
    },
    {
      "cell_type": "code",
      "execution_count": null,
      "metadata": {
        "id": "8J8MosBgBA3J",
        "outputId": "0f615b6d-1ad4-46a4-a5e1-5cfbf2dbcf4f"
      },
      "outputs": [],
      "source": [
        "y2 = y_test[:100]\n",
        "y_pred2 = y_pred[:100]\n",
        "\n",
        "x = range(len(y2))\n",
        "fig, ax = plt.subplots(figsize=(10, 5))\n",
        "ci = 1.96*RMSE\n",
        "for i,v in enumerate(y_pred2):\n",
        "    plt.plot([x[i],x[i]], [v,y2[i]],color=\"green\")\n",
        "#ax.fill_between(x, ( y_pred2-ci), ( y_pred2+ci), color='b', alpha=.1)\n",
        "ax.scatter(x,y_pred2,color=\"red\",s=8,label=\"predicho\")\n",
        "ax.scatter(x,y2,color=\"blue\",s=8,label=\"real\")\n",
        "plt.legend()\n",
        "plt.show()"
      ]
    },
    {
      "attachments": {},
      "cell_type": "markdown",
      "metadata": {
        "id": "MM_Oa6SmBA3J"
      },
      "source": [
        "# Hyperparameter Tunning LSTM"
      ]
    },
    {
      "cell_type": "code",
      "execution_count": null,
      "metadata": {
        "id": "uLjznhpxBA3J"
      },
      "outputs": [],
      "source": [
        "from keras.wrappers.scikit_learn import KerasRegressor\n",
        "from sklearn.model_selection import RandomizedSearchCV, GridSearchCV,TimeSeriesSplit\n",
        "from google.colab import files"
      ]
    },
    {
      "cell_type": "code",
      "execution_count": null,
      "metadata": {
        "colab": {
          "base_uri": "https://localhost:8080/",
          "height": 690
        },
        "id": "UAOf_QFYoYAn",
        "outputId": "d0b89c93-630d-4b35-a2b3-ded95d1d421a"
      },
      "outputs": [
        {
          "data": {
            "text/html": [
              "\n",
              "  <div id=\"df-fa0275c0-6c52-4a0f-b25f-dd79d71c4ed2\">\n",
              "    <div class=\"colab-df-container\">\n",
              "      <div>\n",
              "<style scoped>\n",
              "    .dataframe tbody tr th:only-of-type {\n",
              "        vertical-align: middle;\n",
              "    }\n",
              "\n",
              "    .dataframe tbody tr th {\n",
              "        vertical-align: top;\n",
              "    }\n",
              "\n",
              "    .dataframe thead th {\n",
              "        text-align: right;\n",
              "    }\n",
              "</style>\n",
              "<table border=\"1\" class=\"dataframe\">\n",
              "  <thead>\n",
              "    <tr style=\"text-align: right;\">\n",
              "      <th></th>\n",
              "      <th>Open</th>\n",
              "      <th>Close</th>\n",
              "      <th>High</th>\n",
              "      <th>Low</th>\n",
              "      <th>Volume</th>\n",
              "      <th>MA1</th>\n",
              "      <th>MA2</th>\n",
              "      <th>Cash &amp; Equivalents</th>\n",
              "      <th>Short-Term Investments</th>\n",
              "      <th>Cash &amp; Cash Equivalents</th>\n",
              "      <th>...</th>\n",
              "      <th>EMA50</th>\n",
              "      <th>MACD</th>\n",
              "      <th>ADX</th>\n",
              "      <th>CMF</th>\n",
              "      <th>SO</th>\n",
              "      <th>LBOLLINGER</th>\n",
              "      <th>HBOLLINGER</th>\n",
              "      <th>FI</th>\n",
              "      <th>Target</th>\n",
              "      <th>Nominal_Close</th>\n",
              "    </tr>\n",
              "    <tr>\n",
              "      <th>Date</th>\n",
              "      <th></th>\n",
              "      <th></th>\n",
              "      <th></th>\n",
              "      <th></th>\n",
              "      <th></th>\n",
              "      <th></th>\n",
              "      <th></th>\n",
              "      <th></th>\n",
              "      <th></th>\n",
              "      <th></th>\n",
              "      <th></th>\n",
              "      <th></th>\n",
              "      <th></th>\n",
              "      <th></th>\n",
              "      <th></th>\n",
              "      <th></th>\n",
              "      <th></th>\n",
              "      <th></th>\n",
              "      <th></th>\n",
              "      <th></th>\n",
              "      <th></th>\n",
              "    </tr>\n",
              "  </thead>\n",
              "  <tbody>\n",
              "    <tr>\n",
              "      <th>1999-07-01</th>\n",
              "      <td>0.074766</td>\n",
              "      <td>0.037562</td>\n",
              "      <td>0.023033</td>\n",
              "      <td>0.058449</td>\n",
              "      <td>-0.164224</td>\n",
              "      <td>-0.001857</td>\n",
              "      <td>0.000992</td>\n",
              "      <td>0.22622</td>\n",
              "      <td>-0.042296</td>\n",
              "      <td>0.009737</td>\n",
              "      <td>...</td>\n",
              "      <td>0.001021</td>\n",
              "      <td>-0.376589</td>\n",
              "      <td>-0.042467</td>\n",
              "      <td>-0.367238</td>\n",
              "      <td>98.833333</td>\n",
              "      <td>-0.005897</td>\n",
              "      <td>0.008758</td>\n",
              "      <td>0.512772</td>\n",
              "      <td>-0.086407</td>\n",
              "      <td>58.56</td>\n",
              "    </tr>\n",
              "    <tr>\n",
              "      <th>1999-07-02</th>\n",
              "      <td>0.018435</td>\n",
              "      <td>-0.019126</td>\n",
              "      <td>-0.001194</td>\n",
              "      <td>0.015575</td>\n",
              "      <td>-0.451210</td>\n",
              "      <td>-0.002236</td>\n",
              "      <td>0.000955</td>\n",
              "      <td>0.22622</td>\n",
              "      <td>-0.042296</td>\n",
              "      <td>0.009737</td>\n",
              "      <td>...</td>\n",
              "      <td>0.000211</td>\n",
              "      <td>-0.351215</td>\n",
              "      <td>-0.041183</td>\n",
              "      <td>0.319225</td>\n",
              "      <td>80.166667</td>\n",
              "      <td>-0.001876</td>\n",
              "      <td>0.003646</td>\n",
              "      <td>-0.268510</td>\n",
              "      <td>-0.078343</td>\n",
              "      <td>57.44</td>\n",
              "    </tr>\n",
              "    <tr>\n",
              "      <th>1999-07-06</th>\n",
              "      <td>-0.018101</td>\n",
              "      <td>0.004352</td>\n",
              "      <td>-0.001025</td>\n",
              "      <td>0.001046</td>\n",
              "      <td>-0.183130</td>\n",
              "      <td>-0.002087</td>\n",
              "      <td>0.001096</td>\n",
              "      <td>0.22622</td>\n",
              "      <td>-0.042296</td>\n",
              "      <td>0.009737</td>\n",
              "      <td>...</td>\n",
              "      <td>0.000374</td>\n",
              "      <td>-0.481443</td>\n",
              "      <td>-0.039884</td>\n",
              "      <td>0.104229</td>\n",
              "      <td>84.175084</td>\n",
              "      <td>-0.001435</td>\n",
              "      <td>0.002476</td>\n",
              "      <td>-0.111536</td>\n",
              "      <td>-0.072630</td>\n",
              "      <td>57.69</td>\n",
              "    </tr>\n",
              "    <tr>\n",
              "      <th>1999-07-07</th>\n",
              "      <td>0.001043</td>\n",
              "      <td>-0.003293</td>\n",
              "      <td>-0.004274</td>\n",
              "      <td>-0.006616</td>\n",
              "      <td>-0.083668</td>\n",
              "      <td>-0.002280</td>\n",
              "      <td>0.001112</td>\n",
              "      <td>0.22622</td>\n",
              "      <td>-0.042296</td>\n",
              "      <td>0.009737</td>\n",
              "      <td>...</td>\n",
              "      <td>0.000229</td>\n",
              "      <td>-0.671500</td>\n",
              "      <td>-0.049418</td>\n",
              "      <td>-0.140005</td>\n",
              "      <td>80.976431</td>\n",
              "      <td>-0.001767</td>\n",
              "      <td>0.004158</td>\n",
              "      <td>-0.167408</td>\n",
              "      <td>-0.059826</td>\n",
              "      <td>57.50</td>\n",
              "    </tr>\n",
              "    <tr>\n",
              "      <th>1999-07-08</th>\n",
              "      <td>-0.002085</td>\n",
              "      <td>-0.017391</td>\n",
              "      <td>-0.013906</td>\n",
              "      <td>-0.016299</td>\n",
              "      <td>0.313135</td>\n",
              "      <td>-0.002611</td>\n",
              "      <td>0.000935</td>\n",
              "      <td>0.22622</td>\n",
              "      <td>-0.042296</td>\n",
              "      <td>0.009737</td>\n",
              "      <td>...</td>\n",
              "      <td>-0.000466</td>\n",
              "      <td>-0.534716</td>\n",
              "      <td>-0.068508</td>\n",
              "      <td>-0.047979</td>\n",
              "      <td>64.141414</td>\n",
              "      <td>-0.000020</td>\n",
              "      <td>0.002161</td>\n",
              "      <td>-0.346650</td>\n",
              "      <td>-0.045310</td>\n",
              "      <td>56.50</td>\n",
              "    </tr>\n",
              "    <tr>\n",
              "      <th>...</th>\n",
              "      <td>...</td>\n",
              "      <td>...</td>\n",
              "      <td>...</td>\n",
              "      <td>...</td>\n",
              "      <td>...</td>\n",
              "      <td>...</td>\n",
              "      <td>...</td>\n",
              "      <td>...</td>\n",
              "      <td>...</td>\n",
              "      <td>...</td>\n",
              "      <td>...</td>\n",
              "      <td>...</td>\n",
              "      <td>...</td>\n",
              "      <td>...</td>\n",
              "      <td>...</td>\n",
              "      <td>...</td>\n",
              "      <td>...</td>\n",
              "      <td>...</td>\n",
              "      <td>...</td>\n",
              "      <td>...</td>\n",
              "      <td>...</td>\n",
              "    </tr>\n",
              "    <tr>\n",
              "      <th>2023-05-16</th>\n",
              "      <td>-0.012821</td>\n",
              "      <td>-0.033505</td>\n",
              "      <td>-0.011945</td>\n",
              "      <td>-0.030198</td>\n",
              "      <td>0.137564</td>\n",
              "      <td>-0.002818</td>\n",
              "      <td>-0.001300</td>\n",
              "      <td>0.00000</td>\n",
              "      <td>0.000000</td>\n",
              "      <td>0.000000</td>\n",
              "      <td>...</td>\n",
              "      <td>-0.002692</td>\n",
              "      <td>0.334020</td>\n",
              "      <td>0.059450</td>\n",
              "      <td>1.821720</td>\n",
              "      <td>0.952381</td>\n",
              "      <td>0.000969</td>\n",
              "      <td>-0.012806</td>\n",
              "      <td>1.498242</td>\n",
              "      <td>0.011556</td>\n",
              "      <td>11.25</td>\n",
              "    </tr>\n",
              "    <tr>\n",
              "      <th>2023-05-17</th>\n",
              "      <td>-0.017316</td>\n",
              "      <td>0.022222</td>\n",
              "      <td>0.005181</td>\n",
              "      <td>0.007117</td>\n",
              "      <td>-0.172477</td>\n",
              "      <td>-0.002244</td>\n",
              "      <td>-0.001455</td>\n",
              "      <td>0.00000</td>\n",
              "      <td>0.000000</td>\n",
              "      <td>0.000000</td>\n",
              "      <td>...</td>\n",
              "      <td>-0.001780</td>\n",
              "      <td>0.053313</td>\n",
              "      <td>0.037106</td>\n",
              "      <td>-0.482207</td>\n",
              "      <td>24.761905</td>\n",
              "      <td>-0.001270</td>\n",
              "      <td>-0.004695</td>\n",
              "      <td>-0.491319</td>\n",
              "      <td>0.051304</td>\n",
              "      <td>11.50</td>\n",
              "    </tr>\n",
              "    <tr>\n",
              "      <th>2023-05-18</th>\n",
              "      <td>0.009692</td>\n",
              "      <td>0.012174</td>\n",
              "      <td>0.001718</td>\n",
              "      <td>0.011484</td>\n",
              "      <td>-0.237553</td>\n",
              "      <td>-0.002249</td>\n",
              "      <td>-0.001380</td>\n",
              "      <td>0.00000</td>\n",
              "      <td>0.000000</td>\n",
              "      <td>0.000000</td>\n",
              "      <td>...</td>\n",
              "      <td>-0.001257</td>\n",
              "      <td>-0.041633</td>\n",
              "      <td>0.028216</td>\n",
              "      <td>0.430013</td>\n",
              "      <td>38.095238</td>\n",
              "      <td>-0.001168</td>\n",
              "      <td>-0.000798</td>\n",
              "      <td>-0.435345</td>\n",
              "      <td>0.081615</td>\n",
              "      <td>11.64</td>\n",
              "    </tr>\n",
              "    <tr>\n",
              "      <th>2023-05-19</th>\n",
              "      <td>0.017452</td>\n",
              "      <td>0.000859</td>\n",
              "      <td>0.009434</td>\n",
              "      <td>0.007860</td>\n",
              "      <td>0.138622</td>\n",
              "      <td>-0.001336</td>\n",
              "      <td>-0.001536</td>\n",
              "      <td>0.00000</td>\n",
              "      <td>0.000000</td>\n",
              "      <td>0.000000</td>\n",
              "      <td>...</td>\n",
              "      <td>-0.001176</td>\n",
              "      <td>-0.050641</td>\n",
              "      <td>-0.001582</td>\n",
              "      <td>0.117432</td>\n",
              "      <td>48.235294</td>\n",
              "      <td>-0.000914</td>\n",
              "      <td>-0.000462</td>\n",
              "      <td>-0.184986</td>\n",
              "      <td>0.030043</td>\n",
              "      <td>11.65</td>\n",
              "    </tr>\n",
              "    <tr>\n",
              "      <th>2023-05-22</th>\n",
              "      <td>0.004288</td>\n",
              "      <td>-0.001717</td>\n",
              "      <td>-0.003398</td>\n",
              "      <td>-0.014731</td>\n",
              "      <td>0.320718</td>\n",
              "      <td>-0.000752</td>\n",
              "      <td>-0.001461</td>\n",
              "      <td>0.00000</td>\n",
              "      <td>0.000000</td>\n",
              "      <td>0.000000</td>\n",
              "      <td>...</td>\n",
              "      <td>-0.001197</td>\n",
              "      <td>-0.042214</td>\n",
              "      <td>0.026511</td>\n",
              "      <td>0.258670</td>\n",
              "      <td>45.882353</td>\n",
              "      <td>0.001118</td>\n",
              "      <td>-0.005389</td>\n",
              "      <td>-0.006320</td>\n",
              "      <td>0.039123</td>\n",
              "      <td>11.63</td>\n",
              "    </tr>\n",
              "  </tbody>\n",
              "</table>\n",
              "<p>6322 rows × 98 columns</p>\n",
              "</div>\n",
              "      <button class=\"colab-df-convert\" onclick=\"convertToInteractive('df-fa0275c0-6c52-4a0f-b25f-dd79d71c4ed2')\"\n",
              "              title=\"Convert this dataframe to an interactive table.\"\n",
              "              style=\"display:none;\">\n",
              "        \n",
              "  <svg xmlns=\"http://www.w3.org/2000/svg\" height=\"24px\"viewBox=\"0 0 24 24\"\n",
              "       width=\"24px\">\n",
              "    <path d=\"M0 0h24v24H0V0z\" fill=\"none\"/>\n",
              "    <path d=\"M18.56 5.44l.94 2.06.94-2.06 2.06-.94-2.06-.94-.94-2.06-.94 2.06-2.06.94zm-11 1L8.5 8.5l.94-2.06 2.06-.94-2.06-.94L8.5 2.5l-.94 2.06-2.06.94zm10 10l.94 2.06.94-2.06 2.06-.94-2.06-.94-.94-2.06-.94 2.06-2.06.94z\"/><path d=\"M17.41 7.96l-1.37-1.37c-.4-.4-.92-.59-1.43-.59-.52 0-1.04.2-1.43.59L10.3 9.45l-7.72 7.72c-.78.78-.78 2.05 0 2.83L4 21.41c.39.39.9.59 1.41.59.51 0 1.02-.2 1.41-.59l7.78-7.78 2.81-2.81c.8-.78.8-2.07 0-2.86zM5.41 20L4 18.59l7.72-7.72 1.47 1.35L5.41 20z\"/>\n",
              "  </svg>\n",
              "      </button>\n",
              "      \n",
              "  <style>\n",
              "    .colab-df-container {\n",
              "      display:flex;\n",
              "      flex-wrap:wrap;\n",
              "      gap: 12px;\n",
              "    }\n",
              "\n",
              "    .colab-df-convert {\n",
              "      background-color: #E8F0FE;\n",
              "      border: none;\n",
              "      border-radius: 50%;\n",
              "      cursor: pointer;\n",
              "      display: none;\n",
              "      fill: #1967D2;\n",
              "      height: 32px;\n",
              "      padding: 0 0 0 0;\n",
              "      width: 32px;\n",
              "    }\n",
              "\n",
              "    .colab-df-convert:hover {\n",
              "      background-color: #E2EBFA;\n",
              "      box-shadow: 0px 1px 2px rgba(60, 64, 67, 0.3), 0px 1px 3px 1px rgba(60, 64, 67, 0.15);\n",
              "      fill: #174EA6;\n",
              "    }\n",
              "\n",
              "    [theme=dark] .colab-df-convert {\n",
              "      background-color: #3B4455;\n",
              "      fill: #D2E3FC;\n",
              "    }\n",
              "\n",
              "    [theme=dark] .colab-df-convert:hover {\n",
              "      background-color: #434B5C;\n",
              "      box-shadow: 0px 1px 3px 1px rgba(0, 0, 0, 0.15);\n",
              "      filter: drop-shadow(0px 1px 2px rgba(0, 0, 0, 0.3));\n",
              "      fill: #FFFFFF;\n",
              "    }\n",
              "  </style>\n",
              "\n",
              "      <script>\n",
              "        const buttonEl =\n",
              "          document.querySelector('#df-fa0275c0-6c52-4a0f-b25f-dd79d71c4ed2 button.colab-df-convert');\n",
              "        buttonEl.style.display =\n",
              "          google.colab.kernel.accessAllowed ? 'block' : 'none';\n",
              "\n",
              "        async function convertToInteractive(key) {\n",
              "          const element = document.querySelector('#df-fa0275c0-6c52-4a0f-b25f-dd79d71c4ed2');\n",
              "          const dataTable =\n",
              "            await google.colab.kernel.invokeFunction('convertToInteractive',\n",
              "                                                     [key], {});\n",
              "          if (!dataTable) return;\n",
              "\n",
              "          const docLinkHtml = 'Like what you see? Visit the ' +\n",
              "            '<a target=\"_blank\" href=https://colab.research.google.com/notebooks/data_table.ipynb>data table notebook</a>'\n",
              "            + ' to learn more about interactive tables.';\n",
              "          element.innerHTML = '';\n",
              "          dataTable['output_type'] = 'display_data';\n",
              "          await google.colab.output.renderOutput(dataTable, element);\n",
              "          const docLink = document.createElement('div');\n",
              "          docLink.innerHTML = docLinkHtml;\n",
              "          element.appendChild(docLink);\n",
              "        }\n",
              "      </script>\n",
              "    </div>\n",
              "  </div>\n",
              "  "
            ],
            "text/plain": [
              "                Open     Close      High       Low    Volume       MA1  \\\n",
              "Date                                                                     \n",
              "1999-07-01  0.074766  0.037562  0.023033  0.058449 -0.164224 -0.001857   \n",
              "1999-07-02  0.018435 -0.019126 -0.001194  0.015575 -0.451210 -0.002236   \n",
              "1999-07-06 -0.018101  0.004352 -0.001025  0.001046 -0.183130 -0.002087   \n",
              "1999-07-07  0.001043 -0.003293 -0.004274 -0.006616 -0.083668 -0.002280   \n",
              "1999-07-08 -0.002085 -0.017391 -0.013906 -0.016299  0.313135 -0.002611   \n",
              "...              ...       ...       ...       ...       ...       ...   \n",
              "2023-05-16 -0.012821 -0.033505 -0.011945 -0.030198  0.137564 -0.002818   \n",
              "2023-05-17 -0.017316  0.022222  0.005181  0.007117 -0.172477 -0.002244   \n",
              "2023-05-18  0.009692  0.012174  0.001718  0.011484 -0.237553 -0.002249   \n",
              "2023-05-19  0.017452  0.000859  0.009434  0.007860  0.138622 -0.001336   \n",
              "2023-05-22  0.004288 -0.001717 -0.003398 -0.014731  0.320718 -0.000752   \n",
              "\n",
              "                 MA2  Cash & Equivalents  Short-Term Investments  \\\n",
              "Date                                                               \n",
              "1999-07-01  0.000992             0.22622               -0.042296   \n",
              "1999-07-02  0.000955             0.22622               -0.042296   \n",
              "1999-07-06  0.001096             0.22622               -0.042296   \n",
              "1999-07-07  0.001112             0.22622               -0.042296   \n",
              "1999-07-08  0.000935             0.22622               -0.042296   \n",
              "...              ...                 ...                     ...   \n",
              "2023-05-16 -0.001300             0.00000                0.000000   \n",
              "2023-05-17 -0.001455             0.00000                0.000000   \n",
              "2023-05-18 -0.001380             0.00000                0.000000   \n",
              "2023-05-19 -0.001536             0.00000                0.000000   \n",
              "2023-05-22 -0.001461             0.00000                0.000000   \n",
              "\n",
              "            Cash & Cash Equivalents  ...     EMA50      MACD       ADX  \\\n",
              "Date                                 ...                                 \n",
              "1999-07-01                 0.009737  ...  0.001021 -0.376589 -0.042467   \n",
              "1999-07-02                 0.009737  ...  0.000211 -0.351215 -0.041183   \n",
              "1999-07-06                 0.009737  ...  0.000374 -0.481443 -0.039884   \n",
              "1999-07-07                 0.009737  ...  0.000229 -0.671500 -0.049418   \n",
              "1999-07-08                 0.009737  ... -0.000466 -0.534716 -0.068508   \n",
              "...                             ...  ...       ...       ...       ...   \n",
              "2023-05-16                 0.000000  ... -0.002692  0.334020  0.059450   \n",
              "2023-05-17                 0.000000  ... -0.001780  0.053313  0.037106   \n",
              "2023-05-18                 0.000000  ... -0.001257 -0.041633  0.028216   \n",
              "2023-05-19                 0.000000  ... -0.001176 -0.050641 -0.001582   \n",
              "2023-05-22                 0.000000  ... -0.001197 -0.042214  0.026511   \n",
              "\n",
              "                 CMF         SO  LBOLLINGER  HBOLLINGER        FI    Target  \\\n",
              "Date                                                                          \n",
              "1999-07-01 -0.367238  98.833333   -0.005897    0.008758  0.512772 -0.086407   \n",
              "1999-07-02  0.319225  80.166667   -0.001876    0.003646 -0.268510 -0.078343   \n",
              "1999-07-06  0.104229  84.175084   -0.001435    0.002476 -0.111536 -0.072630   \n",
              "1999-07-07 -0.140005  80.976431   -0.001767    0.004158 -0.167408 -0.059826   \n",
              "1999-07-08 -0.047979  64.141414   -0.000020    0.002161 -0.346650 -0.045310   \n",
              "...              ...        ...         ...         ...       ...       ...   \n",
              "2023-05-16  1.821720   0.952381    0.000969   -0.012806  1.498242  0.011556   \n",
              "2023-05-17 -0.482207  24.761905   -0.001270   -0.004695 -0.491319  0.051304   \n",
              "2023-05-18  0.430013  38.095238   -0.001168   -0.000798 -0.435345  0.081615   \n",
              "2023-05-19  0.117432  48.235294   -0.000914   -0.000462 -0.184986  0.030043   \n",
              "2023-05-22  0.258670  45.882353    0.001118   -0.005389 -0.006320  0.039123   \n",
              "\n",
              "            Nominal_Close  \n",
              "Date                       \n",
              "1999-07-01          58.56  \n",
              "1999-07-02          57.44  \n",
              "1999-07-06          57.69  \n",
              "1999-07-07          57.50  \n",
              "1999-07-08          56.50  \n",
              "...                   ...  \n",
              "2023-05-16          11.25  \n",
              "2023-05-17          11.50  \n",
              "2023-05-18          11.64  \n",
              "2023-05-19          11.65  \n",
              "2023-05-22          11.63  \n",
              "\n",
              "[6322 rows x 98 columns]"
            ]
          },
          "execution_count": 63,
          "metadata": {},
          "output_type": "execute_result"
        }
      ],
      "source": [
        "stationary_dataframes['F']"
      ]
    },
    {
      "attachments": {},
      "cell_type": "markdown",
      "metadata": {},
      "source": [
        "En el código proporcionado se realiza una búsqueda de hiperparámetros utilizando la función `RandomizedSearchCV` para el modelo LSTM en cada marca de `brands`. Se especifican los posibles valores para los hiperparámetros `optimizer`, `dropout_rate`, `neurons` y `activation`. Se entrena el modelo utilizando los datos de entrenamiento y se realiza una búsqueda aleatoria de los mejores parámetros. Se imprimen los mejores parámetros encontrados y se guardan los resultados en un archivo Excel."
      ]
    },
    {
      "cell_type": "code",
      "execution_count": null,
      "metadata": {
        "colab": {
          "base_uri": "https://localhost:8080/",
          "height": 1000
        },
        "id": "Jfm8r_QHDfiN",
        "outputId": "591dbe49-6ed8-4b6a-b7c6-9fc7df8173af"
      },
      "outputs": [
        {
          "name": "stdout",
          "output_type": "stream",
          "text": [
            "0.3497709558583013\n",
            "[-1.15455771]\n",
            "(4451, 50, 98) (4451, 1)\n",
            "(1125, 50, 98) (1125, 1)\n"
          ]
        },
        {
          "name": "stderr",
          "output_type": "stream",
          "text": [
            "<ipython-input-40-03310965c75c>:13: DeprecationWarning: KerasRegressor is deprecated, use Sci-Keras (https://github.com/adriangb/scikeras) instead. See https://www.adriangb.com/scikeras/stable/migration.html for help migrating.\n",
            "  model_stationary = KerasRegressor(build_fn=model_LSTM, verbose=0)\n",
            "/usr/local/lib/python3.10/dist-packages/joblib/externals/loky/process_executor.py:700: UserWarning: A worker stopped while some jobs were given to the executor. This can be caused by a too short worker timeout or by a memory leak.\n",
            "  warnings.warn(\n"
          ]
        },
        {
          "name": "stdout",
          "output_type": "stream",
          "text": [
            "Mejor: -0.756191 usando {'x_train': array([[[-9.54370751e-01, -1.36176038e+00, -1.11693650e+00, ...,\n",
            "         -5.98531361e-01, -8.07339573e-01, -1.34261072e+00],\n",
            "        [-1.29075980e+00, -6.80208363e-01, -8.43619159e-01, ...,\n",
            "         -1.11627684e+00, -1.79583195e-01, -7.54181458e+01],\n",
            "        [-1.64493170e-01,  3.12503709e-01,  6.57112419e-01, ...,\n",
            "         -5.14600711e-01, -9.88364734e-01, -5.11297061e-01],\n",
            "        ...,\n",
            "        [-3.46503595e-01, -1.78781192e+00, -7.83795673e-01, ...,\n",
            "         -2.50668175e+00, -2.77379825e-01,  8.28235315e-01],\n",
            "        [ 4.11619060e-01,  2.23761627e+00,  1.26873717e+00, ...,\n",
            "         -9.27349608e-01, -3.15422464e-01, -1.16324288e+00],\n",
            "        [-6.92360427e-01, -1.21432902e+00, -4.98174484e-01, ...,\n",
            "         -1.59100553e+00, -2.05255793e-02,  1.89084731e+00]],\n",
            "\n",
            "       [[-1.29075980e+00, -6.80208363e-01, -8.43619159e-01, ...,\n",
            "         -1.11627684e+00, -1.79583195e-01, -7.54181458e+01],\n",
            "        [-1.64493170e-01,  3.12503709e-01,  6.57112419e-01, ...,\n",
            "         -5.14600711e-01, -9.88364734e-01, -5.11297061e-01],\n",
            "        [ 4.94686062e-01, -5.59776062e-01, -7.80967389e-01, ...,\n",
            "          5.70888251e-01, -2.86727735e+00,  1.23869215e+00],\n",
            "        ...,\n",
            "        [ 4.11619060e-01,  2.23761627e+00,  1.26873717e+00, ...,\n",
            "         -9.27349608e-01, -3.15422464e-01, -1.16324288e+00],\n",
            "        [-6.92360427e-01, -1.21432902e+00, -4.98174484e-01, ...,\n",
            "         -1.59100553e+00, -2.05255793e-02,  1.89084731e+00],\n",
            "        [ 3.49770956e-01, -3.62280455e-01,  3.76395939e-01, ...,\n",
            "         -1.57701541e+00, -3.79969770e-01,  4.88593377e-01]],\n",
            "\n",
            "       [[-1.64493170e-01,  3.12503709e-01,  6.57112419e-01, ...,\n",
            "         -5.14600711e-01, -9.88364734e-01, -5.11297061e-01],\n",
            "        [ 4.94686062e-01, -5.59776062e-01, -7.80967389e-01, ...,\n",
            "          5.70888251e-01, -2.86727735e+00,  1.23869215e+00],\n",
            "        [-1.30955728e-01,  1.25491205e+00,  7.57146620e-01, ...,\n",
            "          1.58720472e-01, -1.23375080e+00, -1.10776645e+00],\n",
            "        ...,\n",
            "        [-6.92360427e-01, -1.21432902e+00, -4.98174484e-01, ...,\n",
            "         -1.59100553e+00, -2.05255793e-02,  1.89084731e+00],\n",
            "        [ 3.49770956e-01, -3.62280455e-01,  3.76395939e-01, ...,\n",
            "         -1.57701541e+00, -3.79969770e-01,  4.88593377e-01],\n",
            "        [ 8.85732455e-01,  1.36627807e+00, -4.36704702e-01, ...,\n",
            "         -6.21663045e-01, -7.61905631e-01, -2.51238872e+00]],\n",
            "\n",
            "       ...,\n",
            "\n",
            "       [[ 1.70906159e+00,  5.62817032e-01,  1.32054757e+00, ...,\n",
            "          3.51830455e-01, -1.50314207e+00, -4.32502660e+00],\n",
            "        [ 0.00000000e+00,  0.00000000e+00,  0.00000000e+00, ...,\n",
            "          4.29721094e-02, -8.14151779e-01,  0.00000000e+00],\n",
            "        [ 6.41085549e-01,  9.70287927e-02, -1.01594010e-01, ...,\n",
            "         -7.45651583e-02, -3.36951412e-01,  4.92973375e-01],\n",
            "        ...,\n",
            "        [ 6.94046768e-01,  5.00316553e-01,  7.08271569e-01, ...,\n",
            "          2.05431707e+00, -3.41246746e+00,  4.38035158e-01],\n",
            "        [-7.10665962e-02,  2.70785180e-01,  1.42566226e-01, ...,\n",
            "          6.28734770e-01, -1.16571840e+00,  1.96309321e-01],\n",
            "        [ 2.84566244e-01, -1.34822716e-01, -2.37111894e-02, ...,\n",
            "          7.81300509e-01, -1.37630218e+00, -9.25611284e-02]],\n",
            "\n",
            "       [[ 0.00000000e+00,  0.00000000e+00,  0.00000000e+00, ...,\n",
            "          4.29721094e-02, -8.14151779e-01,  0.00000000e+00],\n",
            "        [ 6.41085549e-01,  9.70287927e-02, -1.01594010e-01, ...,\n",
            "         -7.45651583e-02, -3.36951412e-01,  4.92973375e-01],\n",
            "        [ 0.00000000e+00,  0.00000000e+00,  0.00000000e+00, ...,\n",
            "         -5.53671918e-02, -3.56923794e-01, -1.76323461e-16],\n",
            "        ...,\n",
            "        [-7.10665962e-02,  2.70785180e-01,  1.42566226e-01, ...,\n",
            "          6.28734770e-01, -1.16571840e+00,  1.96309321e-01],\n",
            "        [ 2.84566244e-01, -1.34822716e-01, -2.37111894e-02, ...,\n",
            "          7.81300509e-01, -1.37630218e+00, -9.25611284e-02],\n",
            "        [-4.95898528e-01, -4.05321155e-01, -4.26950692e-01, ...,\n",
            "          8.51336653e-02, -2.30633804e-01, -4.96774633e-01]],\n",
            "\n",
            "       [[ 6.41085549e-01,  9.70287927e-02, -1.01594010e-01, ...,\n",
            "         -7.45651583e-02, -3.36951412e-01,  4.92973375e-01],\n",
            "        [ 0.00000000e+00,  0.00000000e+00,  0.00000000e+00, ...,\n",
            "         -5.53671918e-02, -3.56923794e-01, -1.76323461e-16],\n",
            "        [-1.11768617e+00,  7.26615430e-02, -1.83143590e-01, ...,\n",
            "         -4.85770937e-02, -2.55866129e-01,  2.09209306e-01],\n",
            "        ...,\n",
            "        [ 2.84566244e-01, -1.34822716e-01, -2.37111894e-02, ...,\n",
            "          7.81300509e-01, -1.37630218e+00, -9.25611284e-02],\n",
            "        [-4.95898528e-01, -4.05321155e-01, -4.26950692e-01, ...,\n",
            "          8.51336653e-02, -2.30633804e-01, -4.96774633e-01],\n",
            "        [ 1.42734814e-01,  1.81289736e-01,  1.19348824e-01, ...,\n",
            "         -1.49595838e-01,  4.10693180e-01,  2.94253765e-01]]]), 'optimizer': 'RMSprop', 'neurons': 30, 'dropout_rate': 0.3, 'activation': 'relu'}\n"
          ]
        },
        {
          "name": "stderr",
          "output_type": "stream",
          "text": [
            "/usr/local/lib/python3.10/dist-packages/pandas/util/_decorators.py:211: FutureWarning: the 'encoding' keyword is deprecated and will be removed in a future version. Please take steps to stop the use of 'encoding'\n",
            "  return func(*args, **kwargs)\n"
          ]
        },
        {
          "data": {
            "application/javascript": "\n    async function download(id, filename, size) {\n      if (!google.colab.kernel.accessAllowed) {\n        return;\n      }\n      const div = document.createElement('div');\n      const label = document.createElement('label');\n      label.textContent = `Downloading \"${filename}\": `;\n      div.appendChild(label);\n      const progress = document.createElement('progress');\n      progress.max = size;\n      div.appendChild(progress);\n      document.body.appendChild(div);\n\n      const buffers = [];\n      let downloaded = 0;\n\n      const channel = await google.colab.kernel.comms.open(id);\n      // Send a message to notify the kernel that we're ready.\n      channel.send({})\n\n      for await (const message of channel.messages) {\n        // Send a message to notify the kernel that we're ready.\n        channel.send({})\n        if (message.buffers) {\n          for (const buffer of message.buffers) {\n            buffers.push(buffer);\n            downloaded += buffer.byteLength;\n            progress.value = downloaded;\n          }\n        }\n      }\n      const blob = new Blob(buffers, {type: 'application/binary'});\n      const a = document.createElement('a');\n      a.href = window.URL.createObjectURL(blob);\n      a.download = filename;\n      div.appendChild(a);\n      a.click();\n      div.remove();\n    }\n  ",
            "text/plain": [
              "<IPython.core.display.Javascript object>"
            ]
          },
          "metadata": {},
          "output_type": "display_data"
        },
        {
          "data": {
            "application/javascript": "download(\"download_d7eb6b2e-c155-4dde-8d59-48fa934f71a6\", \"HMC-Resultados_Parameters_hypertunning.xlsx\", 150299)",
            "text/plain": [
              "<IPython.core.display.Javascript object>"
            ]
          },
          "metadata": {},
          "output_type": "display_data"
        }
      ],
      "source": [
        "\n",
        "optimizer = ['SGD', 'RMSprop', 'Adagrad', 'Adam', 'Adamax', 'Nadam']\n",
        "dropout_rate = [0.0, 0.1, 0.3, 0.6, 0.9]\n",
        "neurons = [20, 25, 30, 40, 50, 60]\n",
        "activation = ['sigmoid', 'tanh', 'relu', 'leaky_relu']\n",
        "\n",
        "for brand in brands:\n",
        "  np_data, np_target_scaled, scaler_pred = feature_scaling_and_selection(stationary_dataframes[brand], brand, stationary = True)\n",
        "  X_train, x_test, Y_train, y_test = train_test_split(np_data, np_target_scaled, for_LSTM = True,train_perc = 0.8, sequence_length=50)\n",
        "\n",
        "  param_grid2 = dict(optimizer=optimizer, dropout_rate=dropout_rate, neurons=neurons, x_train = [X_train], activation = activation)\n",
        "\n",
        "  # envoltura de scikit-learn para el modelo keras\n",
        "  model_stationary = KerasRegressor(build_fn=model_LSTM, verbose=0)\n",
        "\n",
        "\n",
        "\n",
        "\n",
        "  # búsqueda de random\n",
        "\n",
        "  grid_stat = RandomizedSearchCV(estimator=model_stationary, param_distributions=param_grid2, n_iter = 500, n_jobs=-1, cv=3)\n",
        "  grid_stat.fit(X_train, Y_train)\n",
        "  print(\"Mejor: %f usando %s\" % (grid_stat.best_score_, grid_stat.best_params_))\n",
        "  resultados = pd.DataFrame(grid_stat.cv_results_)\n",
        "  resultados = resultados.sort_values('rank_test_score')\n",
        "  resultados.to_excel(f'{brand}-Resultados_Parameters_hypertunning.xlsx', encoding = 'utf-8-sig')\n",
        "  files.download(f'{brand}-Resultados_Parameters_hypertunning.xlsx')\n"
      ]
    },
    {
      "cell_type": "code",
      "execution_count": null,
      "metadata": {
        "colab": {
          "base_uri": "https://localhost:8080/"
        },
        "id": "cstPa0F1DlqH",
        "outputId": "c5c471ef-ce65-4f97-e187-ffe8366b0282"
      },
      "outputs": [
        {
          "data": {
            "text/plain": [
              "['F', 'GM', 'TSLA', 'RACE', 'TM', 'HMC']"
            ]
          },
          "execution_count": 36,
          "metadata": {},
          "output_type": "execute_result"
        }
      ],
      "source": [
        "brands[]"
      ]
    },
    {
      "cell_type": "code",
      "execution_count": null,
      "metadata": {
        "id": "sggjFRRaDong"
      },
      "outputs": [],
      "source": [
        "resultados = pd.DataFrame(grid_stat.cv_results_)\n",
        "resultados = resultados.sort_values('rank_test_score')\n",
        "resultados.to_excel('Resultados_Parameters_hypertunning.xlsx', encoding = 'utf-8-sig')\n",
        "files.download('Resultados_Parameters_hypertunning.xlsx')"
      ]
    },
    {
      "cell_type": "code",
      "execution_count": null,
      "metadata": {
        "id": "6GVLtkXpDqFS"
      },
      "outputs": [],
      "source": [
        "print(\"Mejor: %f usando %s\" % (grid_stat.best_score_, grid_stat.best_params_))\n",
        "#print(\"Mejor: %f usando %s\" % (grid_stat.best_score_, grid_stat.best_params_))"
      ]
    },
    {
      "attachments": {},
      "cell_type": "markdown",
      "metadata": {
        "id": "UiMMwxS0ShUx"
      },
      "source": [
        "# REG. LINEAL"
      ]
    },
    {
      "attachments": {},
      "cell_type": "markdown",
      "metadata": {},
      "source": [
        "En el código proporcionado se define una función `linear_regression_model` que entrena un modelo de regresión lineal utilizando los datos de entrada y realiza predicciones. Se invierte el escalado para obtener los valores predichos y las etiquetas reales en su escala original. Se calcula el coeficiente de determinación (R2) como medida de evaluación del modelo. Se generan gráficos para visualizar las predicciones y los errores.\n",
        "\n",
        "Luego, se realiza un bucle sobre las marcas en la lista `brands` y se llama a la función `linear_regression_model` pasando los datos correspondientes a cada marca."
      ]
    },
    {
      "cell_type": "code",
      "execution_count": null,
      "metadata": {
        "id": "qBO7L3xSDXGu"
      },
      "outputs": [],
      "source": [
        "from sklearn.linear_model import LinearRegression\n",
        "from sklearn.metrics import r2_score,mean_squared_error,mean_absolute_error\n",
        "\n",
        "def linear_regression_model(df, brand, stationary = True, lagged = True, use_Lasso = False, use_PCA = False, train_perc = 0.8, display_start_date = \"2022-01-01\" ):\n",
        "    np_data_scaled, np_target_scaled, scaler_pred = feature_scaling_and_selection(df, brand, stationary, use_Lasso, use_PCA, lagged)\n",
        "\n",
        "    X_train, X_test, y_train, y_test = train_test_split(np_data_scaled, np_target_scaled, train_perc)\n",
        "\n",
        "    linear_reg = LinearRegression()\n",
        "    modelo = linear_reg.fit(X_train, y_train.ravel())\n",
        "\n",
        "    y_pred = modelo.predict(X_test)\n",
        "    # Convert the arrays back to the original scale\n",
        "    y_test = scaler_pred.inverse_transform(y_test)\n",
        "    y_pred = scaler_pred.inverse_transform(y_pred.reshape(-1,1))\n",
        "    print('Con pct_change')\n",
        "    r2 = r2_score(y_test,y_pred)\n",
        "    print('r2:', r2)\n",
        "    df_union = results_df(df, brand, train_perc, stationary, y_pred)\n",
        "    print('Sin pct_change')\n",
        "    r2 = r2_score(df_union['y_test'].dropna(), df_union['y_pred'].dropna())\n",
        "    print('r2:', r2)\n",
        "\n",
        "    MAE, MAPE, MDAPE, RMSE = errors(df_union['y_test'].dropna(), df_union['y_pred'].dropna())\n",
        "\n",
        "    df_union_zoom = df_union[df_union.index > display_start_date]\n",
        "    # Plot the actual values\n",
        "    fig, ax1 = plt.subplots(figsize=(16, 8))\n",
        "    plt.title(\"y_pred vs y_test\")\n",
        "    plt.ylabel(brand, fontsize=18)\n",
        "    sns.set_palette([\"#090364\", \"#1960EF\", \"#EF5919\"])\n",
        "    sns.lineplot(data=df_union_zoom[['y_pred', 'y_train', 'y_test']], linewidth=1.0, dashes=False, ax=ax1)\n",
        "\n",
        "    plt.xlabel('Time')\n",
        "    plt.ylabel(brand)\n",
        "    plt.legend()\n",
        "    df_sub = [\"#2BC97A\" if x > 0 else \"#C92B2B\" for x in df_union_zoom[\"residuals\"].dropna()]\n",
        "    ax1.bar(height=df_union_zoom['residuals'].dropna(), x=df_union_zoom['residuals'].dropna().index, width=3, label='absolute errors', color=df_sub)\n",
        "    plt.legend()\n",
        "\n",
        "    plt.show()\n",
        "\n",
        "for brand in brands:\n",
        "  print('-----------------------------------------------------', brand, '----------------------------------------------------------------------------------------')\n",
        "  linear_regression_model(lagged_stationary_dataframes[brand], brand, stationary = True, use_Lasso = False, use_PCA = False, train_perc = 0.8 )"
      ]
    },
    {
      "cell_type": "code",
      "execution_count": null,
      "metadata": {
        "id": "tFb46uNIOCgq"
      },
      "outputs": [],
      "source": [
        "for brand in brands:\n",
        "  print('-----------------------------------------------------', brand, '----------------------------------------------------------------------------------------')\n",
        "  linear_regression_model(lagged_stationary_dataframes[brand], brand, stationary = True, use_Lasso = True, use_PCA = False, train_perc = 0.8 )"
      ]
    },
    {
      "cell_type": "code",
      "execution_count": null,
      "metadata": {
        "colab": {
          "base_uri": "https://localhost:8080/",
          "height": 1000
        },
        "id": "tUs1CavOOEyD",
        "outputId": "0270b8db-12b7-4ab6-8aa4-8ac449255349"
      },
      "outputs": [],
      "source": [
        "for brand in brands:\n",
        "  print('-----------------------------------------------------', brand, '----------------------------------------------------------------------------------------')\n",
        "  linear_regression_model(lagged_stationary_dataframes[brand], brand, stationary = True, use_Lasso = False, use_PCA = True, train_perc = 0.8 )"
      ]
    }
  ],
  "metadata": {
    "colab": {
      "machine_shape": "hm",
      "provenance": []
    },
    "kernelspec": {
      "display_name": "Python 3",
      "name": "python3"
    },
    "language_info": {
      "codemirror_mode": {
        "name": "ipython",
        "version": 3
      },
      "file_extension": ".py",
      "mimetype": "text/x-python",
      "name": "python",
      "nbconvert_exporter": "python",
      "pygments_lexer": "ipython3",
      "version": "3.11.2"
    }
  },
  "nbformat": 4,
  "nbformat_minor": 0
}
